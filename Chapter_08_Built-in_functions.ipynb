{
 "cells": [
  {
   "cell_type": "markdown",
   "id": "b6139345",
   "metadata": {},
   "source": [
    "# Built-in functions\n",
    "Python heeft veel [built-in functions](https://docs.python.org/3/library/functions.html)  \n",
    "Deze functies zijn overal ten alle tijden en in elke scope te gebruiken.  \n",
    "Het zijn geen [keywords](https://docs.python.org/3/reference/lexical_analysis.html#keywords) dus de functies kunnen overschreven worden.  \n",
    "Hieronder wordt de built-in functie `filter` overschreven.  "
   ]
  },
  {
   "cell_type": "code",
   "execution_count": null,
   "id": "2b464666",
   "metadata": {},
   "outputs": [],
   "source": [
    "# overschrijf de built-in functie: `filter`.\n",
    "print(filter)\n",
    "filter = \"filter is geen functie meer\"\n",
    "print(filter)"
   ]
  },
  {
   "cell_type": "markdown",
   "id": "f596eeee-7a5c-4c27-bf14-4d182b323a7a",
   "metadata": {},
   "source": [
    "Als het niet anders kan dan een built-in te overschrijven dan nog is het mogenlijk om de orginele functie te gebruiken.  \n",
    "Python heeft de module [builtins].  \n",
    "Deze module geeft een directe verwijzing naar alle built-ins van Python.  \n",
    "\n",
    "[builtins]: https://docs.python.org/3/library/builtins.html"
   ]
  },
  {
   "cell_type": "code",
   "execution_count": null,
   "id": "6ea67c8a-0d42-4223-b260-7b5afcc9f82c",
   "metadata": {},
   "outputs": [],
   "source": [
    "import builtins\n",
    "\n",
    "print(print)  # hier is print nog niet overschreven.\n",
    "\n",
    "print = \"print is overschreven\"\n",
    "assert isinstance(print, str), \"err: print zou een string moeten zijn\"\n",
    "# geen error, dan is de functie print overschreven.\n",
    "\n",
    "builtins.print(print)  # hier is print nog overschreven.\n",
    "\n",
    "print = builtins.print\n",
    "print(print)  # hier is print niet meer overschreven."
   ]
  },
  {
   "cell_type": "markdown",
   "id": "b03fe048",
   "metadata": {
    "pycharm": {
     "name": "#%% md\n"
    }
   },
   "source": [
    "Hieronder een kleine selectie van functies die belangrijk en/of hulpzaam zijn."
   ]
  },
  {
   "cell_type": "markdown",
   "id": "9ae48480",
   "metadata": {
    "pycharm": {
     "name": "#%% md\n"
    }
   },
   "source": [
    "### [help](https://docs.python.org/3/library/functions.html#help)\n",
    "`help` is een built-in interactieve documentatie _viewer_.  \n",
    "`help` zonder agrumenten start een interactieve sessie.  Dit werkt het beste in een Python console.  \n",
    "Om uit de interactieve sessie te komen kan er `quit` worden getyped.  \n",
    "\n",
    "`help` met een object als argument laat de documentatie/class of functue van het gegeven object zien.  \n",
    "`help` werkt ook met _third-party libraries_ zoals [selenium](https://pypi.org/project/selenium/).  "
   ]
  },
  {
   "cell_type": "code",
   "execution_count": null,
   "id": "4daf27d8",
   "metadata": {
    "collapsed": false,
    "jupyter": {
     "outputs_hidden": false
    },
    "pycharm": {
     "name": "#%%\n"
    }
   },
   "outputs": [],
   "source": [
    "help(dir)"
   ]
  },
  {
   "cell_type": "markdown",
   "id": "3ea30eea",
   "metadata": {
    "pycharm": {
     "name": "#%% md\n"
    }
   },
   "source": [
    "### [dir](https://docs.python.org/3/library/functions.html#dir)\n",
    "`dir` geeft altijd een lijst van strings terug.  \n",
    "`dir` zonder argumenten heeft de huidige variabelen van de huidige scope.  \n",
    "`dir` met een object als argument geeft een lijst met alle attributen van dat object terug.\n"
   ]
  },
  {
   "cell_type": "code",
   "execution_count": null,
   "id": "ecaaa2d2",
   "metadata": {
    "collapsed": false,
    "jupyter": {
     "outputs_hidden": false
    },
    "pycharm": {
     "name": "#%%\n"
    }
   },
   "outputs": [],
   "source": [
    "print(dir(str))"
   ]
  },
  {
   "cell_type": "code",
   "execution_count": null,
   "id": "cabe38ac",
   "metadata": {
    "collapsed": false,
    "jupyter": {
     "outputs_hidden": false
    },
    "pycharm": {
     "name": "#%%\n"
    }
   },
   "outputs": [],
   "source": [
    "local_var = None\n",
    "print(dir())\n",
    "'local_var' in dir()"
   ]
  },
  {
   "cell_type": "markdown",
   "id": "b6de81ac",
   "metadata": {
    "pycharm": {
     "name": "#%% md\n"
    }
   },
   "source": [
    "### [type](https://docs.python.org/3/library/functions.html#type)  \n",
    "`type` verwacht een object als argument en geeft dan het type van het object terug."
   ]
  },
  {
   "cell_type": "code",
   "execution_count": null,
   "id": "1f9d2419",
   "metadata": {
    "collapsed": false,
    "jupyter": {
     "outputs_hidden": false
    },
    "pycharm": {
     "name": "#%%\n"
    }
   },
   "outputs": [],
   "source": [
    "een_string = \"dit is een string\"\n",
    "type(een_string)"
   ]
  },
  {
   "cell_type": "code",
   "execution_count": null,
   "id": "dac0792a",
   "metadata": {
    "collapsed": false,
    "jupyter": {
     "outputs_hidden": false
    },
    "pycharm": {
     "name": "#%%\n"
    }
   },
   "outputs": [],
   "source": [
    "type(print)"
   ]
  },
  {
   "cell_type": "markdown",
   "id": "555028d1",
   "metadata": {
    "pycharm": {
     "name": "#%% md\n"
    }
   },
   "source": [
    "### [print](https://docs.python.org/3/library/functions.html#print)\n",
    "`print` is een handige functie die de gegeven argumenten _uitprint_ in de console.  \n",
    "Alles kan worden uitgeprint met `print`.  \n",
    "`print` heeft een aantal _keyword arguments_ waarmee de printfunctie kan worden aangepast.\n",
    "  "
   ]
  },
  {
   "cell_type": "code",
   "execution_count": null,
   "id": "facd577e",
   "metadata": {
    "collapsed": false,
    "jupyter": {
     "outputs_hidden": false
    },
    "pycharm": {
     "name": "#%%\n"
    }
   },
   "outputs": [],
   "source": [
    "lijst = ['b', 'c']\n",
    "print('a', lijst, {'d': 'e'}, sep=' !! ', end='\\n\\n double newline \\n\\n')"
   ]
  },
  {
   "cell_type": "markdown",
   "id": "be6fa4bb",
   "metadata": {
    "pycharm": {
     "name": "#%% md\n"
    }
   },
   "source": [
    "### [range](https://docs.python.org/3/library/functions.html#func-range)\n",
    "`range` is een functie die een reeks aan getallen kan maken.  \n",
    "`range` wordt vaak gebruikt in loops.  \n",
    "`range` is een [luie](https://nl.wikipedia.org/wiki/Luie_evaluatie) functie.  \n",
    "Dit betekend dat range pas een nummer geeft als de code er om vraagt.  "
   ]
  },
  {
   "cell_type": "code",
   "execution_count": null,
   "id": "be396b29",
   "metadata": {
    "collapsed": false,
    "jupyter": {
     "outputs_hidden": false
    },
    "pycharm": {
     "name": "#%%\n"
    }
   },
   "outputs": [],
   "source": [
    "# range doet op zichzelf niks\n",
    "range(10)"
   ]
  },
  {
   "cell_type": "code",
   "execution_count": null,
   "id": "6109ba14",
   "metadata": {
    "collapsed": false,
    "jupyter": {
     "outputs_hidden": false
    },
    "pycharm": {
     "name": "#%%\n"
    }
   },
   "outputs": [],
   "source": [
    "# maak een lijst met range van 0 tot 10\n",
    "list(range(10))"
   ]
  },
  {
   "cell_type": "code",
   "execution_count": null,
   "id": "9b448a8b",
   "metadata": {
    "collapsed": false,
    "jupyter": {
     "outputs_hidden": false
    },
    "pycharm": {
     "name": "#%%\n"
    }
   },
   "outputs": [],
   "source": [
    "# maak een lijst met range van 1 tot 10 in stappen van 2\n",
    "list(range(1, 10, 2))"
   ]
  },
  {
   "cell_type": "markdown",
   "id": "fcb2f4dc",
   "metadata": {
    "pycharm": {
     "name": "#%% md\n"
    }
   },
   "source": [
    "### [open](https://docs.python.org/3/library/functions.html#open)\n",
    "`open` is een functie die files kan openen/aanmaken waarna deze aan te passen zijn.  \n",
    "Nadat een file is geopend moet deze ook gesloten worden met `.close()`.   \n",
    "Als de file niet netjes wordt gesloten kan het voorkomen dat deze file corrupt raakt.  "
   ]
  },
  {
   "cell_type": "code",
   "execution_count": null,
   "id": "bfefbb6e",
   "metadata": {
    "collapsed": false,
    "jupyter": {
     "outputs_hidden": false
    },
    "pycharm": {
     "name": "#%%\n"
    }
   },
   "outputs": [],
   "source": [
    "# open een file in mode: write\n",
    "open_file = open('new_file.txt', mode='w')\n",
    "open_file.write('text in een nieuw bestand\\n')\n",
    "# sluit de file\n",
    "open_file.close()"
   ]
  },
  {
   "cell_type": "markdown",
   "id": "05b22295-cd9e-4938-8443-e289c735541c",
   "metadata": {
    "pycharm": {
     "name": "#%% md\n"
    }
   },
   "source": [
    "### Oefeningen Built-in functions\n",
    "\n",
    "Opdracht 1:  \n",
    "Bekijk de built-in functions pagina https://docs.python.org/3/library/functions.html.   \n",
    "Onderzoek welke built-in functie een lengte van een object terug geeft     "
   ]
  },
  {
   "cell_type": "code",
   "execution_count": null,
   "id": "8a2036c8-5614-4fc0-81c2-d02efdab6457",
   "metadata": {},
   "outputs": [],
   "source": []
  },
  {
   "cell_type": "markdown",
   "id": "ae4694f2-a6ea-4443-8d63-6a5f1b719ace",
   "metadata": {
    "pycharm": {
     "name": "#%% md\n"
    }
   },
   "source": [
    "Opdracht 2:   \n",
    "Bekijk de help text van range   \n",
    "Maak met range’s start, stop en step argumenten een lijst zoals deze: `[0, 25, 50, 75, 100]`    "
   ]
  },
  {
   "cell_type": "code",
   "execution_count": null,
   "id": "820b64e3-a15f-4a75-9ea1-c0dfc2cd720d",
   "metadata": {},
   "outputs": [],
   "source": []
  }
 ],
 "metadata": {
  "kernelspec": {
   "display_name": "Python 3 (ipykernel)",
   "language": "python",
   "name": "python3"
  },
  "language_info": {
   "codemirror_mode": {
    "name": "ipython",
    "version": 3
   },
   "file_extension": ".py",
   "mimetype": "text/x-python",
   "name": "python",
   "nbconvert_exporter": "python",
   "pygments_lexer": "ipython3",
   "version": "3.10.6"
  }
 },
 "nbformat": 4,
 "nbformat_minor": 5
}
