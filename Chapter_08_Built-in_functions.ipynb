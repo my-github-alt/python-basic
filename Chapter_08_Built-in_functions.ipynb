{
 "cells": [
  {
   "cell_type": "markdown",
   "id": "b6139345",
   "metadata": {},
   "source": [
    "# Built-in functions\n",
    "Python heeft veel [built-in functions](https://docs.python.org/3/library/functions.html)  \n",
    "Deze functies zijn overal ten alle tijden en in elke scope te gebruiken.  \n",
    "Het zijn geen [keywords](https://docs.python.org/3/reference/lexical_analysis.html#keywords) dus de functies kan overschreven worden door een variabele of functie hetzelfde te noemen.  "
   ]
  },
  {
   "cell_type": "code",
   "execution_count": 1,
   "id": "2b464666",
   "metadata": {},
   "outputs": [
    {
     "name": "stdout",
     "output_type": "stream",
     "text": [
      "<class 'filter'>\n",
      "filter is geen functie meer\n"
     ]
    }
   ],
   "source": [
    "# overschrijf de built-in functie: `filter`.\n",
    "print(filter)\n",
    "filter = \"filter is geen functie meer\"\n",
    "print(filter)"
   ]
  },
  {
   "cell_type": "markdown",
   "id": "b03fe048",
   "metadata": {
    "pycharm": {
     "name": "#%% md\n"
    }
   },
   "source": [
    "Hieronder een kleine selectie van functies die belangrijk en/of hulpzaam zijn."
   ]
  },
  {
   "cell_type": "markdown",
   "id": "9ae48480",
   "metadata": {
    "pycharm": {
     "name": "#%% md\n"
    }
   },
   "source": [
    "### [help](https://docs.python.org/3/library/functions.html#help)\n",
    "`help` is een built-in interactieve documentatie _viewer_.  \n",
    "`help` zonder agrumenten start een interactieve sessie.  Dit werkt het beste in een Python console.  \n",
    "Om uit de interactieve sessie te komen kan er `quit` worden getyped.  \n",
    "\n",
    "`help` met een object als argument laat de documentatie/class of functue van het gegeven object zien.  \n",
    "`help` werkt ook met _third-party libraries_ zoals [selenium](https://pypi.org/project/selenium/).  "
   ]
  },
  {
   "cell_type": "code",
   "execution_count": 2,
   "id": "4daf27d8",
   "metadata": {
    "collapsed": false,
    "jupyter": {
     "outputs_hidden": false
    },
    "pycharm": {
     "name": "#%%\n"
    }
   },
   "outputs": [
    {
     "name": "stdout",
     "output_type": "stream",
     "text": [
      "Help on built-in function dir in module builtins:\n",
      "\n",
      "dir(...)\n",
      "    dir([object]) -> list of strings\n",
      "    \n",
      "    If called without an argument, return the names in the current scope.\n",
      "    Else, return an alphabetized list of names comprising (some of) the attributes\n",
      "    of the given object, and of attributes reachable from it.\n",
      "    If the object supplies a method named __dir__, it will be used; otherwise\n",
      "    the default dir() logic is used and returns:\n",
      "      for a module object: the module's attributes.\n",
      "      for a class object:  its attributes, and recursively the attributes\n",
      "        of its bases.\n",
      "      for any other object: its attributes, its class's attributes, and\n",
      "        recursively the attributes of its class's base classes.\n",
      "\n"
     ]
    }
   ],
   "source": [
    "help(dir)"
   ]
  },
  {
   "cell_type": "markdown",
   "id": "3ea30eea",
   "metadata": {
    "pycharm": {
     "name": "#%% md\n"
    }
   },
   "source": [
    "### [dir](https://docs.python.org/3/library/functions.html#dir)\n",
    "`dir` geeft altijd een lijst van strings terug.  \n",
    "`dir` zonder argumenten heeft de huidige variabelen van de huidige scope.  \n",
    "`dir` met een object als argument geeft een lijst met alle attributen van dat object terug.\n"
   ]
  },
  {
   "cell_type": "code",
   "execution_count": 3,
   "id": "ecaaa2d2",
   "metadata": {
    "collapsed": false,
    "jupyter": {
     "outputs_hidden": false
    },
    "pycharm": {
     "name": "#%%\n"
    }
   },
   "outputs": [
    {
     "name": "stdout",
     "output_type": "stream",
     "text": [
      "['__add__', '__class__', '__contains__', '__delattr__', '__dir__', '__doc__', '__eq__', '__format__', '__ge__', '__getattribute__', '__getitem__', '__getnewargs__', '__gt__', '__hash__', '__init__', '__init_subclass__', '__iter__', '__le__', '__len__', '__lt__', '__mod__', '__mul__', '__ne__', '__new__', '__reduce__', '__reduce_ex__', '__repr__', '__rmod__', '__rmul__', '__setattr__', '__sizeof__', '__str__', '__subclasshook__', 'capitalize', 'casefold', 'center', 'count', 'encode', 'endswith', 'expandtabs', 'find', 'format', 'format_map', 'index', 'isalnum', 'isalpha', 'isascii', 'isdecimal', 'isdigit', 'isidentifier', 'islower', 'isnumeric', 'isprintable', 'isspace', 'istitle', 'isupper', 'join', 'ljust', 'lower', 'lstrip', 'maketrans', 'partition', 'removeprefix', 'removesuffix', 'replace', 'rfind', 'rindex', 'rjust', 'rpartition', 'rsplit', 'rstrip', 'split', 'splitlines', 'startswith', 'strip', 'swapcase', 'title', 'translate', 'upper', 'zfill']\n"
     ]
    }
   ],
   "source": [
    "print(dir(str))"
   ]
  },
  {
   "cell_type": "code",
   "execution_count": 4,
   "id": "cabe38ac",
   "metadata": {
    "collapsed": false,
    "jupyter": {
     "outputs_hidden": false
    },
    "pycharm": {
     "name": "#%%\n"
    }
   },
   "outputs": [
    {
     "name": "stdout",
     "output_type": "stream",
     "text": [
      "['In', 'Out', '_', '__', '___', '__builtin__', '__builtins__', '__doc__', '__loader__', '__name__', '__package__', '__spec__', '_dh', '_i', '_i1', '_i2', '_i3', '_i4', '_ih', '_ii', '_iii', '_oh', 'exit', 'filter', 'get_ipython', 'local_var', 'quit']\n"
     ]
    },
    {
     "data": {
      "text/plain": [
       "True"
      ]
     },
     "execution_count": 4,
     "metadata": {},
     "output_type": "execute_result"
    }
   ],
   "source": [
    "local_var = None\n",
    "print(dir())\n",
    "'local_var' in dir()"
   ]
  },
  {
   "cell_type": "markdown",
   "id": "b6de81ac",
   "metadata": {
    "pycharm": {
     "name": "#%% md\n"
    }
   },
   "source": [
    "### [type](https://docs.python.org/3/library/functions.html#type)  \n",
    "`type` verwacht een object als argument en geeft dan het type van het object terug."
   ]
  },
  {
   "cell_type": "code",
   "execution_count": 5,
   "id": "1f9d2419",
   "metadata": {
    "collapsed": false,
    "jupyter": {
     "outputs_hidden": false
    },
    "pycharm": {
     "name": "#%%\n"
    }
   },
   "outputs": [
    {
     "data": {
      "text/plain": [
       "str"
      ]
     },
     "execution_count": 5,
     "metadata": {},
     "output_type": "execute_result"
    }
   ],
   "source": [
    "een_string = \"dit is een string\"\n",
    "type(een_string)"
   ]
  },
  {
   "cell_type": "code",
   "execution_count": 6,
   "id": "dac0792a",
   "metadata": {
    "collapsed": false,
    "jupyter": {
     "outputs_hidden": false
    },
    "pycharm": {
     "name": "#%%\n"
    }
   },
   "outputs": [
    {
     "data": {
      "text/plain": [
       "builtin_function_or_method"
      ]
     },
     "execution_count": 6,
     "metadata": {},
     "output_type": "execute_result"
    }
   ],
   "source": [
    "type(print)"
   ]
  },
  {
   "cell_type": "markdown",
   "id": "555028d1",
   "metadata": {
    "pycharm": {
     "name": "#%% md\n"
    }
   },
   "source": [
    "### [print](https://docs.python.org/3/library/functions.html#print)\n",
    "`print` is een handige functie die de gegeven argumenten _uitprint_ in de console.  \n",
    "Alles kan worden uitgeprint met `print`.  \n",
    "`print` heeft een aantal _keyword arguments_ waarmee de printfunctie kan worden aangepast.\n",
    "  "
   ]
  },
  {
   "cell_type": "code",
   "execution_count": 7,
   "id": "facd577e",
   "metadata": {
    "collapsed": false,
    "jupyter": {
     "outputs_hidden": false
    },
    "pycharm": {
     "name": "#%%\n"
    }
   },
   "outputs": [
    {
     "name": "stdout",
     "output_type": "stream",
     "text": [
      "a !! ['b', 'c'] !! {'d': 'e'}\n",
      "\n",
      " double newline \n",
      "\n"
     ]
    }
   ],
   "source": [
    "lijst = ['b', 'c']\n",
    "print('a', lijst, {'d': 'e'}, sep=' !! ', end='\\n\\n double newline \\n\\n')"
   ]
  },
  {
   "cell_type": "markdown",
   "id": "be6fa4bb",
   "metadata": {
    "pycharm": {
     "name": "#%% md\n"
    }
   },
   "source": [
    "### [range](https://docs.python.org/3/library/functions.html#func-range)\n",
    "`range` is een functie die een reeks aan getallen voorsteld.  \n",
    "`range` wordt vaak gebruikt in loops.  \n",
    "`range` is een [luie](https://nl.wikipedia.org/wiki/Luie_evaluatie) functie.  \n",
    "Dit betekend dat range pas een nummer geeft als de code er om vraagt.  "
   ]
  },
  {
   "cell_type": "code",
   "execution_count": 8,
   "id": "be396b29",
   "metadata": {
    "collapsed": false,
    "jupyter": {
     "outputs_hidden": false
    },
    "pycharm": {
     "name": "#%%\n"
    }
   },
   "outputs": [
    {
     "data": {
      "text/plain": [
       "range(0, 10)"
      ]
     },
     "execution_count": 8,
     "metadata": {},
     "output_type": "execute_result"
    }
   ],
   "source": [
    "# range doet op zichzelf niks\n",
    "range(10)"
   ]
  },
  {
   "cell_type": "code",
   "execution_count": 9,
   "id": "6109ba14",
   "metadata": {
    "collapsed": false,
    "jupyter": {
     "outputs_hidden": false
    },
    "pycharm": {
     "name": "#%%\n"
    }
   },
   "outputs": [
    {
     "data": {
      "text/plain": [
       "[0, 1, 2, 3, 4, 5, 6, 7, 8, 9]"
      ]
     },
     "execution_count": 9,
     "metadata": {},
     "output_type": "execute_result"
    }
   ],
   "source": [
    "# maak een lijst met range van 0 tot 10\n",
    "list(range(10))"
   ]
  },
  {
   "cell_type": "code",
   "execution_count": 10,
   "id": "9b448a8b",
   "metadata": {
    "collapsed": false,
    "jupyter": {
     "outputs_hidden": false
    },
    "pycharm": {
     "name": "#%%\n"
    }
   },
   "outputs": [
    {
     "data": {
      "text/plain": [
       "[1, 3, 5, 7, 9]"
      ]
     },
     "execution_count": 10,
     "metadata": {},
     "output_type": "execute_result"
    }
   ],
   "source": [
    "# maak een lijst met range van 1 tot 10 in stappen van 2\n",
    "list(range(1, 10, 2))"
   ]
  },
  {
   "cell_type": "markdown",
   "id": "fcb2f4dc",
   "metadata": {
    "pycharm": {
     "name": "#%% md\n"
    }
   },
   "source": [
    "### [open](https://docs.python.org/3/library/functions.html#open)\n",
    "`open` is een functie die files kan openen/aanmaken waarna deze aan te passen zijn.  \n",
    "Nadat een file is geopend moet deze ook gesloten worden met `.close()`.   \n",
    "Als de file niet netjes wordt gesloten kan het voorkomen dat deze file corrupt raakt.  "
   ]
  },
  {
   "cell_type": "code",
   "execution_count": 11,
   "id": "bfefbb6e",
   "metadata": {
    "collapsed": false,
    "jupyter": {
     "outputs_hidden": false
    },
    "pycharm": {
     "name": "#%%\n"
    }
   },
   "outputs": [],
   "source": [
    "# open een file in mode: write\n",
    "open_file = open('new_file.txt', mode='w')\n",
    "open_file.write('text in een nieuw bestand\\n')\n",
    "# sluit de file\n",
    "open_file.close()"
   ]
  },
  {
   "cell_type": "markdown",
   "id": "05b22295-cd9e-4938-8443-e289c735541c",
   "metadata": {
    "pycharm": {
     "name": "#%% md\n"
    }
   },
   "source": [
    "### Oefeningen Built-in functions\n",
    "\n",
    "Opdracht 1:  \n",
    "Bekijk de built-in functions pagina https://docs.python.org/3/library/functions.html.   \n",
    "Onderzoek welke built-in functie een lengte van een object terug geeft     "
   ]
  },
  {
   "cell_type": "code",
   "execution_count": null,
   "id": "8a2036c8-5614-4fc0-81c2-d02efdab6457",
   "metadata": {},
   "outputs": [],
   "source": []
  },
  {
   "cell_type": "markdown",
   "id": "ae4694f2-a6ea-4443-8d63-6a5f1b719ace",
   "metadata": {
    "pycharm": {
     "name": "#%% md\n"
    }
   },
   "source": [
    "Opdracht 2:   \n",
    "Bekijk de help text van range   \n",
    "Maak met range’s start, stop en step argumenten een lijst zoals deze: `[0, 25, 50, 75, 100]`    "
   ]
  },
  {
   "cell_type": "code",
   "execution_count": null,
   "id": "820b64e3-a15f-4a75-9ea1-c0dfc2cd720d",
   "metadata": {},
   "outputs": [],
   "source": []
  }
 ],
 "metadata": {
  "kernelspec": {
   "display_name": "Python 3 (ipykernel)",
   "language": "python",
   "name": "python3"
  },
  "language_info": {
   "codemirror_mode": {
    "name": "ipython",
    "version": 3
   },
   "file_extension": ".py",
   "mimetype": "text/x-python",
   "name": "python",
   "nbconvert_exporter": "python",
   "pygments_lexer": "ipython3",
   "version": "3.9.6"
  }
 },
 "nbformat": 4,
 "nbformat_minor": 5
}
