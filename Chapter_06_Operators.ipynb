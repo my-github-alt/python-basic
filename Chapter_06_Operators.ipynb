{
 "cells": [
  {
   "cell_type": "markdown",
   "id": "dd477254",
   "metadata": {},
   "source": [
    "# Operators\n",
    "Het gebruik van tekens en/of keywords om expressies te maken."
   ]
  },
  {
   "cell_type": "markdown",
   "id": "673d20be",
   "metadata": {},
   "source": [
    "## [Comparison operators](https://docs.python.org/3/library/stdtypes.html#comparisons)\n",
    "Ook wel [relational operators](https://en.wikipedia.org/wiki/Relational_operator#Standard_relational_operators) genoemd.  \n",
    "\n",
    "Deze operators worden veelal gebruikt met cijfers.  \n",
    "\n",
    "`<` kleiner dan.  \n",
    "`>` groter dan.  \n",
    "`==` is gelijk aan.  \n",
    "`>=` groter of gelijk aan.  \n",
    "`<=` kleiner of gelijk aan.  \n",
    "`!=` niet gelijk aan.  "
   ]
  },
  {
   "cell_type": "code",
   "execution_count": null,
   "id": "333bf411",
   "metadata": {},
   "outputs": [],
   "source": [
    "boolean = 1 < 2   # 1 is kleiner dan 2\n",
    "print(boolean)"
   ]
  },
  {
   "cell_type": "code",
   "execution_count": null,
   "id": "9b9b5d0a",
   "metadata": {},
   "outputs": [],
   "source": [
    "boolean = 2 > 1   # 2 is groter dan 1\n",
    "print(boolean)"
   ]
  },
  {
   "cell_type": "code",
   "execution_count": null,
   "id": "c9b4fce3",
   "metadata": {},
   "outputs": [],
   "source": [
    "boolean = 3 == 3   # 3 is gelijk aan 3\n",
    "print(boolean)"
   ]
  },
  {
   "cell_type": "code",
   "execution_count": null,
   "id": "1add8c81",
   "metadata": {},
   "outputs": [],
   "source": [
    "boolean = 4 >= 4   # 4 is groter of gelijk aan 4\n",
    "print(boolean)"
   ]
  },
  {
   "cell_type": "code",
   "execution_count": null,
   "id": "bffe5d0b",
   "metadata": {},
   "outputs": [],
   "source": [
    "boolean = 5 <= 6   # 5 is kleiner of gelijk aan 6\n",
    "print(boolean)"
   ]
  },
  {
   "cell_type": "code",
   "execution_count": null,
   "id": "95dc6b6c",
   "metadata": {},
   "outputs": [],
   "source": [
    "boolean = 6 != 7   # 6 is niet gelijk aan 7\n",
    "print(boolean)"
   ]
  },
  {
   "cell_type": "markdown",
   "id": "75a19e71-533b-43a3-8768-82ff54a80681",
   "metadata": {},
   "source": [
    "Ook strings kunnen gebruikt worden in Comparison operators"
   ]
  },
  {
   "cell_type": "code",
   "execution_count": null,
   "id": "4d2e7768-de9d-4475-adad-536c09778c4f",
   "metadata": {},
   "outputs": [],
   "source": [
    "een_string = \"A\"\n",
    "boolean = 'a' == een_string.lower()\n",
    "print(boolean)"
   ]
  },
  {
   "cell_type": "markdown",
   "id": "eb22ef49",
   "metadata": {},
   "source": [
    "#### Chained operators\n",
    "De comparison operators kunnen ook aan elkaar geregen worden.\n",
    "\n",
    "De expressie  \n",
    "    `1 < 2 and 2 < 3 and 3 <= 4`  \n",
    "kan geschreven worden als  \n",
    "    `1 < 2 < 3 <= 4`"
   ]
  },
  {
   "cell_type": "code",
   "execution_count": null,
   "id": "a4ecafbc",
   "metadata": {},
   "outputs": [],
   "source": [
    "boolean = 1 < 2 < 3\n",
    "print(boolean)"
   ]
  },
  {
   "cell_type": "code",
   "execution_count": null,
   "id": "44f52aef",
   "metadata": {},
   "outputs": [],
   "source": [
    "boolean = 2 > 1 > 0\n",
    "print(boolean)"
   ]
  },
  {
   "cell_type": "code",
   "execution_count": null,
   "id": "0a2e2d46",
   "metadata": {},
   "outputs": [],
   "source": [
    "boolean = 3 == 3 != 4\n",
    "print(boolean)"
   ]
  },
  {
   "cell_type": "code",
   "execution_count": null,
   "id": "c392a287",
   "metadata": {},
   "outputs": [],
   "source": [
    "boolean = 4 >= 3 <= 4\n",
    "print(boolean)"
   ]
  },
  {
   "cell_type": "code",
   "execution_count": null,
   "id": "08b1635e",
   "metadata": {},
   "outputs": [],
   "source": [
    "boolean = 5 <= 5 <= 6\n",
    "print(boolean)"
   ]
  },
  {
   "cell_type": "code",
   "execution_count": null,
   "id": "edfb9a77",
   "metadata": {},
   "outputs": [],
   "source": [
    "boolean = 6 != 7 == 7\n",
    "print(boolean)"
   ]
  },
  {
   "cell_type": "markdown",
   "id": "a610083f",
   "metadata": {},
   "source": [
    "## [Membership operator](https://docs.python.org/3/reference/expressions.html?#membership-test-operations)\n",
    "`in` is het keyword dat gebruikt wordt om de _membership_ van een object te testen.\n",
    "\n",
    "Met `in` kan je testen of een waarde voorkomt in een data container zoals een `list`, of de keys van een `dict`.  \n",
    "Maar ook, zoals hieronder, een woord in een zin. "
   ]
  },
  {
   "cell_type": "code",
   "execution_count": null,
   "id": "4351d13a",
   "metadata": {},
   "outputs": [],
   "source": [
    "woord = \"Python\"\n",
    "zin = \"Test de membership van objecten met Python\"\n",
    "\n",
    "# Test dat het woord voorkomt in de zin\n",
    "boolean = woord in zin\n",
    "print(boolean)"
   ]
  },
  {
   "cell_type": "code",
   "execution_count": null,
   "id": "8cc929f0",
   "metadata": {},
   "outputs": [],
   "source": [
    "nummer = 2\n",
    "tuple_met_cijfers = (1, nummer, 3)\n",
    "\n",
    "# Test dat nummer 2 voorkomt in de tuple met cijfers\n",
    "boolean = 2 in tuple_met_cijfers\n",
    "print(boolean)"
   ]
  },
  {
   "cell_type": "markdown",
   "id": "a8dfd880",
   "metadata": {},
   "source": [
    "## [Identity operator](https://docs.python.org/3/reference/expressions.html?#is)\n",
    "`is` is het keyword dat gebruikt wordt om de identiteit van twee objecten te vergelijken.\n",
    "\n",
    "Python gebruikt onder de 'motorkap' de taal [C] om de computer aan te sturen.  \n",
    "De objecten van Python worden opgeslagen in het werkgeheugen van de computer.  \n",
    "Deze objecten hebben een memory-adres waarmee ze naar hun waarde verwijzen.  \n",
    "\n",
    "Met de [`id`](https://docs.python.org/3/library/functions.html#id) functie kan de het adres worden opgevraagd.  \n",
    "\n",
    "`is` vergelijkt de addressen van de objecten in het werkgeheugen.   \n",
    "`obj is obj` is te vergelijken met `id(obj) == id(obj)`\n",
    "\n",
    "[C]: https://nl.wikipedia.org/wiki/C_(programmeertaal)"
   ]
  },
  {
   "cell_type": "markdown",
   "id": "f6c785f1",
   "metadata": {},
   "source": [
    "`is` wordt veel gebruikt om  te checken of een variabele `None` is.\n",
    "`None` is een [_singleton_], wat betekend dat er maar één van is. \n",
    "\n",
    "[_singleton_]: https://nl.wikipedia.org/wiki/Singleton_(ontwerppatroon)"
   ]
  },
  {
   "cell_type": "code",
   "execution_count": null,
   "id": "6cf40a9f",
   "metadata": {},
   "outputs": [],
   "source": [
    "verwijzing_naar_none = None\n",
    "boolean = verwijzing_naar_none is None\n",
    "print(boolean)"
   ]
  },
  {
   "cell_type": "code",
   "execution_count": null,
   "id": "833eeb31",
   "metadata": {},
   "outputs": [],
   "source": [
    "# Elke functie die geen `return` heeft, geeft None terug.\n",
    "result_print = print('dit is geprint')\n",
    "boolean = result_print is verwijzing_naar_none\n",
    "print(boolean)"
   ]
  },
  {
   "cell_type": "code",
   "execution_count": null,
   "id": "370687ff",
   "metadata": {},
   "outputs": [],
   "source": [
    "# Voorbeeld dat None een singleton is, en dus naar hetzelfde adres verwijst.\n",
    "id_verwijzing_naar_none = id(verwijzing_naar_none)\n",
    "id_result_print = id(result_print)\n",
    "\n",
    "print(id_verwijzing_naar_none)   # print uit de adressen van de variables\n",
    "print(id_result_print)\n",
    "\n",
    "boolean = id(verwijzing_naar_none) == id(result_print)\n",
    "print(boolean)"
   ]
  },
  {
   "cell_type": "markdown",
   "id": "285e2eb7",
   "metadata": {},
   "source": [
    "Python probeert zo efficient mogenlijk te zijn en verwijst eerder naar objecten dan dat er nieuwe wordt aangemaakt."
   ]
  },
  {
   "cell_type": "code",
   "execution_count": null,
   "id": "822db5b5",
   "metadata": {},
   "outputs": [],
   "source": [
    "# Hoe verwijzingen het origineel kan aanpassen.\n",
    "dict_1 = {'key': 'value'}\n",
    "dict_2 = dict_1\n",
    "dict_3 = dict_1.copy()  # gebruik de `copy` functie van dict\n",
    "\n",
    "del dict_2['key']  # delete de key uit dict_2\n",
    "print(dict_1)  # check de inhoud van dict_1"
   ]
  },
  {
   "cell_type": "code",
   "execution_count": null,
   "id": "8f7a0b9e",
   "metadata": {},
   "outputs": [],
   "source": [
    "print(dict_3)  # check de inhoud van dict_3"
   ]
  },
  {
   "cell_type": "code",
   "execution_count": null,
   "id": "65d9276d",
   "metadata": {},
   "outputs": [],
   "source": [
    "# hieronder de expressie die test welke dicts naar elkaar verwijzen.\n",
    "boolean = dict_1 is dict_2 is not dict_3\n",
    "print(boolean)"
   ]
  },
  {
   "cell_type": "markdown",
   "id": "62b33fc4",
   "metadata": {},
   "source": [
    "## [Boolean operators](https://docs.python.org/3/reference/expressions.html?#boolean-operations)\n",
    "\n",
    "`and` [conjunctie](https://nl.wikipedia.org/wiki/Logische_conjunctie)  \n",
    "`or` [disjunctie](https://nl.wikipedia.org/wiki/Logische_disjunctie)  \n",
    "`not` [negatie](https://nl.wikipedia.org/wiki/Logische_negatie)  "
   ]
  },
  {
   "cell_type": "code",
   "execution_count": null,
   "id": "196408b7",
   "metadata": {},
   "outputs": [],
   "source": [
    "# variabelen voor de voorbeelden hieronder\n",
    "kleur_auto_1 = 'rood'\n",
    "kleur_auto_2 = 'groen'"
   ]
  },
  {
   "cell_type": "markdown",
   "id": "3daffc07",
   "metadata": {},
   "source": [
    "### and\n",
    "De `and` geeft aan dat er meerdere expressies waar moet zijn om een `True` terug te krijgen.  \n",
    "Als er ook maar één van de expressies onwaar is wordt het als een `False` beschouwd.  "
   ]
  },
  {
   "cell_type": "code",
   "execution_count": null,
   "id": "b9daf65a",
   "metadata": {},
   "outputs": [],
   "source": [
    "# beide expressies moeten `True` hebben om `True` te krijgen\n",
    "boolean = kleur_auto_1 == 'rood' and kleur_auto_2 == 'groen'  # True\n",
    "print(boolean)"
   ]
  },
  {
   "cell_type": "code",
   "execution_count": null,
   "id": "0cac1c24",
   "metadata": {},
   "outputs": [],
   "source": [
    "boolean = kleur_auto_1 == 'rood' and kleur_auto_2 == 'paars'  # False\n",
    "print(boolean)"
   ]
  },
  {
   "cell_type": "markdown",
   "id": "cfa5f146",
   "metadata": {},
   "source": [
    "### or\n",
    "De `or` geeft aan dat een enkele expressies waar moet zijn om een `True` terug te krijgen.  \n",
    "De expressie wordt `False` als alle expressies onwaar zijn.  "
   ]
  },
  {
   "cell_type": "code",
   "execution_count": null,
   "id": "e2c51c0a",
   "metadata": {},
   "outputs": [],
   "source": [
    "boolean = kleur_auto_1 == 'oranje' or kleur_auto_2 == 'groen'  # True\n",
    "print(boolean)"
   ]
  },
  {
   "cell_type": "code",
   "execution_count": null,
   "id": "5bc0e60d",
   "metadata": {},
   "outputs": [],
   "source": [
    "boolean = kleur_auto_1 == 'oranje' or kleur_auto_2 == 'paars'  # False\n",
    "print(boolean)"
   ]
  },
  {
   "cell_type": "markdown",
   "id": "87632285",
   "metadata": {},
   "source": [
    "### not\n",
    "De `not` geeft aan dat de expressie onwaar moet zijn om een `True` te worden.  \n",
    "`not True` is `False` en `not False` is `True`"
   ]
  },
  {
   "cell_type": "code",
   "execution_count": null,
   "id": "b5383073",
   "metadata": {},
   "outputs": [],
   "source": [
    "bool_1 = kleur_auto_1 == 'oranje'  # False\n",
    "bool_2 = kleur_auto_2 == 'groen'  # True\n",
    "boolean = not bool_1 and bool_2  # True\n",
    "print(boolean)"
   ]
  },
  {
   "cell_type": "code",
   "execution_count": null,
   "id": "6a46e91f",
   "metadata": {},
   "outputs": [],
   "source": [
    "value = None\n",
    "boolean = value is not None\n",
    "print(boolean)"
   ]
  },
  {
   "cell_type": "markdown",
   "id": "051cce2b",
   "metadata": {},
   "source": [
    "### Oefeningen Operators"
   ]
  },
  {
   "cell_type": "markdown",
   "id": "9818ffc1-661b-44cf-a2a5-f35b53e0ab83",
   "metadata": {},
   "source": [
    "### Chained operators opdracht\n",
    "Pas de variabelen  `x`, `y` en `z`  zo aan dat er geen `AssertionError` meer voorkomt."
   ]
  },
  {
   "cell_type": "code",
   "execution_count": null,
   "id": "bf42c30e-7c16-4a12-866c-d175b0ed6128",
   "metadata": {},
   "outputs": [],
   "source": [
    "x = -5  \n",
    "y = 500  \n",
    "z = 100  \n",
    "\n",
    "# hieronder een ketting aan comparisons \n",
    "boolean_value = bool(x >= 0 < y < 100 < z) \n",
    "assert boolean_value, f\"{x} >= 0 < {y} < 100 < {z}\" "
   ]
  },
  {
   "cell_type": "markdown",
   "id": "8a976831-a18e-4d56-ad8a-d5efbb9ba6ed",
   "metadata": {},
   "source": [
    "### Membership operator opdracht\n",
    "Pas de `assert` hieronder aan zodat deze geen `AssertionError` meer geeft."
   ]
  },
  {
   "cell_type": "code",
   "execution_count": null,
   "id": "ea2e5325-e8d3-4f3f-b8fe-7292fcad9b3a",
   "metadata": {},
   "outputs": [],
   "source": [
    "een_dict = {\"key\": \"value\", \"andere_key\": \"andere_value\"} \n",
    "err_msg = \"dit gaat fout omdat 'in' de keys van de dict bekijkt. gebruik een_dict.values()\"  \n",
    "\n",
    "# zorg dat deze assert statement geen error geeft\n",
    "assert \"value\" in een_dict, err_msg  "
   ]
  },
  {
   "cell_type": "markdown",
   "id": "ced989f0-ac52-4a90-bca9-1a51a1646ccc",
   "metadata": {},
   "source": [
    "### Identity operator opdracht\n",
    "Gebruik het `is` statement om te testen welke van de volgende lijsten naar elkaar verwijzen "
   ]
  },
  {
   "cell_type": "code",
   "execution_count": null,
   "id": "a7ee6973-3862-4420-ae51-2fd827307711",
   "metadata": {},
   "outputs": [],
   "source": [
    "lijst_1 = ['a', 'b', 'c'] \n",
    "lijst_2 = lijst_1 \n",
    "lijst_3 = lijst_1.copy()  "
   ]
  },
  {
   "cell_type": "markdown",
   "id": "37064164-1975-4bf8-8468-f91cac0acbf8",
   "metadata": {},
   "source": [
    "### Extra Chained operators opdrachten"
   ]
  },
  {
   "cell_type": "code",
   "execution_count": null,
   "id": "3d324c10-56ce-48c7-be91-88e72b6e5456",
   "metadata": {},
   "outputs": [],
   "source": [
    "# opdracht comparison chain 1 \n",
    "\n",
    "a = 1000 \n",
    "b = 1000 \n",
    "c = 1000 \n",
    "d = 1000 \n",
    "assert a >= a - b < c > d, f\"{a} >= {a - b} < {c} > {d}\" "
   ]
  },
  {
   "cell_type": "code",
   "execution_count": null,
   "id": "6de480db-c790-42c6-a72c-5643283ebbf8",
   "metadata": {},
   "outputs": [],
   "source": [
    "# opdracht comparison chain 2 \n",
    "\n",
    "e = 1000 \n",
    "f = 1000 \n",
    "g = 1000 \n",
    "h = 1000 \n",
    "assert e >= f > g < h > g < f <= e, f\"{e} >= {f} > {g} < {h} > {g} < {f} <= {e}\" "
   ]
  },
  {
   "cell_type": "code",
   "execution_count": null,
   "id": "9e74b7c3-ebde-42e1-9440-851b31a2f8f5",
   "metadata": {},
   "outputs": [],
   "source": [
    "# opdracht comparison chain 3 \n",
    "\n",
    "aa = 1000 \n",
    "bb = 1000 \n",
    "cc = 1000 \n",
    "assert 100 < bb == 200 <= cc < aa > 100, f\"100 < {bb} == 200 <= {cc} < {aa} > 100\" "
   ]
  },
  {
   "cell_type": "code",
   "execution_count": null,
   "id": "625e560a-0eca-4960-be5a-198eca29e7a1",
   "metadata": {},
   "outputs": [],
   "source": [
    "# opdracht comparison chain voor gevorderde 1 \n",
    "\n",
    "h = 1000 \n",
    "i = 1000 \n",
    "j = 1000 \n",
    "k = 1000 \n",
    "assert (j != i > k) != (k < j < h), f\"({j} != {i} > {k}) != ({k} < {j} < {h})\" "
   ]
  },
  {
   "cell_type": "code",
   "execution_count": null,
   "id": "e3d7f713-bea4-4e2c-b49a-c9aeb309dcc1",
   "metadata": {},
   "outputs": [],
   "source": [
    "# opdracht comparison chain voor gevorderde 2 \n",
    "\n",
    "u = 1000 \n",
    "i = 1000 \n",
    "o = 1000 \n",
    "p = 1000 \n",
    "assert int(u >= i > o) < p == p < u, f\"int({u} >= {i} > {o}) < {p} == {p} < {u}\" "
   ]
  }
 ],
 "metadata": {
  "kernelspec": {
   "display_name": "Python 3 (ipykernel)",
   "language": "python",
   "name": "python3"
  },
  "language_info": {
   "codemirror_mode": {
    "name": "ipython",
    "version": 3
   },
   "file_extension": ".py",
   "mimetype": "text/x-python",
   "name": "python",
   "nbconvert_exporter": "python",
   "pygments_lexer": "ipython3",
   "version": "3.10.6"
  }
 },
 "nbformat": 4,
 "nbformat_minor": 5
}
