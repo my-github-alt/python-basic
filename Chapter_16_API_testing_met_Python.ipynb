{
 "cells": [
  {
   "cell_type": "markdown",
   "id": "e39faeb9-c51d-46ab-96ea-4bdd07bbf8c7",
   "metadata": {},
   "source": [
    "# API testing met Python"
   ]
  },
  {
   "cell_type": "code",
   "execution_count": null,
   "id": "ac0397d3-504b-4d7b-ae4d-35f3e62daf93",
   "metadata": {
    "tags": []
   },
   "outputs": [],
   "source": [
    "%%capture\n",
    "!python -m pip install --upgrade pip pytest pytest-tags ipytest requests \n",
    "\n",
    "import pytest\n",
    "import requests\n",
    "\n",
    "# alleen nodig in dit notebook\n",
    "import ipytest\n",
    "ipytest.autoconfig()\n",
    "ipytest.config()\n",
    "pytest_main = lambda opts: (ipytest.run(addopts=opts), ipytest.clean())[0]"
   ]
  },
  {
   "cell_type": "code",
   "execution_count": null,
   "id": "6e51e97a-bfa3-40b9-b5d0-b6330529b7e4",
   "metadata": {
    "tags": []
   },
   "outputs": [],
   "source": [
    "%%html\n",
    "<style> /* Alle markdown tabellen links uitlijnen */ table { float: left } </style>"
   ]
  },
  {
   "cell_type": "markdown",
   "id": "1a44b0bf-a8f1-4383-a717-89561fd0150e",
   "metadata": {},
   "source": [
    "# Wat is een API\n",
    "\n",
    "_Een application programming interface, afgekort tot API, is een verzameling definities op basis waarvan een computerprogramma kan communiceren met een ander programma of onderdeel..._ <sub>bron: <a href=https://nl.wikipedia.org/wiki/Application_programming_interface>Wikipedia</a></sub>\n",
    "\n",
    "In dit chapter bespreken wij hoe we de API's voor websites kunnen testen met Python.  \n",
    "We houden het beperkt tot één enkele vorm van: [REST][1]  \n",
    "\n",
    "[1]: https://nl.wikipedia.org/wiki/Representational_state_transfer"
   ]
  },
  {
   "cell_type": "markdown",
   "id": "764027e0-87cb-4fb1-a53e-9f71dc696bbe",
   "metadata": {},
   "source": [
    "# Hoe gebruik ik een API\n",
    "\n",
    "Om een API te gebruiken moeten we weten waar we [HTTP messages][1] heen moeten sturen.  \n",
    "Het adres wat aangesproken moet worden heet een _[API endpoint][2]_.  \n",
    "Als we weten waar we heen moeten [rest][3] ons de volgende vraag:  \n",
    "&nbsp; Hoe stuur ik mijn vraag voor data naar de endpoint?\n",
    "\n",
    "# Hoe gebruik ik een endpoint\n",
    "\n",
    "Er zijn [vele][4] [manieren][5] om een API te bouwen, daarvoor zijn er ook vele manieren om een API te gebruiken.  \n",
    "In profressionele organisaties is er documentatie van de API of is het gespecificeerd in een [gestandaardiseerd format][6]\n",
    "Maar voornamenlijk wordt een API endpoint gebouwt om de volgende data (of combinatie daarvan) te ontvangen.  \n",
    "\n",
    "1. HTTP Method\n",
    "1. Headers\n",
    "1. Body\n",
    "1. URL + query\n",
    "1. Cookies\n",
    "\n",
    "\n",
    "[1]: https://developer.mozilla.org/en-US/docs/Web/HTTP/Messages\n",
    "[2]: https://smartbear.com/learn/performance-monitoring/api-endpoints/\n",
    "[3]: https://developer.mozilla.org/en-US/docs/Glossary/REST\n",
    "[4]: https://octo-woapi.github.io/cookbook/\n",
    "[5]: https://restcookbook.com/\n",
    "[6]: https://www.openapis.org/\n",
    "[7]: https://openapi-generator.tech/"
   ]
  },
  {
   "cell_type": "markdown",
   "id": "657b995b-9498-4fe0-81c6-4d5475420a29",
   "metadata": {},
   "source": [
    "Een overzicht van de meest gebruikte [HTTP Methods][1].\n",
    "\n",
    "| HTTP Method | Actie op de Server             | Database actie (CRUD) |\n",
    "|:------------|:-------------------------------|:----------------------|\n",
    "| POST        | Verstuur data naar de Server   | Create                |\n",
    "| GET         | Verkrijg de data van de Server | Read                  |\n",
    "| PUT         | Update de data op de Server    | Update                |\n",
    "| DELETE      | Verwijder de data op de Server | Delete                |\n",
    "\n",
    "[1]: https://developer.mozilla.org/en-US/docs/Web/HTTP/Methods"
   ]
  },
  {
   "cell_type": "markdown",
   "id": "be4dbb74-302b-486b-9d87-b6648ccf579c",
   "metadata": {
    "tags": []
   },
   "source": [
    "Een overzicht hoe een [URL][1] is opgebouwd.\n",
    "\n",
    "Voorbeeld: https://www.example.com:443/some/path?single&this=query&key=value#fragment-on-site\n",
    "\n",
    "\n",
    "| Onderdelen van een URL | Beschrijving                                                                                                | Onderdeel                   |\n",
    "|:-----------------------|:------------------------------------------------------------------------------------------------------------|:----------------------------|\n",
    "| Scheme                 | Geeft het protocol aan dat door de URL wordt gebruikt, zoals HTTP, HTTPS, FTP of andere                     | https                       |\n",
    "| Netloc                 | Bevat de domeinnaam of het IP-adres van de server en kan ook het poortnummer bevatten                       | www.example.com             |\n",
    "| Port                   | Bevat een nummer dat specificeert welke poort op de server wordt aangesproken                               | 443                         |\n",
    "| Path                   | Identificeert de specifieke bron die wordt opgevraagd, zoals een webpagina, afbeelding of bestand           | /some/path                  |\n",
    "| Query                  | Bevat aanvullende parameters die het verzoek wijzigen, zoals zoektermen of filters                          | single&this=query&key=value |\n",
    "| Fragment               | Identificeert een specifieke sectie of locatie op de opgevraagde bron, zoals een anker tag op een webpagina | fragment-on-site            |\n",
    "\n",
    "\n",
    "[1]: https://www.rfc-editor.org/rfc/rfc1738"
   ]
  },
  {
   "cell_type": "markdown",
   "id": "03ec1f71-a09a-4801-bcdd-a2007930e3ce",
   "metadata": {},
   "source": [
    "Het is de taak van de client om de request goed op te bouwen om het verwachte response terug te krijgen.  \n",
    "\n",
    "Na het versturen van een request naar de endpoint geeft de server een response terug.  \n",
    "De server kan op veel verschillende manieren data terug naar de client sturen.  \n",
    "De response van een server bevat meestal de volgende data (of combinatie daarvan) \n",
    "\n",
    "1. HTTP Status code\n",
    "1. HTTP Method\n",
    "1. Headers\n",
    "1. Body\n",
    "1. URL + query\n",
    "1. Cookies"
   ]
  },
  {
   "cell_type": "markdown",
   "id": "9aba8fb0-9cd5-44d5-bcff-bd2a649aac57",
   "metadata": {},
   "source": [
    "Een overzicht van de [HTTP response status codes][1] die de server terug kan geven\n",
    "\n",
    "| HTTP response status code | Betekenis         |\n",
    "|:--------------------------|:------------------|\n",
    "| 100 - 199                 | Informatief       |\n",
    "| 200 - 299                 | Request succesvol |\n",
    "| 300 - 399                 | Request omgeleidt |\n",
    "| 400 - 499                 | Client error      |\n",
    "| 500 - 599                 | Server error      |\n",
    "\n",
    "\n",
    "[1]: https://developer.mozilla.org/en-US/docs/Web/HTTP/Status"
   ]
  },
  {
   "cell_type": "markdown",
   "id": "2fd08634-8214-410b-800e-67cb720f7392",
   "metadata": {
    "tags": []
   },
   "source": [
    "# Hoe verstuur ik een request naar een endpoint\n",
    "\n",
    "In dit chapter houden we het bespreken we één enkele method: [GET][1].  \n",
    "Browsers doen voornamelijk GET calls naar een server om bijvoorbeeld de [HTML][2] op te vragen van een website. \n",
    "\n",
    "De combinatie van een GET request, een URL en een specifieke query kan gebruikt worden om de meest simpele API's aan te roepen.  \n",
    "Bijvoorbeeld:  https://wttr.in/Veenendaal?m&2&F&lang=nl\n",
    "\n",
    "\n",
    "# Hoe gebruik ik Python om een request te maken naar een API\n",
    "Een gebruiksvriendelijke [module][3] om internet verkeer tot stand te brengen komt niet met Python mee geinstalleerd.  \n",
    "Er zijn externe modules die dit beter kunnen doen, deze zijn gewoon met [PIP][4] te installeren.  \n",
    "\n",
    "Maar een request maken zonder dependencies is wel mogenlijk, maar het is langdradig ofwel _verbose_.  \n",
    "Hieronder een voorbeeld.\n",
    "\n",
    "\n",
    "[1]: https://developer.mozilla.org/en-US/docs/Web/HTTP/Methods/GET\n",
    "[2]: https://developer.mozilla.org/en-US/docs/Web/HTML\n",
    "[3]: https://docs.python.org/3/library/urllib.html\n",
    "[4]: https://pypi.org/project/pip/"
   ]
  },
  {
   "cell_type": "code",
   "execution_count": null,
   "id": "00f72efa-cf51-4d8d-bf31-64984a65b504",
   "metadata": {},
   "outputs": [],
   "source": [
    "from http.client import HTTPResponse\n",
    "from urllib.parse import urlencode, urlunparse, ParseResult, parse_qsl\n",
    "from urllib.request import Request, urlopen\n",
    "\n",
    "\n",
    "# Uitendelijke url:\n",
    "#   https://wttr.in/Veenendaal?m2&F&A&lang=nl\n",
    "\n",
    "# query codes zijn hier uitgeschreven:  https://wttr.in/:help \n",
    "query: dict = {\n",
    "    'm': '',        # metric (SI)\n",
    "    '2': '',        # current weather + today's + tomorrow's forecast\n",
    "    'F': '',        # do not show the \"Follow\" line\n",
    "    'A': '',        # ignore User-Agent and force ANSI output format (terminal)\n",
    "    'lang': 'nl'    # Localization\n",
    "}\n",
    "\n",
    "# creëer de url\n",
    "url: str = urlunparse(ParseResult(\n",
    "    scheme   = 'https',\n",
    "    netloc   = 'wttr.in',\n",
    "    path     = '/Veenendaal',\n",
    "    query    = urlencode(query),    # parse de dict naar een query url part\n",
    "    params   = None,\n",
    "    fragment = None,\n",
    "))\n",
    "\n",
    "# maak een request aan\n",
    "request = Request(url, method='GET')\n",
    "\n",
    "# verstuur het request\n",
    "response: HTTPResponse = urlopen(request)\n",
    "\n",
    "# check of de request door de server succesvol is afgehandeld\n",
    "assert response.code == 200\n",
    "\n",
    "# lees de data uit de response\n",
    "data = bytes.decode(response.read())\n",
    "\n",
    "# weergeef de data\n",
    "print(data)"
   ]
  },
  {
   "cell_type": "markdown",
   "id": "b6453e6c-0220-410d-891e-41f464a1cdcd",
   "metadata": {},
   "source": [
    "## Betere modules om requests mee te maken\n",
    "\n",
    "[requests][1] is de meest gebruikte module om met Python het internet op te gaan.  \n",
    "Het is een module die niet [asynchroon][2] kan worden gebruikt.  \n",
    "[httpx][3] is een andere module voor om requests te maken die wel asynchroon gebruikt kan worden.  \n",
    "\n",
    "In dit chapter houden we het gemakkelijk en synchroon door [requests][2] te gebruiken.\n",
    "\n",
    "\n",
    "[1]: https://requests.readthedocs.io/en/latest/\n",
    "[2]: https://docs.python.org/3/library/asyncio.html\n",
    "[3]: https://www.python-httpx.org/"
   ]
  },
  {
   "cell_type": "code",
   "execution_count": null,
   "id": "e8807467-699f-4b35-a8b1-1b3683095c26",
   "metadata": {
    "tags": []
   },
   "outputs": [],
   "source": [
    "import requests\n",
    "from requests import Response\n",
    "\n",
    "# verstuur het request\n",
    "res: Response = requests.get('https://wttr.in/Veenendaal', params={'m': '', '2': '', 'F': '', 'A': '', 'lang': 'nl'})\n",
    "\n",
    "# check of de request door de server succesvol is afgehandeld\n",
    "assert res.ok\n",
    "\n",
    "# weergeef de data\n",
    "print(res.text)"
   ]
  },
  {
   "cell_type": "markdown",
   "id": "5a994d2c-079f-4ae8-ae1b-ae00e9ef6e1d",
   "metadata": {},
   "source": [
    "# Testen maken in Python\n",
    "\n",
    "Python heeft zelf een aantal modules ([unittest][1] [doctest][2]) waarmee je testen kan maken.  \n",
    "\n",
    "De unittest module is oud, ouder dan [PEP-8][3], en gebaseerd op de unittest library van [Java][4]: [JUnit][5].  \n",
    "Om een simpele testcase te maken moet je gebruik maken van [inheritance][6].  \n",
    "\n",
    "Doctest wordt gebruikt om programeer snippets in [docstrings][7] te testen.  \n",
    "De doctest _gimmick_ is niet handig te gebruiken bij grotere testcases.\n",
    "\n",
    "De meest gebruikte Third-party library om met Python te testen is [pytest][8].  \n",
    "Deze module is ook gewoon met [PIP][9] te installeren.  \n",
    "De testcases in pytest is een functie waarvan de naam begint met **test**.  \n",
    "En met pytest kan je waardes gewoon met [assert][10] testen.  \n",
    "\n",
    "Voorbeeld van een unittest met pytest.  \n",
    "\n",
    "\n",
    "[1]:  https://docs.python.org/3/library/unittest.html\n",
    "[2]:  https://docs.python.org/3/library/doctest.html\n",
    "[3]:  https://peps.python.org/pep-0008/ \"Style Guide for Python Code\"\n",
    "[4]:  https://nl.wikipedia.org/wiki/Java_(programmeertaal)\n",
    "[5]:  https://junit.org/\n",
    "[6]:  https://nl.wikipedia.org/wiki/Overerving_(informatica)\n",
    "[7]:  https://docs.python.org/3/glossary.html#term-docstring\n",
    "[8]:  https://docs.pytest.org/\n",
    "[9]:  https://pypi.org/project/pytest/\n",
    "[10]: https://docs.python.org/3/reference/simple_stmts.html#the-assert-statement"
   ]
  },
  {
   "cell_type": "code",
   "execution_count": null,
   "id": "18ef0d7f-0528-49d9-abab-75810b3e0039",
   "metadata": {
    "tags": []
   },
   "outputs": [],
   "source": [
    "import pytest\n",
    "\n",
    "def keer_twee(nummer: int) -> int:\n",
    "    return int(nummer) * 2\n",
    "\n",
    "def test_dupliceer_2_en_1_is_6():\n",
    "    given = keer_twee(2)  # 2 * 2 = 4\n",
    "    expected = 4\n",
    "    assert given == expected, f\"Error {given = } {expected = }\"\n",
    "    \n",
    "pytest_main(['--verbosity=1'])"
   ]
  },
  {
   "cell_type": "markdown",
   "id": "37f3cb1f-dea3-417b-8fec-e9aeef6fbc4e",
   "metadata": {},
   "source": [
    "# Combineer de kennis: Unittest + API request\n",
    "\n",
    "Nu API's en unittests besproken zijn kunnen deze onderwerpen gecombineerd worden voor API tests.  \n",
    "\n",
    "### De casus\n",
    "Stel je opdracht is om de _Free tier_ API van [isevenapi.xyz][1] te testen.  \n",
    "Een andere tester heeft al testcases gemaakt.  \n",
    "Een test automation engineer heeft al een deel van de testcases geautomatiseerd met Python.  \n",
    "De manager heeft aangegeven dat het niet uitmaakt hoe je het test, maar de testcases zijn leidend.  \n",
    "Je wilt de geautomatiseerde testcases gaan uitbreiden.\n",
    "\n",
    "\n",
    "<!--https://archive.ph/YIXD1-->\n",
    "[1]: https://isevenapi.xyz/  "
   ]
  },
  {
   "cell_type": "markdown",
   "id": "3738e1a2-63b8-4e40-9950-8ac227fbf8a2",
   "metadata": {},
   "source": [
    "## Testcases - Free tier isEven API\n",
    "\n",
    "| **Title**                                  | isEven is True bij een even nummer                            |\n",
    "|:-------------------------------------------|:--------------------------------------------------------------|\n",
    "| Test ID                                    | api_free_001                                                  |\n",
    "| Requirements                               | Web documentatie                                              |\n",
    "| Precondities                               | API endpoint moet online zijn                                 |\n",
    "| Test data                                  | nummer: 2<br/>endpoint: api.isevenapi.xyz/iseven/{nummer}/    |\n",
    "| **Test steps**                             | **Step result**                                               |\n",
    "| GET call de API endpoint met de test data  | Response status code is 200 OK<br/> Response body is een JSON |\n",
    "| Bekijk de JSON                             | JSON heeft een iseven _name_ en _value_                       |\n",
    "| Check de JSON name: iseven                 | iseven is boolean True                                        |  \n",
    "  "
   ]
  },
  {
   "cell_type": "markdown",
   "id": "2c9bedc2-0617-4327-9292-5c2f1779d08b",
   "metadata": {},
   "source": [
    "  \n",
    "| **Title**                                  | isEven is False bij een oneven nummer                         |\n",
    "|:-------------------------------------------|:--------------------------------------------------------------|\n",
    "| Test ID                                    | api_free_002                                                  |\n",
    "| Requirements                               | Web documentatie                                              |\n",
    "| Precondities                               | API endpoint moet online zijn                                 |\n",
    "| Test data                                  | nummer: 1<br/>endpoint: api.isevenapi.xyz/iseven/{nummer}/    |\n",
    "| **Test steps**                             | **Step result**                                               |\n",
    "| GET call de API endpoint met de test data  | Response status code is 200 OK<br/> Response body is een JSON |\n",
    "| Bekijk de JSON                             | JSON heeft een iseven _name_ en _value_                       |\n",
    "| Check de JSON name: iseven                 | iseven is boolean False                                       |\n",
    "  "
   ]
  },
  {
   "cell_type": "markdown",
   "id": "9f080696-5a62-48a0-a3c7-228d3bdc16cb",
   "metadata": {},
   "source": [
    "  \n",
    "| **Title**                                  | isEven is geeft een error bij een negatief nummer                                        |\n",
    "|:-------------------------------------------|:-----------------------------------------------------------------------------------------|\n",
    "| Test ID                                    | api_free_003                                                                             |\n",
    "| Requirements                               | Web documentatie                                                                         |\n",
    "| Precondities                               | API endpoint moet online zijn                                                            |\n",
    "| Test data                                  | nummer: -2<br/>endpoint: api.isevenapi.xyz/iseven/{nummer}/                              |\n",
    "| **Test steps**                             | **Step result**                                                                          |\n",
    "| GET call de API endpoint met de test data  | Response status code is 401 Unauthorized<br/> Response body is een JSON                  |\n",
    "| Bekijk de JSON                             | JSON heeft een error _name_ en _value_                                                   |\n",
    "| Check de JSON name: error                  | error is een string: 'Number out of range. Upgrade to isEven API Premium or Enterprise.' |\n",
    "  "
   ]
  },
  {
   "cell_type": "markdown",
   "id": "c7613d7d-4de7-4ece-bbc1-31a273471c3b",
   "metadata": {},
   "source": [
    "  \n",
    "| **Title**                                  | isEven is geeft een error bij een te groot nummer                                      |\n",
    "|:-------------------------------------------|:---------------------------------------------------------------------------------------|\n",
    "| Test ID                                    | api_free_004                                                                           |\n",
    "| Requirements                               | Web documentatie                                                                       |\n",
    "| Precondities                               | API endpoint moet online zijn                                                          |\n",
    "| Test data                                  | nummer: 1_000_000<br/>endpoint: api.isevenapi.xyz/iseven/{nummer}/                     |\n",
    "| **Test steps**                             | **Step result**                                                                        |\n",
    "| GET call de API endpoint met de test data  | Response status code is 401 Unauthorized<br/> Response body is een JSON                |\n",
    "| Bekijk de JSON                             | JSON heeft een error _name_ en _value_                                                 |\n",
    "| Check de JSON name: error                  | error is een string: Number out of range. Upgrade to isEven API Premium or Enterprise. |"
   ]
  },
  {
   "cell_type": "markdown",
   "id": "2c6d5756-4545-450c-951c-a8da6c001aa0",
   "metadata": {},
   "source": [
    "## De geautomatiseerde tests"
   ]
  },
  {
   "cell_type": "code",
   "execution_count": null,
   "id": "f82d638d-84ea-4635-9100-f5910c13b135",
   "metadata": {
    "tags": []
   },
   "outputs": [],
   "source": [
    "import pytest\n",
    "\n",
    "@pytest.mark.tags('api_free_001')\n",
    "def test_iseven_is_true_bij_een_even_nummer():\n",
    "    # given\n",
    "    number = 2\n",
    "    # when\n",
    "    response = requests.get(f\"https://api.isevenapi.xyz/api/iseven/{number}/\")\n",
    "    data: dict = response.json()\n",
    "    # then\n",
    "    assert response.ok, f\"{response.status_code} {response.reason} body: {data}\" \n",
    "    # and\n",
    "    iseven: bool = data.get('iseven')\n",
    "    assert iseven and isinstance(iseven, bool), f\"iseven should be True, received {iseven}\"\n",
    "\n",
    "\n",
    "@pytest.mark.tags('api_free_002')\n",
    "def test_iseven_is_false_bij_een_oneven_nummer():\n",
    "    # given\n",
    "    number = 1\n",
    "    # when\n",
    "    response = requests.get(f\"https://api.isevenapi.xyz/api/iseven/{number}/\")\n",
    "    data: dict = response.json()\n",
    "    # then\n",
    "    assert response.ok, f\"{response.status_code} {response.reason} body: {data}\" \n",
    "    # and\n",
    "    iseven: bool = data.get('iseven')\n",
    "    assert not iseven and isinstance(iseven, bool), f\"iseven should be False, received {iseven}\"\n",
    "\n",
    "\n",
    "@pytest.mark.tags('api_free_003')\n",
    "def test_iseven_is_geeft_een_error_bij_een_negatief_nummer():\n",
    "    # given\n",
    "    number = -2\n",
    "    expected_message = \"Number out of range. Upgrade to isEven API Premium or Enterprise.\"\n",
    "    # when\n",
    "    response = requests.get(f\"https://api.isevenapi.xyz/api/iseven/{number}/\")\n",
    "    data: dict = response.json()\n",
    "    # then\n",
    "    assert not response.ok, f\"{response.status_code} {response.reason} body: {data}\" \n",
    "    # and\n",
    "    error_message: str = data.get('error')\n",
    "    assert error_message == expected_message, f\"error message was not the same, received: {error_message}\"\n",
    "    # and\n",
    "    iseven: None = data.get('iseven')\n",
    "    assert iseven is None, f\"iseven should not be available in error response, received: {iseven}\"\n",
    "\n",
    "\n",
    "@pytest.mark.tags('api_free_004')\n",
    "def test_iseven_is_geeft_een_error_bij_een_te_groot_nummer():\n",
    "    # given\n",
    "    number = 1_000_000\n",
    "    expected_message = ...\n",
    "    # when\n",
    "    \n",
    "    # then\n",
    "    \n",
    "    # and\n",
    "    pytest.fail('Todo!')\n",
    "    \n",
    "    \n",
    "# start de testcase\n",
    "pytest_main(['--verbosity=1'])"
   ]
  },
  {
   "cell_type": "markdown",
   "id": "1eeccf5e-c058-4897-b2b9-dae4eb566475",
   "metadata": {},
   "source": [
    "### Oefeningen API testen met Python"
   ]
  },
  {
   "cell_type": "markdown",
   "id": "c05376aa-4bcd-4612-bf10-c3b93b122293",
   "metadata": {},
   "source": [
    "* Test de API van [deckofcardsapi.com][1].  \n",
    "* Maak API tests op basis van de [testcases](./api_testcases/deckofcardsapi_test_cases.md).\n",
    "\n",
    "[1]: https://deckofcardsapi.com/"
   ]
  }
 ],
 "metadata": {
  "kernelspec": {
   "display_name": "Python 3 (ipykernel)",
   "language": "python",
   "name": "python3"
  },
  "language_info": {
   "codemirror_mode": {
    "name": "ipython",
    "version": 3
   },
   "file_extension": ".py",
   "mimetype": "text/x-python",
   "name": "python",
   "nbconvert_exporter": "python",
   "pygments_lexer": "ipython3",
   "version": "3.10.6"
  }
 },
 "nbformat": 4,
 "nbformat_minor": 5
}
