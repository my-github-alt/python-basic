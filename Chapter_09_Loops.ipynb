{
 "cells": [
  {
   "cell_type": "markdown",
   "metadata": {
    "pycharm": {
     "name": "#%% md\n"
    }
   },
   "source": [
    "# Loops"
   ]
  },
  {
   "cell_type": "markdown",
   "metadata": {
    "pycharm": {
     "name": "#%% md\n"
    }
   },
   "source": [
    "## [for-loop](https://docs.python.org/3/tutorial/controlflow.html#for-statements)\n",
    "Met een for-loop kan je over een object itereren.  \n",
    "\n",
    "De for-loops in Python zijn anders geschreven dan in andere de meeste andere programeertalen.  \n",
    "Hieronder een Python for-loop dat over een `list` itereert door de index van de `list` te verhogen."
   ]
  },
  {
   "cell_type": "code",
   "execution_count": 1,
   "metadata": {
    "collapsed": false,
    "jupyter": {
     "outputs_hidden": false
    },
    "pycharm": {
     "name": "#%%\n"
    }
   },
   "outputs": [
    {
     "name": "stdout",
     "output_type": "stream",
     "text": [
      "not Pythonic loop: A\n",
      "not Pythonic loop: B\n",
      "not Pythonic loop: C\n",
      "not Pythonic loop: D\n",
      "not Pythonic loop: E\n",
      "not Pythonic loop: F\n"
     ]
    }
   ],
   "source": [
    "a_to_f = ['A', 'B', 'C', 'D', 'E', 'F']\n",
    "\n",
    "# vraag de lengte van a_to_f en maak een range van nummers\n",
    "for i in range(0, len(a_to_f)):\n",
    "    # vraag per loop de character op de index van `i`\n",
    "    character = a_to_f[i]\n",
    "    print(f'not Pythonic loop: {character}')\n"
   ]
  },
  {
   "cell_type": "markdown",
   "metadata": {
    "tags": []
   },
   "source": [
    "Python for-loops kunnen de objecten in de `list` direct opvragen.  \n",
    "Zoals hieronder is voorgebeeld."
   ]
  },
  {
   "cell_type": "code",
   "execution_count": 2,
   "metadata": {
    "collapsed": false,
    "jupyter": {
     "outputs_hidden": false
    },
    "pycharm": {
     "name": "#%%\n"
    }
   },
   "outputs": [
    {
     "name": "stdout",
     "output_type": "stream",
     "text": [
      "Pythonic loop: A\n",
      "Pythonic loop: B\n",
      "Pythonic loop: C\n",
      "Pythonic loop: D\n",
      "Pythonic loop: E\n",
      "Pythonic loop: F\n"
     ]
    }
   ],
   "source": [
    "a_to_f = ['A', 'B', 'C', 'D', 'E', 'F']\n",
    "\n",
    "# deze for-loop is leesbaar en een stuk efficiënter\n",
    "for character in a_to_f:\n",
    "    print(f'Pythonic loop: {character}')\n"
   ]
  },
  {
   "cell_type": "markdown",
   "metadata": {
    "pycharm": {
     "name": "#%% md\n"
    }
   },
   "source": [
    "## [while-loop](https://docs.python.org/3/reference/compound_stmts.html#the-while-statement)\n",
    "De while-loop _loopt_ door totdat de gegeven expressie `False` wordt.\n"
   ]
  },
  {
   "cell_type": "markdown",
   "metadata": {
    "pycharm": {
     "name": "#%% md\n"
    }
   },
   "source": [
    "```\n",
    "# voorbeeld dan een loop die nooit eindigt\n",
    "\n",
    "while True:\n",
    "    print('Deze while-loop eindigt nooit!')\n",
    "```"
   ]
  },
  {
   "cell_type": "code",
   "execution_count": 3,
   "metadata": {
    "collapsed": false,
    "jupyter": {
     "outputs_hidden": false
    },
    "pycharm": {
     "name": "#%%\n"
    }
   },
   "outputs": [
    {
     "name": "stdout",
     "output_type": "stream",
     "text": [
      "10 9 8 7 6 5 4 3 2 1 "
     ]
    }
   ],
   "source": [
    "count = 10\n",
    "while count != 0:  # loop zo lang de count niet gelijk is aan 0\n",
    "    print(count, end=' ')\n",
    "    count = count - 1"
   ]
  },
  {
   "cell_type": "markdown",
   "metadata": {
    "pycharm": {
     "name": "#%% md\n"
    }
   },
   "source": [
    "## [continue](https://docs.python.org/3/tutorial/controlflow.html#break-and-continue-statements-and-else-clauses-on-loops)\n",
    "`continue` is een statement die gebruikt kan worden in een loop.  \n",
    "Zodra de loop een `continue` statement tegenkomt gaat de loop naar de volgende iteratie.  \n"
   ]
  },
  {
   "cell_type": "code",
   "execution_count": 4,
   "metadata": {
    "collapsed": false,
    "jupyter": {
     "outputs_hidden": false
    },
    "pycharm": {
     "name": "#%%\n"
    }
   },
   "outputs": [
    {
     "name": "stdout",
     "output_type": "stream",
     "text": [
      "0 1 3 5 6 7 8 9 "
     ]
    }
   ],
   "source": [
    "# sla nummer 2 en 4 over met `continue`\n",
    "for nummer in range(10):\n",
    "    if nummer in {2, 4}:\n",
    "        continue\n",
    "    else:\n",
    "        print(nummer, end=' ')"
   ]
  },
  {
   "cell_type": "markdown",
   "metadata": {},
   "source": [
    "## [break](https://docs.python.org/3/reference/simple_stmts.html#the-break-statement)"
   ]
  },
  {
   "cell_type": "code",
   "execution_count": 5,
   "metadata": {
    "collapsed": false,
    "jupyter": {
     "outputs_hidden": false
    },
    "pycharm": {
     "name": "#%%\n"
    }
   },
   "outputs": [
    {
     "name": "stdout",
     "output_type": "stream",
     "text": [
      "0 1 2 3 4 5 6 7 8 9 "
     ]
    }
   ],
   "source": [
    "# `break` de while loop als de count 10 is.\n",
    "count = 0\n",
    "while True:  # loop voor altijd\n",
    "    if count >= 10:\n",
    "        break\n",
    "    else:\n",
    "        print(count, end=' ')\n",
    "        count = count + 1"
   ]
  },
  {
   "cell_type": "markdown",
   "metadata": {
    "pycharm": {
     "name": "#%% md\n"
    }
   },
   "source": [
    "### Oefeningen Loops\n",
    "\n",
    "Opdracht 1:  \n",
    "Loop met een for-loop over het alphabet en break de loop zodra de letter `'m'` voorbij komt.  "
   ]
  },
  {
   "cell_type": "code",
   "execution_count": null,
   "metadata": {},
   "outputs": [],
   "source": []
  },
  {
   "cell_type": "markdown",
   "metadata": {
    "pycharm": {
     "name": "#%% md\n"
    }
   },
   "source": [
    "Opdracht 2:  \n",
    "Maak een alphabet van `'a'` tot `'z'` en maak een loop dat de waardes van `'z'` naar `'a'` uitprint.    "
   ]
  },
  {
   "cell_type": "code",
   "execution_count": null,
   "metadata": {},
   "outputs": [],
   "source": []
  },
  {
   "cell_type": "markdown",
   "metadata": {
    "pycharm": {
     "name": "#%% md\n"
    }
   },
   "source": [
    "Opdracht 3:\n",
    "Wat is de waarde van `nummer` na deze for-loop?\n",
    "\n",
    "```\n",
    "nummer = 11\n",
    "for nummer in range(10):\n",
    "    if nummer < 5:\n",
    "        continue\n",
    "        \n",
    "# wat is nummer nu?\n",
    "```"
   ]
  },
  {
   "cell_type": "code",
   "execution_count": null,
   "metadata": {},
   "outputs": [],
   "source": []
  }
 ],
 "metadata": {
  "kernelspec": {
   "display_name": "Python 3 (ipykernel)",
   "language": "python",
   "name": "python3"
  },
  "language_info": {
   "codemirror_mode": {
    "name": "ipython",
    "version": 3
   },
   "file_extension": ".py",
   "mimetype": "text/x-python",
   "name": "python",
   "nbconvert_exporter": "python",
   "pygments_lexer": "ipython3",
   "version": "3.9.6"
  }
 },
 "nbformat": 4,
 "nbformat_minor": 4
}
