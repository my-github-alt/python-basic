{
 "cells": [
  {
   "cell_type": "markdown",
   "metadata": {
    "pycharm": {
     "name": "#%% md\n"
    }
   },
   "source": [
    "# Loops"
   ]
  },
  {
   "cell_type": "markdown",
   "metadata": {
    "pycharm": {
     "name": "#%% md\n"
    }
   },
   "source": [
    "## [for-loop](https://docs.python.org/3/tutorial/controlflow.html#for-statements)\n",
    "Met een for-loop kan je over een object itereren.  \n",
    "\n",
    "De for-loops in Python zijn anders geschreven dan in andere programeertalen.  \n",
    "In veel talen wordt de for-loop zo geschreven:  \n",
    "```\n",
    "for (int i = 0; i < 10; i++) {\n",
    "    ...\n",
    "};\n",
    "```\n",
    "In Python is zo'n for-loop als hierboven niet te creëren.  \n",
    "De for-loops in Python lopen over de serie aan elementen in de gegeven _data container_.  \n",
    "\n",
    "Hieronder een voorbeeld van een inefficiënte Python for-loop.  \n",
    "Deze loop print de letters in de `a_to_f` lijst door.  \n",
    "Variabele `i`, dat aangemaakt wordt door `range`, vraagt het element op de positie van de lijst op.  "
   ]
  },
  {
   "cell_type": "code",
   "execution_count": null,
   "metadata": {
    "collapsed": false,
    "jupyter": {
     "outputs_hidden": false
    },
    "pycharm": {
     "name": "#%%\n"
    }
   },
   "outputs": [],
   "source": [
    "a_to_f = ['A', 'B', 'C', 'D', 'E', 'F']\n",
    "\n",
    "# vraag de lengte van a_to_f en maak een range van nummers\n",
    "for i in range(0, len(a_to_f)):\n",
    "    # vraag per loop de character op de index van `i`\n",
    "    character = a_to_f[i]\n",
    "    print(f'not Pythonic loop: {character}')"
   ]
  },
  {
   "cell_type": "markdown",
   "metadata": {
    "tags": []
   },
   "source": [
    "De Python for-loops kunnen de objecten in de `list` direct opvragen.  \n",
    "Zoals hieronder is voorgebeeld."
   ]
  },
  {
   "cell_type": "code",
   "execution_count": null,
   "metadata": {
    "collapsed": false,
    "jupyter": {
     "outputs_hidden": false
    },
    "pycharm": {
     "name": "#%%\n"
    }
   },
   "outputs": [],
   "source": [
    "a_to_f = ['A', 'B', 'C', 'D', 'E', 'F']\n",
    "\n",
    "# deze for-loop is leesbaar en een stuk efficiënter\n",
    "for character in a_to_f:\n",
    "    print(f'Pythonic loop: {character}')"
   ]
  },
  {
   "cell_type": "markdown",
   "metadata": {
    "pycharm": {
     "name": "#%% md\n"
    }
   },
   "source": [
    "## [while-loop](https://docs.python.org/3/reference/compound_stmts.html#the-while-statement)\n",
    "De while-loop _loopt_ door totdat de gegeven expressie `False` wordt.  \n",
    "Als het nodig is om een `while` als loop te gebruiken, zorg er dan voor dat de loop niet oneindig is.  "
   ]
  },
  {
   "cell_type": "markdown",
   "metadata": {
    "pycharm": {
     "name": "#%% md\n"
    }
   },
   "source": [
    "```\n",
    "# voorbeeld dan een loop die nooit eindigt\n",
    "\n",
    "while True:\n",
    "    print('Deze while-loop eindigt nooit!')\n",
    "```"
   ]
  },
  {
   "cell_type": "code",
   "execution_count": null,
   "metadata": {
    "collapsed": false,
    "jupyter": {
     "outputs_hidden": false
    },
    "pycharm": {
     "name": "#%%\n"
    }
   },
   "outputs": [],
   "source": [
    "count = 10\n",
    "while count > 0:  # loop zo lang de count groter is dan 0\n",
    "    print(count, end=' ')\n",
    "    count = count - 1"
   ]
  },
  {
   "cell_type": "markdown",
   "metadata": {
    "pycharm": {
     "name": "#%% md\n"
    }
   },
   "source": [
    "## [continue](https://docs.python.org/3/tutorial/controlflow.html#break-and-continue-statements-and-else-clauses-on-loops)\n",
    "`continue` is een statement dat gebruikt kan worden in een loop.  \n",
    "Zodra de loop een `continue` statement tegenkomt gaat de loop naar de volgende iteratie.  \n",
    "De code na de `continue` wordt dan niet uitgevoerd.  "
   ]
  },
  {
   "cell_type": "code",
   "execution_count": null,
   "metadata": {
    "collapsed": false,
    "jupyter": {
     "outputs_hidden": false
    },
    "pycharm": {
     "name": "#%%\n"
    }
   },
   "outputs": [],
   "source": [
    "# sla nummer 2 en 4 over met `continue`\n",
    "for nummer in range(10):\n",
    "    if nummer in {2, 4}:\n",
    "        continue\n",
    "        print(\"Dit wordt nooit uitgeprint.\")\n",
    "    else:\n",
    "        print(nummer, end=' ')"
   ]
  },
  {
   "cell_type": "markdown",
   "metadata": {},
   "source": [
    "## [break](https://docs.python.org/3/reference/simple_stmts.html#the-break-statement)\n",
    "Zodra de loop een `break` statement tegenkomt wordt de loop gestopt.  \n",
    "De code na de `break` wordt dan niet uitgevoerd."
   ]
  },
  {
   "cell_type": "code",
   "execution_count": null,
   "metadata": {
    "collapsed": false,
    "jupyter": {
     "outputs_hidden": false
    },
    "pycharm": {
     "name": "#%%\n"
    }
   },
   "outputs": [],
   "source": [
    "# `break` de while loop als de count 10 is.\n",
    "count = 0\n",
    "while True:  # loop voor altijd\n",
    "    if count >= 10:\n",
    "        break\n",
    "        print(\"Dit wordt nooit uitgeprint.\")\n",
    "    else:\n",
    "        print(count, end=' ')\n",
    "        count = count + 1\n",
    "\n",
    "print('\\nNa de loop')"
   ]
  },
  {
   "cell_type": "markdown",
   "metadata": {},
   "source": [
    "### Itereer functies \n",
    "Hieronder een paar hulpzame functies die veel gebruikt worden in for-loops.  "
   ]
  },
  {
   "cell_type": "markdown",
   "metadata": {},
   "source": [
    "### [zip](https://docs.python.org/3/library/functions.html#zip)\n",
    "`zip` is een built-in functie.  \n",
    "Deze functie rijgt de elementen in meerdere series aan elkaar als een soort [ritssluiting].  \n",
    "\n",
    "[ritssluiting]: https://nl.wikipedia.org/wiki/Ritssluiting"
   ]
  },
  {
   "cell_type": "code",
   "execution_count": null,
   "metadata": {},
   "outputs": [],
   "source": [
    "lijst_a = ['x', 'y', 'z']\n",
    "tuple_b = ('a', 'b', 'c', 'd')\n",
    "zipped = zip(lijst_a, tuple_b)   # `zip` twee series\n",
    "print(f'{zipped = }')            # `zip` is, net als `range`, een luie functie\n",
    "print(list(zipped))"
   ]
  },
  {
   "cell_type": "markdown",
   "metadata": {},
   "source": [
    "`zip` wordt net so lang als de kortste serie.  \n",
    "`zip` neemt alles aan zolang het object in combinatie met een loop gebruikt kan worden."
   ]
  },
  {
   "cell_type": "code",
   "execution_count": null,
   "metadata": {},
   "outputs": [],
   "source": [
    "for a, x, y, z in zip(\"abc\", [9, 8, 7], {1, 2, 3, 4}, (2, 3, 4)):   # `zip` 4 series\n",
    "    som = x + y * z\n",
    "    print(f'{a}: {x} + ({y} * {z}) = {som}')"
   ]
  },
  {
   "cell_type": "markdown",
   "metadata": {},
   "source": [
    "### [enumerate](https://docs.python.org/3/library/functions.html#enumerate)\n",
    "`enumerate` is een built-in functie dat de elementen in een serie een nummer geeft."
   ]
  },
  {
   "cell_type": "code",
   "execution_count": null,
   "metadata": {},
   "outputs": [],
   "source": [
    "lijst = ['x', 'y', 'z']\n",
    "enumerated = enumerate(lijst)   # `enumerate` de serie\n",
    "print(f'{enumerated = }')       # `enumerate` is, net als `range`, een luie functie\n",
    "print(list(enumerated))"
   ]
  },
  {
   "cell_type": "code",
   "execution_count": null,
   "metadata": {},
   "outputs": [],
   "source": [
    "for num, letter in enumerate(['l', 'o', 'o', 'p'], start=-1):   # specificeer vanaf waar te tellen met `start`\n",
    "    print(f'{num}:\\t{letter}')"
   ]
  },
  {
   "cell_type": "markdown",
   "metadata": {
    "pycharm": {
     "name": "#%% md\n"
    }
   },
   "source": [
    "### Oefeningen Loops\n",
    "\n",
    "Opdracht 1:  \n",
    "Loop met een for-loop over het alphabet en break de loop zodra de letter `'m'` voorbij komt.  "
   ]
  },
  {
   "cell_type": "code",
   "execution_count": null,
   "metadata": {},
   "outputs": [],
   "source": []
  },
  {
   "cell_type": "markdown",
   "metadata": {
    "pycharm": {
     "name": "#%% md\n"
    }
   },
   "source": [
    "Opdracht 2:  \n",
    "Maak een alphabet van `'a'` tot `'z'` en maak een loop dat de waardes van `'z'` naar `'a'` uitprint.    "
   ]
  },
  {
   "cell_type": "code",
   "execution_count": null,
   "metadata": {},
   "outputs": [],
   "source": []
  },
  {
   "cell_type": "markdown",
   "metadata": {
    "pycharm": {
     "name": "#%% md\n"
    }
   },
   "source": [
    "Opdracht 3:\n",
    "Wat is de waarde van `nummer` na deze for-loop?\n",
    "\n",
    "```\n",
    "nummer = 11\n",
    "for nummer in range(10):\n",
    "    if nummer < 5:\n",
    "        continue\n",
    "        \n",
    "# wat is nummer nu?\n",
    "```"
   ]
  },
  {
   "cell_type": "code",
   "execution_count": null,
   "metadata": {},
   "outputs": [],
   "source": []
  }
 ],
 "metadata": {
  "kernelspec": {
   "display_name": "Python 3 (ipykernel)",
   "language": "python",
   "name": "python3"
  },
  "language_info": {
   "codemirror_mode": {
    "name": "ipython",
    "version": 3
   },
   "file_extension": ".py",
   "mimetype": "text/x-python",
   "name": "python",
   "nbconvert_exporter": "python",
   "pygments_lexer": "ipython3",
   "version": "3.10.6"
  }
 },
 "nbformat": 4,
 "nbformat_minor": 4
}
