{
 "cells": [
  {
   "cell_type": "markdown",
   "id": "6374ca2d",
   "metadata": {},
   "source": [
    "# Basic types\n",
    "In Python is alles een [_object_].  \n",
    "De objecten zoals `1` or `'Hallo'` hebben types.  \n",
    "Python bepaald dynamisch welk type een object heeft.  \n",
    "\n",
    "Hieronder wordt een paar veelgebruikte types uitgelegd.  \n",
    "\n",
    "[_object_]: https://docs.python.org/3/library/functions.html?#object"
   ]
  },
  {
   "cell_type": "markdown",
   "id": "f8a99ae5",
   "metadata": {},
   "source": [
    "## [Int](https://docs.python.org/3/library/functions.html#int)\n",
    "`int` representeerd volledige getallen zoals: `-1`, `0`, `1` ... `10000`, etc.   \n"
   ]
  },
  {
   "cell_type": "code",
   "execution_count": null,
   "id": "0d09c908-03d9-4159-b819-51094aaa3f33",
   "metadata": {},
   "outputs": [],
   "source": [
    "een = 1\n",
    "twee = 2\n",
    "resultaat = een + twee\n",
    "print(resultaat)"
   ]
  },
  {
   "cell_type": "markdown",
   "id": "bca84b25-5ad8-426f-9201-dde6a8ae545d",
   "metadata": {},
   "source": [
    "De functie `int` kan objecten dat een getal representeert omzetten naar een integer getal"
   ]
  },
  {
   "cell_type": "code",
   "execution_count": null,
   "id": "c18a9854-4f0b-4876-9eed-9df8739cbba6",
   "metadata": {
    "tags": []
   },
   "outputs": [],
   "source": [
    "# +100 is een string\n",
    "positief = \"+100\"\n",
    "print(int(positief))"
   ]
  },
  {
   "cell_type": "code",
   "execution_count": null,
   "id": "40f08472",
   "metadata": {},
   "outputs": [],
   "source": [
    "# -200 is een string\n",
    "negatief = \"-200\"\n",
    "print(int(negatief))"
   ]
  },
  {
   "cell_type": "markdown",
   "id": "89413f9b",
   "metadata": {},
   "source": [
    "`int` kan gebruikt worden om hexadecimaal of _base2_ getallen omzetten naar een decimaal getal"
   ]
  },
  {
   "cell_type": "code",
   "execution_count": null,
   "id": "f86c3209",
   "metadata": {},
   "outputs": [],
   "source": [
    "# omzetten binair getal naar decimaal\n",
    "binair = '110'\n",
    "print(int(binair, 2))"
   ]
  },
  {
   "cell_type": "code",
   "execution_count": null,
   "id": "0f7203b8",
   "metadata": {},
   "outputs": [],
   "source": [
    "# omzetten hexadecimaal getal naar decimaal\n",
    "hexadecimaal = '1A'\n",
    "print(int(hexadecimaal, 16))"
   ]
  },
  {
   "cell_type": "markdown",
   "id": "2cfb51fa",
   "metadata": {},
   "source": [
    "## [Float](https://docs.python.org/3/library/functions.html#float)\n",
    "`float` representeerd een zwevend komma getal  \n",
    "De functie `float` kan objecten die een getal representeren omzetten naar een kommagetal\n",
    "\n",
    "`float` word [binair](https://nl.wikipedia.org/wiki/Binair) anders geintrepeteerd van een decimaal getal.  \n",
    "Er is daar dan ook een standaard voor gemaakt ([IEEE_754](https://nl.wikipedia.org/wiki/Zwevendekommagetal#IEEE_754)).  \n",
    "Door het precisie element in kommagetallen kunnen er [floatingpoint errors](https://nl.wikipedia.org/wiki/Zwevendekommagetal#Eigenschappen_van_zwevendekommaberekeningen) ontstaan.  "
   ]
  },
  {
   "cell_type": "code",
   "execution_count": null,
   "id": "7e4812f5",
   "metadata": {},
   "outputs": [],
   "source": [
    "# zou 0.9 moeten zijn\n",
    "som = 0.3 + 0.3 + 0.3\n",
    "print(som)"
   ]
  },
  {
   "cell_type": "markdown",
   "id": "a498c77e",
   "metadata": {},
   "source": [
    "`float` kan objecten die een getal representeren omzetten naar een kommagetal"
   ]
  },
  {
   "cell_type": "code",
   "execution_count": null,
   "id": "960c1d9a",
   "metadata": {},
   "outputs": [],
   "source": [
    "# '-200' is een string\n",
    "negatief = \"-200\"\n",
    "print(float(negatief))"
   ]
  },
  {
   "cell_type": "code",
   "execution_count": null,
   "id": "788b8a5c",
   "metadata": {},
   "outputs": [],
   "source": [
    "# '+100' is een string\n",
    "positief = \"+100\"\n",
    "print(float(positief))"
   ]
  },
  {
   "cell_type": "code",
   "execution_count": null,
   "id": "6154ae15-00ac-4f7c-8f6e-f356bd462996",
   "metadata": {},
   "outputs": [],
   "source": [
    "# wetenschappelijke notatie van 0.00001\n",
    "wetenschappelijke_notatie = \"1e-05\"\n",
    "print(float(wetenschappelijke_notatie))"
   ]
  },
  {
   "cell_type": "code",
   "execution_count": null,
   "id": "252c1263-385c-4656-ac2d-f40528d3b2a2",
   "metadata": {},
   "outputs": [],
   "source": [
    "# een int naar float  plus  een wetenschappelijke notatie als float\n",
    "print(float(10_000) + float(wetenschappelijke_notatie))"
   ]
  },
  {
   "cell_type": "markdown",
   "id": "6eb82234",
   "metadata": {},
   "source": [
    "`int` en `float` kan samen gebruikt worden in sommen"
   ]
  },
  {
   "cell_type": "code",
   "execution_count": null,
   "id": "a28294d5",
   "metadata": {},
   "outputs": [],
   "source": [
    "som = 0.618033 + 1\n",
    "print(som)"
   ]
  },
  {
   "cell_type": "markdown",
   "id": "97d7124e",
   "metadata": {},
   "source": [
    "## [Str](https://docs.python.org/3/library/functions.html#func-str)\n",
    "Elke normale string in Python3 is in [Unicode] geëncodeerd.  \n",
    "Dat betekend simpelweg dat veel letters worden ondersteund, waaronder [emoji's].  \n",
    "\n",
    "`str` is een type dat een _string_ aan letters representeert.  \n",
    "Dit kan een enkele character zijn: `'A'`  \n",
    "Of meerdere `'ABC'`  \n",
    "\n",
    "[emoji's]: https://unicode.org/charts/nameslist/\n",
    "[Unicode]: https://docs.python.org/3/howto/unicode.html#python-s-unicode-support"
   ]
  },
  {
   "cell_type": "code",
   "execution_count": null,
   "id": "86d606c5",
   "metadata": {},
   "outputs": [],
   "source": [
    "een_string = \"\\N{BLACK SUN WITH RAYS} zon en bloem ⚘\"\n",
    "print(een_string)"
   ]
  },
  {
   "cell_type": "markdown",
   "id": "3a12ee63-8834-40d0-af74-4f2884c7243f",
   "metadata": {},
   "source": [
    "En met de module [unicodedata] kan er namen van emoji's worden opgezocht\n",
    "\n",
    "[unicodedata]: https://docs.python.org/3/library/unicodedata.html"
   ]
  },
  {
   "cell_type": "code",
   "execution_count": null,
   "id": "c73d1fb1-d8cb-435f-bf3c-2a6d3ca23177",
   "metadata": {
    "tags": []
   },
   "outputs": [],
   "source": [
    "import unicodedata\n",
    "print(unicodedata.name('☀'))"
   ]
  },
  {
   "cell_type": "markdown",
   "id": "1ff57207",
   "metadata": {},
   "source": [
    "Zoals er bij `int` is laten zien kan een `str`  object worden omgezet naar `int`  \n",
    "Vrijwel alles in Python kan omgezet worden naar `str`  \n",
    "\n",
    "Strings kan ook geformateerd worden met waardes er in.  \n",
    "Met een `f` voor het begin van een string wordt de string een [f-string](https://realpython.com/python-f-strings/)      \n",
    "[Accolades](https://nl.wikipedia.org/wiki/Accolade_(leesteken)) kunnen dan in de f-string gebruikt worden om een object in een string te weergeven."
   ]
  },
  {
   "cell_type": "code",
   "execution_count": null,
   "id": "473e3a21",
   "metadata": {},
   "outputs": [],
   "source": [
    "one_million = 1_000_000\n",
    "\n",
    "# 'cast' een int naar een string \n",
    "str_million = str(one_million)\n",
    "\n",
    "print(f'{str_million} of type str: { isinstance(str_million, str) }')"
   ]
  },
  {
   "cell_type": "markdown",
   "id": "67b44fb0-8e43-4934-8c6a-42119dcf7061",
   "metadata": {},
   "source": [
    "### Python heeft geen char type\n",
    "Andere programmeer talen zoals _C_, _C++_, _C#_, _Java_, etc. hebben een char type.  \n",
    "Dit type geeft aan dat het een enkele letter is.  \n",
    "Ook worden char of string in die talen op een andere manier opgeschreven.  \n",
    "\n",
    "Python heeft dat vereenvoudigd, alles tussen quotes is een string.  \n",
    "Het maakt ook niet uit welke qoutes er gebruikt wordt.  "
   ]
  },
  {
   "cell_type": "code",
   "execution_count": null,
   "id": "4306841e-0b75-4f7b-8258-f397c4b945af",
   "metadata": {},
   "outputs": [],
   "source": [
    "print(\"string met dubbele quotes\")\n",
    "print('string met enkele quotes')\n",
    "print('Guido zei: \"de qoutes moeten matchen\"')"
   ]
  },
  {
   "cell_type": "markdown",
   "id": "adfb72b2-7edf-401a-8a73-5dd536151e30",
   "metadata": {},
   "source": [
    "### Oefeningen Basic types\n",
    "\n",
    "Maak een string aan dat een getal is en probeer dat met een andere string op te tellen.  \n",
    "voorbeeld: `'1' + 2`"
   ]
  },
  {
   "cell_type": "markdown",
   "id": "83346d5b-8e59-4bf6-a9e1-513979b931cc",
   "metadata": {},
   "source": [
    "Probeer een string te vermenigvuldiggen.  \n",
    "voorbeeld `'a' * 100`"
   ]
  },
  {
   "cell_type": "markdown",
   "id": "24595f9e-3a4e-4d6d-bcba-259583f3b13a",
   "metadata": {},
   "source": [
    "Maak een willekeurige som met een `float` en een `int`"
   ]
  }
 ],
 "metadata": {
  "kernelspec": {
   "display_name": "Python 3 (ipykernel)",
   "language": "python",
   "name": "python3"
  },
  "language_info": {
   "codemirror_mode": {
    "name": "ipython",
    "version": 3
   },
   "file_extension": ".py",
   "mimetype": "text/x-python",
   "name": "python",
   "nbconvert_exporter": "python",
   "pygments_lexer": "ipython3",
   "version": "3.10.6"
  }
 },
 "nbformat": 4,
 "nbformat_minor": 5
}
