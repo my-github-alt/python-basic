{
 "cells": [
  {
   "cell_type": "markdown",
   "id": "6374ca2d",
   "metadata": {},
   "source": [
    "# Basic types\n",
    "In Python geef je aan variabelen _objecten_.  \n",
    "De objecten zoals `1` or `'Hallo'` hebben types.  \n",
    "Python bepaald dynamisch welk type een object heeft.  \n",
    "\n",
    "Hieronder wordt een paar veelgebruikte types uitgelegd.  "
   ]
  },
  {
   "cell_type": "markdown",
   "id": "f8a99ae5",
   "metadata": {},
   "source": [
    "## [Int](https://docs.python.org/3/library/functions.html#int)\n",
    "`int` representeerd volledige getallen zoals: `-1`, `0`, `1` ... `10000`, etc.   \n"
   ]
  },
  {
   "cell_type": "code",
   "execution_count": 1,
   "id": "0d09c908-03d9-4159-b819-51094aaa3f33",
   "metadata": {},
   "outputs": [
    {
     "data": {
      "text/plain": [
       "3"
      ]
     },
     "execution_count": 1,
     "metadata": {},
     "output_type": "execute_result"
    }
   ],
   "source": [
    "een = 1\n",
    "twee = 2\n",
    "een + twee"
   ]
  },
  {
   "cell_type": "markdown",
   "id": "bca84b25-5ad8-426f-9201-dde6a8ae545d",
   "metadata": {},
   "source": [
    "De functie `int` kan objecten dat een getal representeert omzetten naar een getal"
   ]
  },
  {
   "cell_type": "code",
   "execution_count": 2,
   "id": "c18a9854-4f0b-4876-9eed-9df8739cbba6",
   "metadata": {
    "tags": []
   },
   "outputs": [
    {
     "data": {
      "text/plain": [
       "100"
      ]
     },
     "execution_count": 2,
     "metadata": {},
     "output_type": "execute_result"
    }
   ],
   "source": [
    "# +100 is een string\n",
    "positief = \"+100\"\n",
    "int(positief)"
   ]
  },
  {
   "cell_type": "code",
   "execution_count": 3,
   "id": "40f08472",
   "metadata": {},
   "outputs": [
    {
     "data": {
      "text/plain": [
       "-200"
      ]
     },
     "execution_count": 3,
     "metadata": {},
     "output_type": "execute_result"
    }
   ],
   "source": [
    "# -200 is een string\n",
    "negatief = \"-200\"\n",
    "int(negatief)"
   ]
  },
  {
   "cell_type": "markdown",
   "id": "89413f9b",
   "metadata": {},
   "source": [
    "`int` kan gebruikt worden om hexadecimaal of _base2_ getallen omzetten naar een decimaal getal"
   ]
  },
  {
   "cell_type": "code",
   "execution_count": 4,
   "id": "f86c3209",
   "metadata": {},
   "outputs": [
    {
     "data": {
      "text/plain": [
       "6"
      ]
     },
     "execution_count": 4,
     "metadata": {},
     "output_type": "execute_result"
    }
   ],
   "source": [
    "# omzetten binair getal naar decimaal\n",
    "binair = '110'\n",
    "int(binair, 2)"
   ]
  },
  {
   "cell_type": "code",
   "execution_count": 5,
   "id": "0f7203b8",
   "metadata": {},
   "outputs": [
    {
     "data": {
      "text/plain": [
       "26"
      ]
     },
     "execution_count": 5,
     "metadata": {},
     "output_type": "execute_result"
    }
   ],
   "source": [
    "# omzetten hexadecimaal getal naar decimaal\n",
    "hexadecimaal = '1A'\n",
    "int(hexadecimaal, 16)"
   ]
  },
  {
   "cell_type": "markdown",
   "id": "2cfb51fa",
   "metadata": {},
   "source": [
    "## [Float](https://docs.python.org/3/library/functions.html#float)\n",
    "`float` representeerd een zwevend komma getal  \n",
    "De functie `float` kan objecten die een getal representeren omzetten naar een kommagetal\n",
    "\n",
    "`float` word [binair](https://nl.wikipedia.org/wiki/Binair) anders geintrepeteerd van een decimaal getal.  \n",
    "Er is daar dan ook een standaard voor gemaakt ([IEEE_754](https://nl.wikipedia.org/wiki/Zwevendekommagetal#IEEE_754)).  \n",
    "Door het precisie element in kommagetallen kunnen er [floatingpoint errors](https://nl.wikipedia.org/wiki/Zwevendekommagetal#Eigenschappen_van_zwevendekommaberekeningen) ontstaan.  "
   ]
  },
  {
   "cell_type": "code",
   "execution_count": 6,
   "id": "7e4812f5",
   "metadata": {},
   "outputs": [
    {
     "data": {
      "text/plain": [
       "0.8999999999999999"
      ]
     },
     "execution_count": 6,
     "metadata": {},
     "output_type": "execute_result"
    }
   ],
   "source": [
    "# zou 0.9 moeten zijn\n",
    "0.3 + 0.3 + 0.3"
   ]
  },
  {
   "cell_type": "markdown",
   "id": "a498c77e",
   "metadata": {},
   "source": [
    "`float` kan objecten die een getal representeren omzetten naar een kommagetal"
   ]
  },
  {
   "cell_type": "code",
   "execution_count": 7,
   "id": "960c1d9a",
   "metadata": {},
   "outputs": [
    {
     "data": {
      "text/plain": [
       "-200.0"
      ]
     },
     "execution_count": 7,
     "metadata": {},
     "output_type": "execute_result"
    }
   ],
   "source": [
    "# '-200' is een string\n",
    "negatief = \"-200\"\n",
    "float(negatief)"
   ]
  },
  {
   "cell_type": "code",
   "execution_count": 8,
   "id": "788b8a5c",
   "metadata": {},
   "outputs": [
    {
     "data": {
      "text/plain": [
       "100.0"
      ]
     },
     "execution_count": 8,
     "metadata": {},
     "output_type": "execute_result"
    }
   ],
   "source": [
    "# '+100' is een string\n",
    "positief = \"+100\"\n",
    "float(positief)"
   ]
  },
  {
   "cell_type": "markdown",
   "id": "6eb82234",
   "metadata": {},
   "source": [
    "`int` en `float` kan samen gebruikt worden in sommen"
   ]
  },
  {
   "cell_type": "code",
   "execution_count": 9,
   "id": "a28294d5",
   "metadata": {},
   "outputs": [
    {
     "data": {
      "text/plain": [
       "1.618033"
      ]
     },
     "execution_count": 9,
     "metadata": {},
     "output_type": "execute_result"
    }
   ],
   "source": [
    "0.618033 + 1"
   ]
  },
  {
   "cell_type": "markdown",
   "id": "97d7124e",
   "metadata": {},
   "source": [
    "## [Str](https://docs.python.org/3/library/functions.html#func-str)\n",
    "Elke normale string in Python3 is een unicode string.  \n",
    "\n",
    "`str` is een type dat een _string_ aan characters representeerd.  \n",
    "Dit kan een enkele character zijn: `'A'`  \n",
    "Of meerdere `'ABC'`  \n",
    "Omdat een `str` dus unicode characters zijn kan het ook emoji's bevatten. "
   ]
  },
  {
   "cell_type": "code",
   "execution_count": 10,
   "id": "86d606c5",
   "metadata": {},
   "outputs": [
    {
     "data": {
      "text/plain": [
       "\"🐝 aware, 🪳's are hiding in the code\""
      ]
     },
     "execution_count": 10,
     "metadata": {},
     "output_type": "execute_result"
    }
   ],
   "source": [
    "emoji_str = \"\\N{HONEYBEE} aware, 🪳's are hiding in the code\"\n",
    "emoji_str"
   ]
  },
  {
   "cell_type": "markdown",
   "id": "1ff57207",
   "metadata": {},
   "source": [
    "Zoals er bij `int` is laten zien kan een `str`  object worden omgezet naar `int`  \n",
    "Vrijwel alles in Python kan omgezet worden naar `str`  \n",
    "\n",
    "Strings kan ook geformateerd worden met waardes er in.\n",
    "Met een `f` voor het begin van een string wordt de string een [f-string](https://realpython.com/python-f-strings/)      \n",
    "[Accolades](https://nl.wikipedia.org/wiki/Accolade_(leesteken)) kunnen dan in de f-string gebruikt worden om een object in een string te weergeven."
   ]
  },
  {
   "cell_type": "code",
   "execution_count": 11,
   "id": "473e3a21",
   "metadata": {},
   "outputs": [
    {
     "data": {
      "text/plain": [
       "'1000000 of type str: True'"
      ]
     },
     "execution_count": 11,
     "metadata": {},
     "output_type": "execute_result"
    }
   ],
   "source": [
    "one_million = 1_000_000\n",
    "str_million = str(one_million)\n",
    "f'{str_million} of type str: {isinstance(str_million, str)}'"
   ]
  },
  {
   "cell_type": "markdown",
   "id": "adfb72b2-7edf-401a-8a73-5dd536151e30",
   "metadata": {},
   "source": [
    "### Oefeningen Basic types\n",
    "\n",
    "Maak een string aan dat een getal is en probeer dat met een andere string op te tellen.  \n",
    "voorbeeld: `'1' + 2`"
   ]
  },
  {
   "cell_type": "markdown",
   "id": "83346d5b-8e59-4bf6-a9e1-513979b931cc",
   "metadata": {},
   "source": [
    "Probeer een string te vermenigvuldiggen.  \n",
    "voorbeeld `'a' * 100`"
   ]
  },
  {
   "cell_type": "markdown",
   "id": "24595f9e-3a4e-4d6d-bcba-259583f3b13a",
   "metadata": {},
   "source": [
    "Maak een willekeurige som met een `float` en een `int`"
   ]
  }
 ],
 "metadata": {
  "kernelspec": {
   "display_name": "Python 3 (ipykernel)",
   "language": "python",
   "name": "python3"
  },
  "language_info": {
   "codemirror_mode": {
    "name": "ipython",
    "version": 3
   },
   "file_extension": ".py",
   "mimetype": "text/x-python",
   "name": "python",
   "nbconvert_exporter": "python",
   "pygments_lexer": "ipython3",
   "version": "3.9.6"
  }
 },
 "nbformat": 4,
 "nbformat_minor": 5
}
