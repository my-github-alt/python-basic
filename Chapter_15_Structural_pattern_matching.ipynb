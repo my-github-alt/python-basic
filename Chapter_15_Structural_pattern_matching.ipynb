{
 "cells": [
  {
   "cell_type": "markdown",
   "id": "496cee95-5222-4004-9c0e-df3928bd8e84",
   "metadata": {},
   "source": [
    "# Structural Pattern Matching\n",
    "\n",
    "Veel programeertalen hebben en [switch statement].  \n",
    "Sinds [versie 3.10] heeft Python ook een _switch statement_ met de naam: [Structural Pattern Matching].  \n",
    "Een grote naam voor iets wat simpel klinkt, maar het kan meer dan een gewone switch-statement.  \n",
    "De switch-case statement maakt gebruik van [patroon vergelijking].  \n",
    "\n",
    "[versie 3.10]: https://docs.python.org/3/whatsnew/3.10.html\n",
    "[switch statement]: https://en.wikipedia.org/wiki/Switch_statement\n",
    "[Structural Pattern Matching]: https://www.python.org/dev/peps/pep-0634/\n",
    "[patroon vergelijking]: https://nl.wikipedia.org/wiki/Patroonvergelijking"
   ]
  },
  {
   "cell_type": "code",
   "execution_count": null,
   "id": "4913fd72-b51e-42f0-9d72-ac9b65446a5d",
   "metadata": {},
   "outputs": [],
   "source": [
    "# match-case statements zijn in python 3.10 geïntroduceerd.\n",
    "# test voor de juiste Python versie.\n",
    "import sys\n",
    "major, minor, *_ = sys.version_info\n",
    "assert major == 3 and minor <= 10, f\"Python version 3.10 needed, used: {major}.{minor}\"\n",
    "# error? installeer de laatste Python versie\n",
    "#   https://www.python.org/downloads/"
   ]
  },
  {
   "cell_type": "markdown",
   "id": "cdabb8af-39e2-4d4d-bebf-572a6309cc72",
   "metadata": {},
   "source": [
    "#### match-case statement\n",
    "Hieronder een match-case als klasieke switch-case statement"
   ]
  },
  {
   "cell_type": "code",
   "execution_count": null,
   "id": "ba785292-d5cd-4f96-a573-5a9a87e01054",
   "metadata": {},
   "outputs": [],
   "source": [
    "fruit = 'Banaan'\n",
    "\n",
    "match fruit.lower():  # maak alle letters lower-case\n",
    "    case 'appel':\n",
    "        kleur = 'Rood'\n",
    "    case 'peer':\n",
    "        kleur = 'Groen'\n",
    "    case 'banaan':\n",
    "         kleur = 'Geel'\n",
    "    case _:  # else\n",
    "        kleur = 'niet bekend'\n",
    "        \n",
    "print(f'De kleur van {fruit} is {kleur}.')"
   ]
  },
  {
   "cell_type": "markdown",
   "id": "e2a6f4fa-3904-42a7-a5fa-daa9a42131c3",
   "metadata": {},
   "source": [
    "### De `_` in een match-case statement\n",
    "Een `_` ([underscore]) representeerd een 'wildcard' in de match-case statement.  \n",
    "Dit matched met alles maar mag niet gebruikt worden als de eerste case.  \n",
    "Het wordt veel gebruikt als _catch-all_ placeholder.  \n",
    "\n",
    "[underscore]: https://nl.wikipedia.org/wiki/Underscore"
   ]
  },
  {
   "cell_type": "code",
   "execution_count": null,
   "id": "a887b31b-5f6a-4a3a-885b-262525915e64",
   "metadata": {},
   "outputs": [],
   "source": [
    "# (X, Y)\n",
    "coordinaat = (0, 1)\n",
    "\n",
    "match coordinaat:\n",
    "    case (x, y) if x == y:\n",
    "        print('x en y is hetzeflde getal')\n",
    "    case (0, _):\n",
    "        print(f'X is precies 0')\n",
    "    case (_, 0):\n",
    "        print(f'Y is precies 0')\n",
    "    case (_, _, _):\n",
    "        print(f'coordinaat heeft 3 dimensies')\n",
    "    case _:\n",
    "        print('dit is geen valide coordinaat')"
   ]
  },
  {
   "cell_type": "markdown",
   "id": "b44c2059-1b76-4ad3-bb21-4637dedb0f67",
   "metadata": {},
   "source": [
    "### De `|` in een match-case statement\n",
    "Een `|` ([pipe]) representeerd een [or] patroon.  \n",
    "In Python is er ook een `or` operator.  \n",
    "De `|` wordt op meerdere plekken in Python gebruikt als [union].  \n",
    "de `or` operator wordt alleen gebruikt in logische expressies zoals in een `if` statement.  \n",
    "\n",
    "[pipe]: https://nl.wikipedia.org/wiki/Sluisteken\n",
    "[or]: https://www.python.org/dev/peps/pep-0636/#or-patterns\n",
    "[union]: https://docs.python.org/3/library/stdtypes.html?#union-type"
   ]
  },
  {
   "cell_type": "code",
   "execution_count": null,
   "id": "c36de5ea-2637-4ea7-92b0-5d58526d5399",
   "metadata": {},
   "outputs": [],
   "source": [
    "http_400_code = 402\n",
    "\n",
    "match http_400_code:\n",
    "    case 400:\n",
    "        response = 'Bad request'\n",
    "    case 401 | 402 | 403:\n",
    "        response = 'Authentication error'\n",
    "    case 404:\n",
    "        response = 'Not found'\n",
    "    case 418:\n",
    "        response = \"I'm a teapot\"\n",
    "    case _:\n",
    "        response = 'Other error'\n",
    "\n",
    "print(f'code: {http_400_code} response: {response}')"
   ]
  },
  {
   "cell_type": "markdown",
   "id": "3e08a5d0-976e-41e3-a2ce-41965272b910",
   "metadata": {},
   "source": [
    "### Het matchen van een patroon\n",
    "Zoals voorheen genoemd, de match-case statement kan meer dan een switch statement.  \n",
    "Het is vooral heel sterk in het matchen van patronen.  \n",
    "Ook is het mogenlijk om variabelen in het statement te _binden_.  \n",
    "Het 'binden' van variabelen kan gezien worden als impliciete variable assignment, dit gebeurd normaal met een `=`  \n",
    "\n",
    "Hieronder een voorbeeld van een match-case statement met die variablen bind.  \n",
    "Het voorbeeld is een JSON wat uit een API van een webwinkel is te verwachten.  \n",
    "Het doel is om met de gegevens een persoonlijk profiel op te stellen.  "
   ]
  },
  {
   "cell_type": "code",
   "execution_count": null,
   "id": "63ae215f-e2fb-42bb-884f-f1f79812c295",
   "metadata": {},
   "outputs": [],
   "source": [
    "webwinkel_json = {'data': {'kledingstuk': 'broek', 'maat': 's', 'kleur': 'groen'}}\n",
    "# webwinkel_json = {'data': {'kledingstuk': 'tshirt', 'maat': 'l', 'kleur': 'geel'}}\n",
    "# webwinkel_json = {'data': {}}\n",
    "\n",
    "match webwinkel_json['data']:\n",
    "    case data if len(data) == 0:\n",
    "        print('geen data gekregen')\n",
    "    \n",
    "    case {'kledingstuk': kledingstuk, 'maat': ('s' | 'm') as maat, 'kleur': kleur}:\n",
    "        if maat == 's':\n",
    "            classificatie = 'klein' \n",
    "        else:\n",
    "            classificatie = 'middel-groot'\n",
    "        print(f'Deze persoon is {classificatie}, heeft een {kledingstuk} met de kleur: {kleur}')\n",
    "        \n",
    "    case {'kledingstuk': kledingstuk, 'maat': 'l'}:\n",
    "        print(f'Iemand met een groot postuur heeft een {kledingstuk} aangeschaft')\n",
    "        "
   ]
  },
  {
   "cell_type": "markdown",
   "id": "03e4ed11-e66e-4320-8893-62e3a484c915",
   "metadata": {},
   "source": [
    "### Het matchen van types\n",
    "Het is ook mogenlijk om op een `type` of classificatie van een variabele te matchen.  \n",
    "Dit gebeurd met de `()` achter een type zoals: `int`.  \n",
    "De [haakjes] zijn nodig, dit geeft aan dat het een match moet zijn op basis van `type` of `class`.  \n",
    "Anders zal de data gebonden worden aan het opgegeven variabele.  \n",
    "\n",
    "[haakjes]: https://nl.wikipedia.org/wiki/Haakje"
   ]
  },
  {
   "cell_type": "code",
   "execution_count": null,
   "id": "bfee61a5-b43e-4815-93e3-622fdf695aa2",
   "metadata": {},
   "outputs": [],
   "source": [
    "data: str = \"string\"\n",
    "# data: int = 1_000_000\n",
    "# data: float = 0.00001\n",
    "\n",
    "\n",
    "match data:\n",
    "    case int():\n",
    "        print(f'{data} is een int')\n",
    "    case float():\n",
    "        print(f'{data:.6f} is een float')\n",
    "    case str():\n",
    "        print(f'{data} is een str')"
   ]
  },
  {
   "cell_type": "markdown",
   "id": "b7fedc92-3807-4231-8d35-8f162a2524ea",
   "metadata": {},
   "source": [
    "---\n",
    "### Switch-case alternatieven gebruikt in oudere Python versies.\n",
    "Het is goed om te weten dat er verschillen zijn in Python versies.  \n",
    "Soms kan het niet anders en moet er gewerkt worden met een oudere versie van Python.  \n",
    "Dan zijn er altijd alternatieve constructies te maken. Toch zijn deze niet zo flexibel als de match-case statements."
   ]
  },
  {
   "cell_type": "markdown",
   "id": "945c194b-587c-4b29-96e7-7f6723b63074",
   "metadata": {},
   "source": [
    "#### Lookup table\n",
    "Hiervoor wordt er gebruikt gemaakt van een `dict`."
   ]
  },
  {
   "cell_type": "code",
   "execution_count": null,
   "id": "58f9861b-771e-41ba-aa04-e9711b6a77ee",
   "metadata": {},
   "outputs": [],
   "source": [
    "fruit = 'Appel'\n",
    "\n",
    "kleur = {\n",
    "    'appel': 'Rood',\n",
    "    'peer': 'Groen',\n",
    "    'banaan': 'Geel',\n",
    "}.get(fruit.lower(), 'niet bekend')  # `dict` heeft een `get` functie die een default waarde kan teruggeven\n",
    "\n",
    "print(f'De kleur van {fruit} is {kleur}.')"
   ]
  },
  {
   "cell_type": "markdown",
   "id": "4147a389-d8b1-4c7a-b176-82eac8b4fd00",
   "metadata": {},
   "source": [
    "#### if-elif-else condities\n",
    "Het gebruik van de equals-operators in de if-elif statements laat zien dat het netter is om een match-case statement er voor deze logica te gebruiken."
   ]
  },
  {
   "cell_type": "code",
   "execution_count": null,
   "id": "256537b8-6527-407c-b461-5d4ec3419e5e",
   "metadata": {},
   "outputs": [],
   "source": [
    "fruit = 'Peer'\n",
    "\n",
    "fruit_l = fruit.lower()  # alleen lower-case letters\n",
    "if fruit_l == 'appel':\n",
    "    kleur = 'Rood'\n",
    "elif fruit_l == 'peer':\n",
    "    kleur = 'Groen'\n",
    "elif fruit_l == 'banaan':\n",
    "    kleur = 'Geel'\n",
    "else:\n",
    "    kleur = 'niet bekend'\n",
    "    \n",
    "print(f'De kleur van {fruit} is {kleur}.')"
   ]
  },
  {
   "cell_type": "markdown",
   "id": "2306fecc-34e6-4261-a438-cca0db34f1cf",
   "metadata": {
    "tags": []
   },
   "source": [
    "---\n",
    "### Oefeningen Structural Patern Matching\n",
    "\n",
    "Een API geeft aan welke dag van de week het is.  \n",
    "De API geeft een dictionary waarvan een key in de `dict` een weekdag aanduidt.  \n",
    "De API is niet consistent, de weekdag kan de volledige naam of een cijfer zijn.  \n",
    "\n",
    "De opdracht voor deze oefening:\n",
    "> Filter de API output met `match` en `case` zodat er wordt uitgeprint of het weekend is of niet.\n",
    "\n",
    "Gegeven is de `api` functie en de `WEEK` variabele."
   ]
  },
  {
   "cell_type": "code",
   "execution_count": null,
   "id": "299f678f-2ac6-4d5a-bc29-63eb49091a89",
   "metadata": {},
   "outputs": [],
   "source": [
    "import random\n",
    "\n",
    "# Constant WEEK is een `tupel` van de dagen in de week. De week start op zondag.\n",
    "# index  0         1          2          3           4            5          6\n",
    "WEEK = ('zondag', 'maandag', 'dinsdag', 'woensdag', 'donderdag', 'vrijdag', 'zaterdag')\n",
    "\n",
    "def api() -> dict[str, str | int]:\n",
    "    \"\"\"api dat een dict teruggeeft\n",
    "    structuur van de dict: { data: { weekdag: (`str` of `int`) } }\n",
    "    \"\"\"\n",
    "    dag: str = random.choice(WEEK)\n",
    "    idx: int = WEEK.index(dag)\n",
    "    return {'data': {'weekdag': random.choice((dag, idx))}}\n",
    "\n",
    "\n",
    "# roep de api om de data te krijgen\n",
    "data = api()\n",
    "\n",
    "# voorbeeld\n",
    "match data:\n",
    "    # case ...:\n",
    "    #     print(\"het is weekend\")\n",
    "    # case ...:\n",
    "    #     print(\"het is doordeweeks\")\n",
    "    # case ...:\n",
    "    # ...\n",
    "    case _:\n",
    "        print(\"onbekende dag\")"
   ]
  }
 ],
 "metadata": {
  "kernelspec": {
   "display_name": "Python 3 (ipykernel)",
   "language": "python",
   "name": "python3"
  },
  "language_info": {
   "codemirror_mode": {
    "name": "ipython",
    "version": 3
   },
   "file_extension": ".py",
   "mimetype": "text/x-python",
   "name": "python",
   "nbconvert_exporter": "python",
   "pygments_lexer": "ipython3",
   "version": "3.10.6"
  }
 },
 "nbformat": 4,
 "nbformat_minor": 5
}
