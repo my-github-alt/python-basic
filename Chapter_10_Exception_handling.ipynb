{
 "cells": [
  {
   "cell_type": "markdown",
   "metadata": {
    "pycharm": {
     "name": "#%% md\n"
    }
   },
   "source": [
    "# Exception handling\n",
    "\n",
    "`try`  \n",
    "`except`  \n",
    "`finally`  "
   ]
  },
  {
   "cell_type": "markdown",
   "metadata": {},
   "source": [
    "Mensen maken fouten en programmas worden door mensen geschreven.  \n",
    "\n",
    "Fouten in een programma kan je opvangen met `try` `except`.  \n",
    "De code onder het `try` statement mag een error creëren.  \n",
    "Het blokje code onder de `except` statement vangt de gemaakte error op.  \n",
    "\n",
    "Normaal stopt het programma bij een error, maar als de error is opgevangen gaat het door.  "
   ]
  },
  {
   "cell_type": "markdown",
   "metadata": {},
   "source": [
    "## [try except](https://docs.python.org/3/reference/compound_stmts.html#the-try-statement)\n",
    "\n",
    "[Exception] is een _catch-all_, het is de basis van alle Error Exceptions.  \n",
    "Als de [`assert`] statement een `False` expressie ontvangt zal `assert` doormiddel van [`raise`] een [AssertionError] geven.  \n",
    "Exception zal de AssertionError opvangen.  \n",
    "De error-message die opgegeven is bij `assert` is wordt door `except` aan de `err_msg` variabele gegeven.  \n",
    "\n",
    "[Exception]: https://docs.python.org/3/library/exceptions.html#Exception\n",
    "[`assert`]: https://docs.python.org/3/reference/simple_stmts.html#assert\n",
    "[AssertionError]: https://docs.python.org/3/library/exceptions.html#AssertionError\n",
    "[`raise`]: https://docs.python.org/3/reference/simple_stmts.html#raise"
   ]
  },
  {
   "cell_type": "code",
   "execution_count": null,
   "metadata": {
    "collapsed": false,
    "jupyter": {
     "outputs_hidden": false
    },
    "pycharm": {
     "name": "#%%\n"
    }
   },
   "outputs": [],
   "source": [
    "try:\n",
    "    # `raise` express een AssertionError\n",
    "    fout_waarde = 10 < 0\n",
    "    assert fout_waarde, 'er is iets fout gegaan'\n",
    "except Exception as err_msg:\n",
    "    print(f'error: {err_msg}')\n",
    "\n",
    "print('na de try-except')"
   ]
  },
  {
   "cell_type": "markdown",
   "metadata": {},
   "source": [
    "### Multiple excepts\n",
    "Een stuk code kan meerdere soorten errors geven.  \n",
    "Deze kan worden opgevangen door meerdere `except` statements.  \n",
    "De `except` statement kan ook meerdere soorten errors opvangen.  "
   ]
  },
  {
   "cell_type": "code",
   "execution_count": null,
   "metadata": {
    "collapsed": false,
    "jupyter": {
     "outputs_hidden": false
    },
    "pycharm": {
     "name": "#%%\n"
    }
   },
   "outputs": [],
   "source": [
    "for num in (3, 2, 1, 0):\n",
    "    try:\n",
    "        uitkomst = 10 / num\n",
    "        print(f'10 gedeeld door {num} is: {uitkomst}')\n",
    "        \n",
    "    # delen door 0 wordt opgevangen\n",
    "    except ZeroDivisionError:\n",
    "        print(f'10 kan niet gedeld worden door 0')\n",
    "    \n",
    "    # meerdere errors wordt door deze `except` opgevangen\n",
    "    except (AssertionError, Exception) as err_msg:\n",
    "        print(f'log: Er is een onbekende fout opgetreden:\\n\\t{err_msg}')\n",
    "        print('stop het programma')\n",
    "        exit(1)"
   ]
  },
  {
   "cell_type": "markdown",
   "metadata": {},
   "source": [
    "## finally\n",
    "Na de `try` en `except` kan er ook een `finally` statement geschreven worden.  \n",
    "Dit is optioneel maar al het code in het `finally` blok wordt altijd als laatste uitgevoerd.  \n",
    "Het wordt uitgevoerd waneer er een error ontstaat, of de code geen error geeft.  \n",
    "De code in het `finally` blok wordt vaak gebruikt om een actie netjes af te sluiten.  \n",
    "In het volgende voorbeeld wordt er door `finally` een open file altijd netjes gesloten:  "
   ]
  },
  {
   "cell_type": "code",
   "execution_count": null,
   "metadata": {
    "collapsed": false,
    "jupyter": {
     "outputs_hidden": false
    },
    "pycharm": {
     "name": "#%%\n"
    }
   },
   "outputs": [],
   "source": [
    "print('open een nieuw bestand')\n",
    "# mode van open is 'w' en kan dus alleen str schrijven.\n",
    "# 'wb' is de mode die bytes kan schrijven. \n",
    "new_file = open('nieuw_bestand.txt', 'w')\n",
    "\n",
    "try:\n",
    "    print('try: schrijf naar het nieuwe bestand')\n",
    "    new_file.write(b'dit is geen str, dit zijn bytes')\n",
    "except TypeError as err:\n",
    "    print(f'except: {err}')\n",
    "finally:\n",
    "    print('finally: sluit altijd het bestand')\n",
    "    new_file.close()\n"
   ]
  },
  {
   "cell_type": "markdown",
   "metadata": {
    "pycharm": {
     "name": "#%% md\n"
    }
   },
   "source": [
    "### Oefeningen Exception handling\n",
    "\n",
    "Maak een try-except met een `assert` statement die een error geeft.  \n",
    "Laat de `assert` falen en print de error.  \n",
    "print 'finally' in het `finally` block"
   ]
  }
 ],
 "metadata": {
  "kernelspec": {
   "display_name": "Python 3 (ipykernel)",
   "language": "python",
   "name": "python3"
  },
  "language_info": {
   "codemirror_mode": {
    "name": "ipython",
    "version": 3
   },
   "file_extension": ".py",
   "mimetype": "text/x-python",
   "name": "python",
   "nbconvert_exporter": "python",
   "pygments_lexer": "ipython3",
   "version": "3.10.6"
  }
 },
 "nbformat": 4,
 "nbformat_minor": 4
}
