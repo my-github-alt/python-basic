{
 "cells": [
  {
   "cell_type": "markdown",
   "metadata": {
    "pycharm": {
     "name": "#%% md\n"
    }
   },
   "source": [
    "# Installing third-party packages\n",
    "`PyPI`  Python Package Index  \n",
    "`pip`  package installer for Python  \n",
    "`venv`  virtual environment  \n"
   ]
  },
  {
   "cell_type": "markdown",
   "metadata": {},
   "source": [
    "## [PyPI](https://pypi.org/)\n",
    "PyPI staat voor: Python Package Index.  \n",
    "PyPI is een platform waar software ontwikkelaars hun open-source Python package kunnen aanbieden.   \n",
    "Hier zijn alle Python pakketten op te vinden waaronder ook: [Selenium](https://pypi.org/project/selenium/)  \n",
    "\n",
    "Alle pakketten op PyPI kan met `pip` geinstalleerd worden. \n"
   ]
  },
  {
   "cell_type": "markdown",
   "metadata": {},
   "source": [
    "## [pip](https://docs.python.org/3/tutorial/venv.html?#managing-packages-with-pip)\n",
    "Pip staat voor: Package Installer for Python \n",
    "\n",
    "\n",
    "`pip` is het commandline programma waarmee de Python pakketten van PyPI gedownload en geinstaleerd worden.  \n",
    "De dependencies (andere pakketten die benodigd zijn) worden ook mee gedownload en geinstaleerd.  \n",
    "Bijvoorbeeld bij selenium wordt urllib3 ook geinstaleerd.  \n",
    "\n",
    "`pip` wordt mee geinstaleerd met Python. \n",
    "\n",
    "Voorbeeld met PowerShell: \n",
    "\n",
    "`C:\\Users\\username> pip --help`"
   ]
  },
  {
   "cell_type": "code",
   "execution_count": null,
   "metadata": {
    "collapsed": false,
    "jupyter": {
     "outputs_hidden": false
    },
    "pycharm": {
     "name": "#%%\n"
    }
   },
   "outputs": [],
   "source": [
    "!pip --help"
   ]
  },
  {
   "cell_type": "markdown",
   "metadata": {},
   "source": [
    "## [venv](https://docs.python.org/3/tutorial/venv.html?)\n",
    "`venv` is een Python module die, net als pip, op de commandline te bedienen is.  \n",
    "`venv` zorgt ervoor dat je project en je gedownloade pakketten niet de ander in de weg zit.  \n",
    "Stel, je project gebruikt Selenium 2.0 en een ander project gebruikt Selenium 3.0.  \n",
    "Er kan maar één Selenium geinstalleerd zijn op je computer en 3.0 breekt het project dat 2.0 gebruikt.  \n",
    "Hiervoor gebruik je dan een virtual environment.  \n",
    "\n",
    "Voorbeeld met PowerShell:  \n",
    "\n",
    "`C:\\Users\\username> python -m venv --help`"
   ]
  },
  {
   "cell_type": "code",
   "execution_count": null,
   "metadata": {
    "collapsed": false,
    "jupyter": {
     "outputs_hidden": false
    },
    "pycharm": {
     "name": "#%%\n"
    }
   },
   "outputs": [],
   "source": [
    "!python -m venv --help"
   ]
  },
  {
   "cell_type": "markdown",
   "metadata": {
    "pycharm": {
     "name": "#%% md\n"
    }
   },
   "source": [
    "Hieronder een voorbeeld van de commandline waar de commandos hetvolgende doen:  \n",
    "\n",
    "* Maak een virtual environment folder aan met de naam `venv_folder` in de `Desktop` folder.  \n",
    "* Navigeer naar de folder waar het `activate` script in te vinden is.  \n",
    "* Draai het `activate` script.  \n",
    "* Instaleer selenium met `pip`.    "
   ]
  },
  {
   "cell_type": "markdown",
   "metadata": {
    "pycharm": {
     "name": "#%% md\n"
    }
   },
   "source": [
    "```\n",
    "C:\\Users\\username\\Desktop> python -m venv venv_folder \n",
    "C:\\Users\\username\\Desktop> cd .\\venv_folder\\Scripts\\ \n",
    "C:\\Users\\username\\Desktop\\venv_folder\\Scripts> .\\Activate.ps1 \n",
    "(venv_folder) PS C:\\Users\\username\\Desktop\\venv_folder\\Scripts> pip install selenium \n",
    "Collecting selenium \n",
    "... \n",
    "```"
   ]
  },
  {
   "cell_type": "markdown",
   "metadata": {
    "pycharm": {
     "name": "#%% md\n"
    }
   },
   "source": [
    "Nu is een kopie van de Python interpreter in de `venv_folder` geplaatst.  \n",
    "De `activate` script voegt tijdelijk een locatie toe aan [PATH].  \n",
    "Hierdoor verwijst het command `python` naar de interpreter in de `venv_folder`.  \n",
    "Ook is er een [alias] gemaakt met de naam `deactivate`.  \n",
    "Het `deactivate` commando deactiveerd het geactiveerde virtual environment.  \n",
    "\n",
    "[PATH]: https://en.wikipedia.org/wiki/PATH_(variable)\n",
    "[alias]: https://en.wikipedia.org/wiki/Alias_(command)"
   ]
  },
  {
   "cell_type": "markdown",
   "metadata": {},
   "source": [
    "## Third-party package managers\n",
    "\n",
    "De third-party package managers hebben wat voordelen over pip.  \n",
    "Maar de overeenkomsten zijn groot.  \n",
    "\n",
    "* [pipenv](https://github.com/pypa/pipenv)  \n",
    "pipenv heeft een .lock file waarbij requirements stricter kan worden opgesteld.  \n",
    "Dit is vooral handig als Python in combinatie met andere talen gebruikt wordt.  \n",
    "* [poetry](https://python-poetry.org/)  \n",
    "Met poetry is het erg gemakkelijk om pypi-packages aan te maken  \n",
    "* [anaconda](https://www.anaconda.com/products/individual)  \n",
    "De scientific en data georiënteerde software ontwikkelaars gebruiken deze package manager het meest.  \n",
    "Als anaconda wordt geïnstalleerd dan worden er ook veel andere basispakketen geinstalleerd zoals: JupiterLab, numpy, pandas, etc.  \n"
   ]
  },
  {
   "cell_type": "markdown",
   "metadata": {},
   "source": [
    "### Oefeningen Installing third-party packages\n"
   ]
  },
  {
   "cell_type": "markdown",
   "metadata": {},
   "source": [
    "* Maak een nieuw Python virtual environment aan.  \n",
    "* Activeer de virtual environment.  \n",
    "* Upgrade [`pip`][pip] zodat `pip` de laatste versie heeft.  \n",
    "* Installeer met [`pip`][pip_install] de package [`selenium`](https://pypi.org/project/selenium/).  \n",
    "* Start een Python shell (commando `python` in de commandline).   \n",
    "* Importeer selenium.  \n",
    "\n",
    "[pip]: https://pip.pypa.io/en/stable/installing/#upgrading-pip\n",
    "[pip_install]: https://pip.pypa.io/en/stable/cli/pip_install/#pip-install"
   ]
  }
 ],
 "metadata": {
  "kernelspec": {
   "display_name": "Python 3 (ipykernel)",
   "language": "python",
   "name": "python3"
  },
  "language_info": {
   "codemirror_mode": {
    "name": "ipython",
    "version": 3
   },
   "file_extension": ".py",
   "mimetype": "text/x-python",
   "name": "python",
   "nbconvert_exporter": "python",
   "pygments_lexer": "ipython3",
   "version": "3.10.6"
  }
 },
 "nbformat": 4,
 "nbformat_minor": 4
}
