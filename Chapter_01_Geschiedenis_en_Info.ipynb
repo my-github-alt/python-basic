{
 "cells": [
  {
   "cell_type": "markdown",
   "id": "1b18d9cb",
   "metadata": {},
   "source": [
    "# Geschiedenis en informatie"
   ]
  },
  {
   "cell_type": "markdown",
   "id": "dd68bf6c",
   "metadata": {},
   "source": [
    "* [1991]   \n",
    "Python is in 1991 ontworpen en wordt nog steeds ontwikkeld.\n",
    "\n",
    "* [Guido van Rossum](https://nl.wikipedia.org/wiki/Guido_van_Rossum)  \n",
    "Guido is de bedenker van Python, zijn favoriete televisieprogramma is Monty Python's Flying Circus. Vandaar de naam Python. Wil je nog meer weten over Guido, kijk eens naar het interview met van Rossum op [tweakers](https://tweakers.net/video/11095/polderpioniers-guido-van-rossum-ontwerper-van-de-programmeertaal-python.html).\n",
    "  \n",
    "* [C/C++](https://docs.python.org/3/extending/index.html)  \n",
    "Python is een taal die gebouwd is op basis van [C].\n",
    "C en [C++](https://nl.wikipedia.org/wiki/C%2B%2B) zijn gecompileerde talen die efficienter en sneller zijn in het berekenen van grote sommen of formules.\n",
    "In die talen kan code geschreven worden die Python kan gebruiken (via bindings bijvoorbeeld). Veel Python modules gebruiken deze functionaliteit om code die al geschreven is te gebruiken in Python of berekeningen sneller te maken. Een andere use-case zou zijn om Python te gebruiken om C/C++ programma's te testen.\n",
    " \n",
    "  \n",
    "* [IDLE](https://docs.python.org/3/library/idle.html) / Python console  \n",
    "IDLE is een programma wat gebruikt kan worden om meer van de taal Python te leren en snel en interactief Python code te kunnen testen. IDLE staat voor Integrated Development and Learning Environment.  \n",
    "Deze IDE is volledig gemaakt in Python en gebruikt [Tk] voor de GUI.  \n",
    "  \n",
    "* [Jupyter Notebook](https://jupyter.org/)  \n",
    "Een interactive programmeer omgeving ontworpen in [2014](https://en.wikipedia.org/wiki/Project_Jupyter).  \n",
    "Jupyter Notebooks worden vaak gebruikt door wetenschappers vanwege de functionaliteit en het gemak voor de gebruiker. \n",
    "  \n",
    "* Indentations & [PEP8](https://www.python.org/dev/peps/pep-0008/)  \n",
    "Python kent geen accolades om blokken code van elkaar te onderscheiden, Python gebruikt hiervoor indentaties (inspring).  \n",
    "Om de leesbaarheid van de code te waarborgen is er een [Style Guide for Python Code](https://www.python.org/dev/peps/pep-0008/ \"PEP-8\") gemaakt. Het wordt ten zeerste aanbevolen hieraan te confirmeren en ook vaak afgedwongen door IDE's.\n",
    "\n",
    "\n",
    "[1991]: https://nl.wikipedia.org/wiki/Python_(programmeertaal) \n",
    "[C]: https://nl.wikipedia.org/wiki/C_(programmeertaal)\n",
    "[Tk]: https://en.wikipedia.org/wiki/Tk_(software)"
   ]
  },
  {
   "cell_type": "markdown",
   "id": "e8a2bf4f",
   "metadata": {},
   "source": [
    "## De IDE\n",
    "Een IDE ([`Integrated development environment`](https://nl.wikipedia.org/wiki/Integrated_development_environment)) is een omgeving om Python code te maken en uit te voeren. \n",
    "Het gebruiken van een IDE is geen verplichting maar maakt je leven als programmeur vaak een stuk eenvoudiger. Een IDE ondersteunt een ontwikkelaar bij het maken van code bijvoorbeeld naar welke libraries  \n",
    "moet worden verwezen wanneer er een aanroep naar staat in de code. Of welke functies of eigenschappen een bepaalde library of klasse hebben.  "
   ]
  },
  {
   "cell_type": "markdown",
   "id": "bff6175c",
   "metadata": {},
   "source": [
    "### Jupyter Notebook / Jupyter Lab\n",
    "Dit bestand (waar je nu naar kijkt) is een `.ipynb` (IPythonNoteBook) bestand. Het is gemaakt met Jupyter Lab. \n",
    "Jupyter Lab is een IDE waarin met meerdere programeertalen ontwikkeld kan worden en vooral de [data/science] engineers gebruiken het graag.  \n",
    "De combi van rijke documentatie en code spreekt hen erg aan.  \n",
    "\n",
    "Het is ook een goede tool om Python code uit te leggen doordat de uitkomst van de code meteen zichtbaar wordt na het uitvoeren van de code in een 'cell' (rij).  \n",
    "\n",
    "We **raden af om te leren coderen in Python met Jupyter Lab** want  \n",
    "Jupyter Lab `.ipynb` scripts zijn geen normale Python scripts.  \n",
    "De volgorde van uitvoeren van verschillende code blokken is niet voorspelbaar, dit kan onverwachte situaties of fouten veroorzaken. Het is wel makkelijk om even snel iets in te prototypen maar echte programma's daar zijn andere IDE's beter geschikt voor. \n",
    "\n",
    "[data/science]: https://nl.wikipedia.org/wiki/Datawetenschap"
   ]
  },
  {
   "cell_type": "markdown",
   "id": "bcfd05b9",
   "metadata": {},
   "source": [
    "### Wat wel te gebruiken om Python te leren\n",
    "We raden [Pycharm] als IDE aan om de volgende redenen:\n",
    "* Goede [code completion]\n",
    "* Automatisch een [virtual environment] voor elk project\n",
    "* [pip] packages GUI\n",
    "* Redelijke [style guide] hints\n",
    "* Veel [plugins]\n",
    "* Ingebouwde [versie control]\n",
    "\n",
    "[Pycharm]: https://www.jetbrains.com/pycharm/download/\n",
    "[code completion]: https://www.jetbrains.com/help/pycharm/auto-completing-code.html\n",
    "[code inspection]: https://www.jetbrains.com/help/pycharm/code-inspection.html\n",
    "[virtual environment]: https://www.jetbrains.com/help/pycharm/creating-virtual-environment.html\n",
    "[pip]: https://www.jetbrains.com/help/pycharm/installing-uninstalling-and-upgrading-packages.html#interpreter-settings\n",
    "[style guide]: https://www.jetbrains.com/help/pycharm/quick-start-guide.html#code-style\n",
    "[plugins]: https://www.jetbrains.com/help/pycharm/managing-plugins.html\n",
    "[versie control]: https://www.jetbrains.com/help/pycharm/version-control-integration.html"
   ]
  },
  {
   "cell_type": "markdown",
   "id": "05f37e8e",
   "metadata": {
    "pycharm": {
     "name": "#%% md\n"
    }
   },
   "source": [
    "#### Alternatieven\n",
    "Hieronder nog een paar goede opties:\n",
    "* [Visualstudio Code](https://code.visualstudio.com/Download)\n",
    "* [Spyder](https://www.spyder-ide.org/)\n",
    "* [Thonny](https://thonny.org/)\n"
   ]
  }
 ],
 "metadata": {
  "kernelspec": {
   "display_name": "Python 3 (ipykernel)",
   "language": "python",
   "name": "python3"
  },
  "language_info": {
   "codemirror_mode": {
    "name": "ipython",
    "version": 3
   },
   "file_extension": ".py",
   "mimetype": "text/x-python",
   "name": "python",
   "nbconvert_exporter": "python",
   "pygments_lexer": "ipython3",
   "version": "3.10.4"
  }
 },
 "nbformat": 4,
 "nbformat_minor": 5
}
