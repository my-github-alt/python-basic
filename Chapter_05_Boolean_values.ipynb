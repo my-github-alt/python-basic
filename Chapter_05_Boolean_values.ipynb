{
 "cells": [
  {
   "cell_type": "markdown",
   "id": "2f6aba3e",
   "metadata": {},
   "source": [
    "# Boolean values\n",
    "\n",
    "Een boolean is [`True`](https://docs.python.org/3/library/constants.html?#True) of [`False`](https://docs.python.org/3/library/constants.html?#False) .  \n",
    "\n",
    "Een vergelijking dat waar is heeft een [`bool`](https://docs.python.org/3/library/functions.html?bool#bool) met de waarde `True` .  \n",
    "Iets dat niet waar is heeft de `bool` waarde `False` .  \n",
    "\n",
    "[`None`](https://docs.python.org/3/library/constants.html?#None) representeerd de afwezigheid van een waarde.  \n",
    "De `bool` waarde van afwezigheid is `False`.  \n",
    "\n",
    "`0` is de afwezigheid van een getal.  \n",
    "`[]` is een lege lijst waar waardes afwezig zijn.  \n",
    "`{}` is een lege dict waar waardes afwezig zijn.  \n",
    "etc.  \n",
    "\n",
    "Elke lege data container is een `False` boolean value.  "
   ]
  },
  {
   "cell_type": "code",
   "execution_count": null,
   "id": "96c812b9",
   "metadata": {},
   "outputs": [],
   "source": [
    "print(bool(\"\"))"
   ]
  },
  {
   "cell_type": "markdown",
   "id": "e8fae520-6b35-4fbb-8813-b5e8bc59d8d1",
   "metadata": {},
   "source": [
    "Python heeft naast `True` en `False` ook `None`.  \n",
    "`None` geeft aan dat een waarde er (nog) niet is, het is een placeholder.  \n",
    "Functies die niet specifiek een waarde terug geven, geven dan altijd een `None` terug.  \n",
    "Omdat `None` een lege plek voorsteld is de boolean waarde van `None` altijd `False`.  "
   ]
  },
  {
   "cell_type": "code",
   "execution_count": null,
   "id": "dadce101-46c2-4014-8cd4-41897c443ea4",
   "metadata": {},
   "outputs": [],
   "source": [
    "een_variable = None  # `een_variable` kan later in het script een andere waarde krijgen.  \n",
    "print(bool(een_variable))"
   ]
  },
  {
   "cell_type": "code",
   "execution_count": null,
   "id": "8ee7b6ce-8124-4bc5-b878-9eed5b8afd9d",
   "metadata": {},
   "outputs": [],
   "source": [
    "# append geeft geen nieuwe lijst terug, maar een `None`\n",
    "een_lijst = list()\n",
    "dit_is_none = een_lijst.append(1)\n",
    "\n",
    "print(dit_is_none)\n",
    "print(een_lijst)"
   ]
  },
  {
   "cell_type": "markdown",
   "id": "610b8f9c-c5d6-4a09-9f29-d08da57a6ace",
   "metadata": {},
   "source": [
    "###  Oefeningen Boolean values"
   ]
  },
  {
   "cell_type": "markdown",
   "id": "f8c3b18d-5643-4044-bce0-c0d00cfc3fc3",
   "metadata": {},
   "source": [
    "Wat zijn de `int` waardes van `True` en `False` ?"
   ]
  },
  {
   "cell_type": "code",
   "execution_count": null,
   "id": "50975f44-9b38-421f-b760-7873b0a52a6f",
   "metadata": {},
   "outputs": [],
   "source": []
  },
  {
   "cell_type": "code",
   "execution_count": null,
   "id": "b3043a09-79b9-4388-a756-f5ec3f03bbd5",
   "metadata": {},
   "outputs": [],
   "source": []
  },
  {
   "cell_type": "markdown",
   "id": "369b04bc-a86e-47ca-aa7b-60ec4dd7e7a7",
   "metadata": {},
   "source": [
    "Wat is de `bool` waarde van de string (`str`) `\"False\"` ?"
   ]
  },
  {
   "cell_type": "code",
   "execution_count": null,
   "id": "e99e0b1f-570f-4961-94da-35d7b6564103",
   "metadata": {},
   "outputs": [],
   "source": [
    "false: str = \"False\"\n",
    "# bool van `false` ?"
   ]
  },
  {
   "cell_type": "markdown",
   "id": "ff5fc144-1a4a-432b-8303-6af20d92ee97",
   "metadata": {},
   "source": [
    "Wat is de waarde dat je van de functie `print()` terugkrijgt ?"
   ]
  },
  {
   "cell_type": "code",
   "execution_count": null,
   "id": "2bf11a56-19cf-493c-9518-163644618966",
   "metadata": {},
   "outputs": [],
   "source": []
  },
  {
   "cell_type": "markdown",
   "id": "8d99c52e-7704-44f1-9a06-11cc8e4548e9",
   "metadata": {},
   "source": [
    "[`assert`] is een statement dat test of de expressie `True` is.  \n",
    "Als de expressie `False` is is het een [`AssertionError`] en stopt het Python script gelijk.  \n",
    "\n",
    "> `assert` expressie  \n",
    "\n",
    "of  \n",
    "\n",
    "> `assert` expressie, 'errormessage'\n",
    "\n",
    "[`assert`]: https://docs.python.org/3/reference/simple_stmts.html#assert\n",
    "[`AssertionError`]: https://docs.python.org/3/library/exceptions.html#AssertionError"
   ]
  },
  {
   "cell_type": "code",
   "execution_count": null,
   "id": "de0e4978-a179-4035-9122-9c535fa7f28e",
   "metadata": {},
   "outputs": [],
   "source": [
    "# voorbeeld assert\n",
    "assert bool('dit geeft een boolean terug'), 'dit is een error message'"
   ]
  },
  {
   "cell_type": "markdown",
   "id": "18b17ded-83b6-4c09-86db-b6593a362bac",
   "metadata": {},
   "source": [
    "Maak een `assert` die checkt of `True` van het type `bool` is. Doe dit ook voor `False`.  "
   ]
  },
  {
   "cell_type": "code",
   "execution_count": null,
   "id": "cc13320b-15e0-4bd3-ba70-82a713dfd500",
   "metadata": {},
   "outputs": [],
   "source": []
  },
  {
   "cell_type": "markdown",
   "id": "4e3f67c3-322c-4277-bd20-c2a03416628d",
   "metadata": {},
   "source": [
    "Maak een `assert` die checkt of `True` gelijk is aan 1 en een die `False` gelijk is aan 0."
   ]
  },
  {
   "cell_type": "code",
   "execution_count": null,
   "id": "2f65304e-cfd1-4f5b-a7a9-73be223838bb",
   "metadata": {},
   "outputs": [],
   "source": []
  }
 ],
 "metadata": {
  "kernelspec": {
   "display_name": "Python 3 (ipykernel)",
   "language": "python",
   "name": "python3"
  },
  "language_info": {
   "codemirror_mode": {
    "name": "ipython",
    "version": 3
   },
   "file_extension": ".py",
   "mimetype": "text/x-python",
   "name": "python",
   "nbconvert_exporter": "python",
   "pygments_lexer": "ipython3",
   "version": "3.10.6"
  }
 },
 "nbformat": 4,
 "nbformat_minor": 5
}
