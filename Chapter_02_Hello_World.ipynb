{
 "cells": [
  {
   "cell_type": "markdown",
   "id": "adca3b71",
   "metadata": {},
   "source": [
    "# Hello World"
   ]
  },
  {
   "cell_type": "markdown",
   "id": "e256fa75",
   "metadata": {},
   "source": [
    "- Beschouw onderstaand stukje code:"
   ]
  },
  {
   "cell_type": "code",
   "execution_count": null,
   "id": "34c979ca",
   "metadata": {},
   "outputs": [],
   "source": [
    "# een lijn met commentaar start met een `#`\n",
    "def print_hi(name):\n",
    "    print(f'Hi, {name}!')\n",
    "naam = 'Python'\n",
    "print_hi(naam)"
   ]
  },
  {
   "cell_type": "markdown",
   "id": "9481f11f",
   "metadata": {},
   "source": [
    "- We gaan er stap voor stap doorheen:\n",
    "  - Een hekje start een commentaar regel. \n",
    "  - Daaronder staat een functie declaratie. Daarbinnen de inhoud van de functie. \n",
    "  - Variabele declaratie en toekenning.\n",
    "  - Aanroep van de functie. \n",
    "- Voordat we verder gaan. Even een stap terug. Beginnend bij de print functie. "
   ]
  },
  {
   "cell_type": "markdown",
   "id": "6320a0bd",
   "metadata": {},
   "source": [
    "### print\n",
    "- Print doet precies wat het zegt. Het print iets op de console. \n",
    "  - Console kan een command-prompt zijn maar ook de Run-Time logging die te zien is in in een IDE. "
   ]
  },
  {
   "cell_type": "code",
   "execution_count": null,
   "id": "4a688315",
   "metadata": {},
   "outputs": [],
   "source": [
    "print('Hello World!')"
   ]
  },
  {
   "cell_type": "markdown",
   "id": "d184e1e6",
   "metadata": {},
   "source": [
    "### functie definitie (def)\n",
    "- Je maakt een functie aan door keyword def en dan de naam van je functie te typen gevolgd door een dubbelepunt, voorbeeld: `def print_hi():` \n",
    "- De code die je wilt die wordt uitgevoerd door je functie zet je eronder. Bijvoorbeeld:"
   ]
  },
  {
   "cell_type": "code",
   "execution_count": null,
   "id": "c73d8617",
   "metadata": {},
   "outputs": [],
   "source": [
    "def print_hi():\n",
    "    print('Hi!')"
   ]
  },
  {
   "cell_type": "markdown",
   "id": "7ce2a258",
   "metadata": {},
   "source": [
    "- Het valt je misschien op, dat wanneer je de bovenstaande code uitvoert, er niks gebeurt. Tenminste je ziet niets gebeuren. Dit is verklaarbaar. Je roept de functie immers niet aan, je definieert hem alleen maar. \n",
    "- Nu gaan we nog een stap verder. We gaan de functie aanroepen. "
   ]
  },
  {
   "cell_type": "code",
   "execution_count": null,
   "id": "988adb1b",
   "metadata": {},
   "outputs": [],
   "source": [
    "def print_hi():\n",
    "    print('Hi!')\n",
    "    \n",
    "print_hi()"
   ]
  },
  {
   "cell_type": "markdown",
   "id": "99949ed7",
   "metadata": {},
   "source": [
    "### Variabelen\n",
    "- Je maakt een nieuwe variabele aan door hem te definieren en toe te kennen. In Python gaat dit op een regel: `naam = 'Python'`\n",
    "- Je kan de waarde van de variabele doorgeven aan een functie. Denk terug aan je `print_hi` functie van net. Een variable koppelen aan je functie doe je door deze variabele in de haakjes te zetten, bijvoorbeeld: `print_hi(naam)`. \n",
    "- Volgende stap is het gebruik, in ditzelfde voorbeeld, `print(f'Hi, {name}!')` waarin *f* staat voor formatted string. \n",
    "- Python evalueert {name} daarbinnen en pakt de waarde (Python) uit het geheugen. Het resulaat kan je testen door uit te voeren."
   ]
  },
  {
   "cell_type": "code",
   "execution_count": null,
   "id": "84ea8faf",
   "metadata": {},
   "outputs": [],
   "source": [
    "def print_hi(name):\n",
    "    print(f'Hi, {name}!')\n",
    "    \n",
    "naam = 'Python'\n",
    "\n",
    "print_hi(naam)"
   ]
  },
  {
   "cell_type": "markdown",
   "id": "8450222f",
   "metadata": {},
   "source": [
    "## Oefening: Hello World\n",
    "\n",
    "Pas de variabele `naam` in de cel hierboven aan en druk op `► Run` "
   ]
  }
 ],
 "metadata": {
  "kernelspec": {
   "display_name": "Python 3 (ipykernel)",
   "language": "python",
   "name": "python3"
  },
  "language_info": {
   "codemirror_mode": {
    "name": "ipython",
    "version": 3
   },
   "file_extension": ".py",
   "mimetype": "text/x-python",
   "name": "python",
   "nbconvert_exporter": "python",
   "pygments_lexer": "ipython3",
   "version": "3.10.4"
  }
 },
 "nbformat": 4,
 "nbformat_minor": 5
}
