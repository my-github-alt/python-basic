{
 "cells": [
  {
   "cell_type": "markdown",
   "id": "adca3b71",
   "metadata": {},
   "source": [
    "# Hello World"
   ]
  },
  {
   "cell_type": "markdown",
   "id": "e256fa75",
   "metadata": {},
   "source": [
    "Beschouw onderstaand stukje code"
   ]
  },
  {
   "cell_type": "code",
   "execution_count": null,
   "id": "34c979ca",
   "metadata": {},
   "outputs": [],
   "source": [
    "# een lijn met commentaar start met een `#`\n",
    "\n",
    "def print_hi(name):\n",
    "    print(f'Hi, {name}!')\n",
    "\n",
    "naam = 'Python'\n",
    "\n",
    "print_hi(naam)"
   ]
  },
  {
   "cell_type": "markdown",
   "id": "8450222f",
   "metadata": {},
   "source": [
    "## Oefening: Hello World\n",
    "\n",
    "Pas de variabele `naam` in de cel hierboven aan en druk op `► Run` "
   ]
  }
 ],
 "metadata": {
  "kernelspec": {
   "display_name": "Python 3 (ipykernel)",
   "language": "python",
   "name": "python3"
  },
  "language_info": {
   "codemirror_mode": {
    "name": "ipython",
    "version": 3
   },
   "file_extension": ".py",
   "mimetype": "text/x-python",
   "name": "python",
   "nbconvert_exporter": "python",
   "pygments_lexer": "ipython3",
   "version": "3.10.6"
  }
 },
 "nbformat": 4,
 "nbformat_minor": 5
}
