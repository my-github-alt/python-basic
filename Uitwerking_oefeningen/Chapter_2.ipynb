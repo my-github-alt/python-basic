{
 "cells": [
  {
   "cell_type": "markdown",
   "id": "baa7b654-1f9c-4904-9b40-8bbffa67d12f",
   "metadata": {},
   "source": [
    "# Uitwerking oefeningen Chapter 2 Hello World"
   ]
  },
  {
   "cell_type": "code",
   "execution_count": null,
   "id": "8b8e87d8-3518-4d07-a362-3af71ea28639",
   "metadata": {},
   "outputs": [],
   "source": [
    "def print_hi(name):\n",
    "    print(f'Hi, {name}!')\n",
    "   \n",
    "naam = '>>>  Schrijf hier je naam  <<<'\n",
    "\n",
    "print_hi(naam)"
   ]
  }
 ],
 "metadata": {
  "kernelspec": {
   "display_name": "Python 3 (ipykernel)",
   "language": "python",
   "name": "python3"
  },
  "language_info": {
   "codemirror_mode": {
    "name": "ipython",
    "version": 3
   },
   "file_extension": ".py",
   "mimetype": "text/x-python",
   "name": "python",
   "nbconvert_exporter": "python",
   "pygments_lexer": "ipython3",
   "version": "3.10.6"
  }
 },
 "nbformat": 4,
 "nbformat_minor": 5
}
