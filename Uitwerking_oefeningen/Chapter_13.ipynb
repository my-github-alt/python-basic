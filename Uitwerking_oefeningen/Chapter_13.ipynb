{
 "cells": [
  {
   "cell_type": "markdown",
   "id": "339bf290-eb05-4200-acae-4bf6cc74c9ed",
   "metadata": {},
   "source": [
    "# Uitwerking oefeningen Chapter 13 Installing third-party packages"
   ]
  },
  {
   "cell_type": "markdown",
   "id": "da077a01-0747-468d-8a11-de8edd2a72db",
   "metadata": {},
   "source": [
    "* Maak een nieuw Python virtual environment aan. "
   ]
  },
  {
   "cell_type": "markdown",
   "id": "6828d163-509d-421b-b518-1df21a672427",
   "metadata": {},
   "source": [
    "1. open een shell / commandline terminal\n",
    "2. typ het commando: `python -m venv nieuw_venv`"
   ]
  },
  {
   "cell_type": "markdown",
   "id": "b1c3be9c-a532-40d7-8b0a-496853cfb023",
   "metadata": {},
   "source": [
    "* activeer de virtual environment.  "
   ]
  },
  {
   "cell_type": "markdown",
   "id": "8613e4ff-a11c-4081-aab2-7b5ca580a9a0",
   "metadata": {},
   "source": [
    "3. typ het commando: `.\\nieuw_venv\\Scripts\\activate`"
   ]
  },
  {
   "cell_type": "markdown",
   "id": "ddbdfcc8-8ffd-4a68-8724-551ecaefab9a",
   "metadata": {},
   "source": [
    "* Upgrade [`pip`][pip] zodat [`pip`][pip] de laatste versie heeft.\n",
    "\n",
    "[pip]: https://pip.pypa.io/en/stable/installing/#upgrading-pip"
   ]
  },
  {
   "cell_type": "markdown",
   "id": "7d96396b-132d-45ba-a77c-76b89460451b",
   "metadata": {},
   "source": [
    "4. typ het commando: `python -m pip install --upgrade pip`"
   ]
  },
  {
   "cell_type": "markdown",
   "id": "cdfd4d92-a262-4228-b6c8-1a7b02150ee4",
   "metadata": {},
   "source": [
    "* installeer met [`pip`][pip_install] de package [`selenium`](https://pypi.org/project/selenium/).  \n",
    "\n",
    "[pip_install]: https://pip.pypa.io/en/stable/cli/pip_install/#pip-install"
   ]
  },
  {
   "cell_type": "markdown",
   "id": "c29de97c-0d1d-4d5c-a48e-88e96324bfa2",
   "metadata": {},
   "source": [
    "5. typ het commando: `python -m pip install --upgrade selenium`"
   ]
  },
  {
   "cell_type": "markdown",
   "id": "be741ac4-c480-4f11-b8dc-5e2b05cc0c64",
   "metadata": {},
   "source": [
    "* start een Python shell (commando `python` in de commandline).   "
   ]
  },
  {
   "cell_type": "markdown",
   "id": "51ad6043-e6e7-4445-8785-2961fd220241",
   "metadata": {},
   "source": [
    "6. typ het commando: `python`"
   ]
  },
  {
   "cell_type": "markdown",
   "id": "0edd2e0c-417c-4005-a826-8bb1207543b4",
   "metadata": {},
   "source": [
    "* importeer selenium.  "
   ]
  },
  {
   "cell_type": "markdown",
   "id": "9e766664-1157-43b8-97a1-3d5d09412d96",
   "metadata": {},
   "source": [
    "7. in de Python shell\n",
    "```\n",
    "Python 3.9.5 (default, May 27 2021, 19:45:35) \n",
    "[GCC 9.3.0] on linux\n",
    "Type \"help\", \"copyright\", \"credits\" or \"license\" for more information.\n",
    ">>> import selenium\n",
    ">>>\n",
    "```"
   ]
  }
 ],
 "metadata": {
  "kernelspec": {
   "display_name": "Python 3 (ipykernel)",
   "language": "python",
   "name": "python3"
  },
  "language_info": {
   "codemirror_mode": {
    "name": "ipython",
    "version": 3
   },
   "file_extension": ".py",
   "mimetype": "text/x-python",
   "name": "python",
   "nbconvert_exporter": "python",
   "pygments_lexer": "ipython3",
   "version": "3.10.6"
  }
 },
 "nbformat": 4,
 "nbformat_minor": 5
}
