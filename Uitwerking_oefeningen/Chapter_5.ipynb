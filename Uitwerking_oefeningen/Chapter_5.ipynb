{
 "cells": [
  {
   "cell_type": "markdown",
   "id": "f8e78a4a-a69d-45a0-879a-95d98a010a0c",
   "metadata": {},
   "source": [
    "# Uitwerking oefeningen Chapter 5 Boolean values"
   ]
  },
  {
   "cell_type": "markdown",
   "id": "63e30ca5-aa6c-45fd-a237-9650a2c61a82",
   "metadata": {},
   "source": [
    "Wat is de int waarde van True en False ?"
   ]
  },
  {
   "cell_type": "code",
   "execution_count": null,
   "id": "431566cd-f078-4500-a4aa-77e2b652ee57",
   "metadata": {},
   "outputs": [],
   "source": [
    "print(f'{int(True)=}')\n",
    "print(f'{int(False)=}')"
   ]
  },
  {
   "cell_type": "markdown",
   "id": "22241f22-e2d4-4b6d-ae62-197dd659da0e",
   "metadata": {},
   "source": [
    "Wat is de bool waarde van de string (str) \"False\" ?"
   ]
  },
  {
   "cell_type": "code",
   "execution_count": null,
   "id": "4b6e9544-ef90-4d6b-a3f5-e4602044d565",
   "metadata": {},
   "outputs": [],
   "source": [
    "boolean = bool('False')\n",
    "print(boolean)"
   ]
  },
  {
   "cell_type": "markdown",
   "id": "07387246-4182-4db5-a025-7060af64248c",
   "metadata": {},
   "source": [
    "Wat is de waarde dat je van de functie print() terugkrijgt ?"
   ]
  },
  {
   "cell_type": "code",
   "execution_count": null,
   "id": "035834b9-2f36-40d4-8d6b-1ba711ffb8f5",
   "metadata": {},
   "outputs": [],
   "source": [
    "result_print = print()\n",
    "boolean = bool(result_print)\n",
    "print(boolean)"
   ]
  },
  {
   "cell_type": "code",
   "execution_count": null,
   "id": "6f7f003d-0052-4fcc-a7b8-ea00966ae464",
   "metadata": {},
   "outputs": [],
   "source": [
    "print(repr(result_print))"
   ]
  },
  {
   "cell_type": "markdown",
   "id": "34524716-e09d-490d-96b3-b962339d39ef",
   "metadata": {},
   "source": [
    "[`assert` `bool`, `str`](https://docs.python.org/3/reference/simple_stmts.html?highlight=assert#grammar-token-assert-stmt)  \n",
    "`assert` geeft een `AssertionError` als de `bool` een `False` is.\n",
    "voorbeeld:  \n",
    "`assert 1 < 2, 'error: 1 is niet kleiner dan 2'`  "
   ]
  },
  {
   "cell_type": "markdown",
   "id": "a90398b7-b24d-4531-af16-c68e8238c2bc",
   "metadata": {},
   "source": [
    "Maak een assert die checkt of True van het type bool is. Doe dit ook voor False.  "
   ]
  },
  {
   "cell_type": "code",
   "execution_count": null,
   "id": "95427025-8faf-404c-b0df-8b2b887753fe",
   "metadata": {},
   "outputs": [],
   "source": [
    "assert isinstance(True, bool)\n",
    "assert isinstance(False, bool)"
   ]
  },
  {
   "cell_type": "markdown",
   "id": "ca5c7414-931d-4979-8a1a-a2d8628ebcef",
   "metadata": {},
   "source": [
    "Maak een assert die checkt of True gelijk is aan 1 en een die False gelijk is aan 0."
   ]
  },
  {
   "cell_type": "code",
   "execution_count": null,
   "id": "8cb7db3f-baf1-4351-88e1-96f262b4a016",
   "metadata": {},
   "outputs": [],
   "source": [
    "assert 1 == int(True)\n",
    "assert 0 == int(False)"
   ]
  }
 ],
 "metadata": {
  "kernelspec": {
   "display_name": "Python 3 (ipykernel)",
   "language": "python",
   "name": "python3"
  },
  "language_info": {
   "codemirror_mode": {
    "name": "ipython",
    "version": 3
   },
   "file_extension": ".py",
   "mimetype": "text/x-python",
   "name": "python",
   "nbconvert_exporter": "python",
   "pygments_lexer": "ipython3",
   "version": "3.10.6"
  }
 },
 "nbformat": 4,
 "nbformat_minor": 5
}
