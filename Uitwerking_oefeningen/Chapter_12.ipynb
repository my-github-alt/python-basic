{
 "cells": [
  {
   "cell_type": "markdown",
   "id": "f8cd5703-d16e-40e7-a653-8dbbbff51ac7",
   "metadata": {},
   "source": [
    "# Uitwerking oefeningen Chapter 12 Classes and functions"
   ]
  },
  {
   "cell_type": "markdown",
   "id": "1ac8f2fe-f561-40c4-a678-7548476c3fa1",
   "metadata": {},
   "source": [
    "* Maak een `class` genaamd Hond. \n",
    "* Geef de `class` een attribute dat aangeeft hoeveel poten een hond heeft. \n",
    "* Zorg met de `__init__` methode dat een hond een naam kan krijgen. \n",
    "* Maak een methode in de `class` waarmee de hond kan blaffen. "
   ]
  },
  {
   "cell_type": "code",
   "execution_count": null,
   "id": "97ab3322-5bf2-4332-8233-bb4a86874933",
   "metadata": {},
   "outputs": [],
   "source": [
    "class Hond: \n",
    "    aantal_poten = 4 \n",
    "\n",
    "    def __init__(self, naam): \n",
    "        self.naam = naam \n",
    "\n",
    "    def blaf(self): \n",
    "        print(f\"{self.naam} blaft: 'woef!'\") "
   ]
  },
  {
   "cell_type": "code",
   "execution_count": null,
   "id": "1ed7e1be-e4d3-47e2-82bb-e0077a304446",
   "metadata": {},
   "outputs": [],
   "source": [
    "# Start de class Hond met gegeven argument fifi  \n",
    "fifi = Hond(\"fifi\")\n",
    "print(f\"{fifi.naam} heeft {fifi.aantal_poten} kleine pootjes.\") "
   ]
  },
  {
   "cell_type": "code",
   "execution_count": null,
   "id": "7f8b0395-f1a9-4120-b5af-bcf61bca743e",
   "metadata": {},
   "outputs": [],
   "source": [
    "fifi.blaf() "
   ]
  },
  {
   "cell_type": "code",
   "execution_count": null,
   "id": "f3a71603-c515-4811-8c6d-43485431ba2a",
   "metadata": {},
   "outputs": [],
   "source": []
  },
  {
   "cell_type": "markdown",
   "id": "0b88b8e3-9687-4862-9f9d-0d57eb1fc38d",
   "metadata": {},
   "source": [
    "### off-topic: wat is `self`\n",
    "\n",
    "Normaal heeft een methode in de class heeft een niet optioneel, positie vast argument, veelal `self` genoemd.  \n",
    "Deze verwijzing naar de class zelf (daarom de naam) moet het eerste argument zijn.  \n",
    "`self` wordt automatisch gegeven als de class [geïnitialiseerd](https://docs.python.org/3/reference/datamodel.html#object.__new__) is en er een method wordt aangeroepen.  \n",
    "\n",
    "Heeft een methode het argument `self` niet, dan kan het zo zijn dat de methode bedoeld is als [staticmethod].  \n",
    "Om fouten te voorkomen hoort de methode de [decorator] `@staticmethod` te hebben.  \n",
    "Met deze manier kan de methode aangeroepen worden door de class instantie en via de class zelf.  \n",
    "\n",
    "`self` is eigenlijk de instantie van de class.  \n",
    "Dit kan bewezen worden.\n",
    "\n",
    "[staticmethod]: https://docs.python.org/3/library/functions.html#staticmethod\n",
    "[decorator]: https://docs.python.org/3/glossary.html#term-decorator"
   ]
  },
  {
   "cell_type": "code",
   "execution_count": null,
   "id": "57d1b104-e88f-47c5-962c-084d31a7164a",
   "metadata": {},
   "outputs": [],
   "source": [
    "from __future__ import annotations\n",
    "\n",
    "class X:\n",
    "    def id_self(self, /):\n",
    "        assert isinstance(self, X), \"argument must be of instance 'X'\"\n",
    "        return id(self)\n",
    "\n",
    "# initialisering van de class\n",
    "y = X()\n",
    "\n",
    "print(f'{y.id_self() = }')\n",
    "print(f'{id(y) = }')\n",
    "print(f'{(y.id_self() == id(y)) = }')"
   ]
  },
  {
   "cell_type": "markdown",
   "id": "1f1de15e-c6ab-4dd0-bc62-55cd567588bd",
   "metadata": {},
   "source": [
    "Hierboven is class `X` met de methode `id_self` dat het `id` van `self` teruggeeft.  \n",
    "`X` wordt geïnitialiseerd en de instantie wordt aan de variabele `y` gegeven.\n",
    "`y.id_self` en `id(y)` geven hetzelfde nummer terug, dus `self == y`.  \n",
    "\n",
    "Wordt`id_self` aangeroepen zonder de class te inititaliseren, dan geeft Python een [TypeError]\n",
    "\n",
    "[TypeError]: https://docs.python.org/3/library/exceptions.html#TypeError"
   ]
  },
  {
   "cell_type": "code",
   "execution_count": null,
   "id": "442cef23-258f-4c79-ac24-a951d63ce29a",
   "metadata": {},
   "outputs": [],
   "source": [
    "try:\n",
    "    X.id_self()  # id_self is geen static methode dus geeft een error.\n",
    "except TypeError as e:\n",
    "    print(e)"
   ]
  },
  {
   "cell_type": "markdown",
   "id": "c57294c1-db04-45ba-a4f1-d537634ff8ca",
   "metadata": {},
   "source": [
    "`... missing required positional argument: 'self'`. Dat klopt de methode kan geen verwijzing maken naar de instantie van de class.  \n",
    "Zoals we eerder hebben gezien blijkt `y` een verwijzing naar de class `X` te zijn omdat `y` een instantie is van de class.  \n",
    "Dan kunnen we `y` als _positional argument_ `self` aanbieden bij het aanroepen van de methode.  "
   ]
  },
  {
   "cell_type": "code",
   "execution_count": null,
   "id": "405f81c6-25e4-4107-9e27-421fd5d10e3e",
   "metadata": {},
   "outputs": [],
   "source": [
    "print(f'{X.id_self(y) = }')\n",
    "print(f'{(y.id_self() == id(y) == X.id_self(y)) = }')"
   ]
  },
  {
   "cell_type": "markdown",
   "id": "2e0dcaed-8340-4bbe-b14d-535e5abcfe67",
   "metadata": {},
   "source": [
    "Door `y` als argument te geven aan `X.self_id` geeft de code hetzelfde getal terug.  \n",
    "Dus ook nu kan er worden geconcludeerd dat `self == y` waar is.  \n"
   ]
  }
 ],
 "metadata": {
  "kernelspec": {
   "display_name": "Python 3 (ipykernel)",
   "language": "python",
   "name": "python3"
  },
  "language_info": {
   "codemirror_mode": {
    "name": "ipython",
    "version": 3
   },
   "file_extension": ".py",
   "mimetype": "text/x-python",
   "name": "python",
   "nbconvert_exporter": "python",
   "pygments_lexer": "ipython3",
   "version": "3.10.6"
  }
 },
 "nbformat": 4,
 "nbformat_minor": 5
}
