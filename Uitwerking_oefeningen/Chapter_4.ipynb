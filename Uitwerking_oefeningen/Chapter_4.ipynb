{
 "cells": [
  {
   "cell_type": "markdown",
   "id": "402e4405-09a2-4e2f-8645-d3c4c43378d0",
   "metadata": {},
   "source": [
    "# Uitwerking oefeningen Chapter 4 Data containers"
   ]
  },
  {
   "cell_type": "markdown",
   "id": "68189de4-9ca5-4bbf-91d5-7f8064aca67a",
   "metadata": {},
   "source": [
    "Maak een `list` aan en voeg er objecten aan toe.  \n",
    "Voeg andere objecten toe met `append`.  \n",
    "Check wat voor objecten de `list` heeft met `print`.  \n",
    "Check met `isinstance` of de `list` ook een `list` is.  "
   ]
  },
  {
   "cell_type": "code",
   "execution_count": null,
   "id": "19d31a67-47a0-414e-8bc8-2ddc4d1654e5",
   "metadata": {},
   "outputs": [],
   "source": [
    "een_list = ['object1', 2]\n",
    "een_list.append('ander object')\n",
    "print(een_list)\n",
    "isinstance(een_list, list)"
   ]
  },
  {
   "cell_type": "markdown",
   "id": "97571b47-5697-42da-b02a-70d82d61b16a",
   "metadata": {},
   "source": [
    "Maak een `tuple` aan met een paar objecten.  \n",
    "Voeg andere objecten toe aan de `tuple`.  \n",
    "Check wat voor objecten de `tuple` heeft met `print`.  \n",
    "Check met `isinstance` of de `tuple` ook een `tuple` is.  "
   ]
  },
  {
   "cell_type": "code",
   "execution_count": null,
   "id": "3bd3de64-45be-4d17-ae9b-c94321ca0c34",
   "metadata": {},
   "outputs": [],
   "source": [
    "een_tuple = ('object1', 2)\n",
    "een_andere_tuple = een_tuple + ('ander object',)\n",
    "print(een_andere_tuple)\n",
    "isinstance(een_andere_tuple, tuple)"
   ]
  },
  {
   "cell_type": "markdown",
   "id": "2c5d4df1-06fa-4083-989d-0e59f5d5f988",
   "metadata": {},
   "source": [
    "Maak een `set` aan met een paar objecten.  \n",
    "Voeg andere objecten toe aan de `set` met `add`.  \n",
    "Check wat voor objecten de `set` heeft met `print`.  \n",
    "Check met `isinstance` of de `set` ook een `set` is.  "
   ]
  },
  {
   "cell_type": "code",
   "execution_count": null,
   "id": "d9cc5601-daf2-4d75-b73e-e249f4b140eb",
   "metadata": {},
   "outputs": [],
   "source": [
    "een_set = {1, 2, 2, 1}\n",
    "een_set.add('1')\n",
    "print(een_set)\n",
    "isinstance(een_set, set)"
   ]
  },
  {
   "cell_type": "markdown",
   "id": "d0848d02-b982-4896-96ed-16cabc51628b",
   "metadata": {},
   "source": [
    "Maak een `dict` aan met een paar objecten.  \n",
    "Voeg andere objecten toe aan de `dict`.  \n",
    "Voeg andere objecten toe aan de `dict` met `update`.  \n",
    "Check wat voor objecten de `dict` heeft met `print`.  \n",
    "Check met `isinstance` of de `dict` ook een `dict` is.  "
   ]
  },
  {
   "cell_type": "code",
   "execution_count": null,
   "id": "4f047d98-7b8b-4950-b6c6-9b85a40c9347",
   "metadata": {},
   "outputs": [],
   "source": [
    "een_dict = {'key': 'value', 1: 2}\n",
    "een_dict['een_list'] = ['een', 'lijst']\n",
    "een_dict.update({'key': 'value override'})\n",
    "print(een_dict)\n",
    "isinstance(een_dict, dict)"
   ]
  },
  {
   "cell_type": "markdown",
   "id": "ed1f0604-c7d3-4e3e-8645-72bfc1b16048",
   "metadata": {},
   "source": [
    "Schrijf Python code dat de volgende stappen bevat:\n",
    "1. maak een lijst aan met de naam lijst_1\n",
    "2. maak een lijst aan met de naam lijst_2 die lijst_1 bevat\n",
    "3. gebruik append om lijst_2 aan lijst_1 toe te voegen\n",
    "4. bekijk wat lijst_1 bevat"
   ]
  },
  {
   "cell_type": "code",
   "execution_count": null,
   "id": "b0f71222-4a62-45a4-b0ad-f78b1a8f6980",
   "metadata": {},
   "outputs": [],
   "source": [
    "lijst_1 = ['lijst 1']\n",
    "lijst_2 = ['lijst 2', lijst_1]\n",
    "lijst_1.append(lijst_2)\n",
    "lijst_1  # recursive lijst_1"
   ]
  },
  {
   "cell_type": "code",
   "execution_count": null,
   "id": "f745ed3c-672b-46e3-94a4-9b606daf97c2",
   "metadata": {},
   "outputs": [],
   "source": []
  }
 ],
 "metadata": {
  "kernelspec": {
   "display_name": "Python 3 (ipykernel)",
   "language": "python",
   "name": "python3"
  },
  "language_info": {
   "codemirror_mode": {
    "name": "ipython",
    "version": 3
   },
   "file_extension": ".py",
   "mimetype": "text/x-python",
   "name": "python",
   "nbconvert_exporter": "python",
   "pygments_lexer": "ipython3",
   "version": "3.10.6"
  }
 },
 "nbformat": 4,
 "nbformat_minor": 5
}
