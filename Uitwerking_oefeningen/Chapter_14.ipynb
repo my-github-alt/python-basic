{
 "cells": [
  {
   "cell_type": "markdown",
   "id": "8d803b19-4177-4e15-8763-f66a1d66a7d5",
   "metadata": {},
   "source": [
    "# Uitwerking oefeningen Chapter 14 Importing modules"
   ]
  },
  {
   "cell_type": "markdown",
   "id": "987b15f5-bf75-402e-95c5-6f453938cf65",
   "metadata": {},
   "source": [
    "Bekijk de modules van Python op deze website:  \n",
    "https://docs.python.org/3/py-modindex.html   \n",
    "\n",
    "Al deze modules worden geinstalleerd met de Python installatie.  \n",
    "Hieronder een aantal voorbeelden die python modules gebruikt.  "
   ]
  },
  {
   "cell_type": "code",
   "execution_count": null,
   "id": "8a84da4e-485e-4277-aa92-34894ec69dea",
   "metadata": {},
   "outputs": [],
   "source": [
    "# voorbeeld van csv\n",
    "import csv\n",
    "\n",
    "small_csv = \"\"\"Column_A,Column_B,Column_c\\n\n",
    "1,2,3\\n\n",
    "a,b,c\\n\n",
    "\"\"\"\n",
    "\n",
    "csv_dict = csv.DictReader(small_csv.splitlines())\n",
    "print(csv_dict.fieldnames)  # headers\n",
    "\n",
    "for num, row in enumerate(csv_dict, start=1):\n",
    "    print(num, row)  # show row number and row as dict"
   ]
  },
  {
   "cell_type": "code",
   "execution_count": null,
   "id": "4b89301c-3d8c-47b8-9062-383001eec663",
   "metadata": {},
   "outputs": [],
   "source": [
    "# voorbeeld van datetime\n",
    "import datetime\n",
    "\n",
    "release_py2 = datetime.datetime.strptime(\"2000/16/8\", \"%Y/%d/%m\")\n",
    "end_of_life_py2 = datetime.datetime.strptime(\"2020/1/1\", \"%Y/%d/%m\")\n",
    "\n",
    "total_lifetime_py2 = end_of_life_py2 - release_py2\n",
    "print(f'total days of Python2 support: {total_lifetime_py2.days}')"
   ]
  },
  {
   "cell_type": "code",
   "execution_count": null,
   "id": "192b95a3-97d2-43b2-8515-dd75971d7423",
   "metadata": {},
   "outputs": [],
   "source": [
    "# voorbeeld van logging\n",
    "import logging\n",
    "\n",
    "logging.basicConfig(level=logging.DEBUG)\n",
    "logging.debug('een debug bericht')\n",
    "logging.info('een info bericht')"
   ]
  },
  {
   "cell_type": "code",
   "execution_count": null,
   "id": "453cdb86-3e78-475a-b2a6-b8e7a6c1f8e6",
   "metadata": {},
   "outputs": [],
   "source": [
    "# voorbeeld van pathlib\n",
    "from pathlib import Path\n",
    "\n",
    "home = Path.home()\n",
    "curdir = Path.cwd()\n",
    "new_file_path = curdir.joinpath('new_tile.txt')\n",
    "\n",
    "print(f'home directory: {home}')\n",
    "print(f'current directory: {curdir}')\n",
    "print(f'potential new file path: {new_file_path}')\n",
    "\n",
    "# # open the new file and write something in it\n",
    "# with new_file_path.open('w') as open_file:\n",
    "#     open_file.write('A line in the new file.')"
   ]
  },
  {
   "cell_type": "code",
   "execution_count": null,
   "id": "c13e4ef5-e28f-48ec-9c1c-7d029409e366",
   "metadata": {},
   "outputs": [],
   "source": [
    "# voorbeeld van tempfile\n",
    "import tempfile\n",
    "\n",
    "temp = tempfile.NamedTemporaryFile(mode='w', prefix='temp_', suffix='_.txt')\n",
    "temp.write('temporary string')\n",
    "print(f'path to the temporary file: {temp.name}')\n",
    "temp.close()  # deletes the file too"
   ]
  },
  {
   "cell_type": "code",
   "execution_count": null,
   "id": "2fbb4f14",
   "metadata": {
    "collapsed": false,
    "jupyter": {
     "outputs_hidden": false
    },
    "pycharm": {
     "name": "#%%\n"
    }
   },
   "outputs": [],
   "source": [
    "# voorbeeld van doctest\n",
    "import doctest\n",
    "\n",
    "def func(a, b=''):\n",
    "    \"\"\"function that adds `a` to `b` and returns a `str`\n",
    "    >>> func('a', 'b')  # passes\n",
    "    'ab'\n",
    "    >>> func('aa', 'bb')  # fails\n",
    "    'xxyy'\n",
    "    \"\"\"\n",
    "    return str(a) + str(b)\n",
    "\n",
    "# run the doctests\n",
    "result = doctest.testmod()\n",
    "result\n"
   ]
  },
  {
   "cell_type": "code",
   "execution_count": null,
   "id": "6d268fb4",
   "metadata": {
    "collapsed": false,
    "jupyter": {
     "outputs_hidden": false
    },
    "pycharm": {
     "name": "#%%\n"
    }
   },
   "outputs": [],
   "source": [
    "# voorbeeld van unittest\n",
    "import unittest\n",
    "\n",
    "def func(a, b):\n",
    "    return f'{a}{b}'\n",
    "\n",
    "class TestFunc(unittest.TestCase):\n",
    "    def test_func(self):\n",
    "        expected = 'xxyy'\n",
    "        result = func('xx', 'yy')\n",
    "        self.assertEqual(expected, result)\n",
    "        \n",
    "# result = unittest.main()\n",
    "# result"
   ]
  },
  {
   "cell_type": "markdown",
   "id": "0bb541b0-d84f-4fa7-8bd1-fa7046434050",
   "metadata": {},
   "source": [
    "Bekijk wat `import this` doet"
   ]
  },
  {
   "cell_type": "code",
   "execution_count": null,
   "id": "973d30d5-7af5-4122-ab97-a18e8dabec66",
   "metadata": {
    "pycharm": {
     "name": "#%%\n"
    }
   },
   "outputs": [],
   "source": [
    "import this"
   ]
  },
  {
   "cell_type": "code",
   "execution_count": null,
   "id": "7d0b3cdb",
   "metadata": {
    "collapsed": false,
    "jupyter": {
     "outputs_hidden": false
    },
    "pycharm": {
     "name": "#%%\n"
    }
   },
   "outputs": [],
   "source": []
  }
 ],
 "metadata": {
  "kernelspec": {
   "display_name": "Python 3 (ipykernel)",
   "language": "python",
   "name": "python3"
  },
  "language_info": {
   "codemirror_mode": {
    "name": "ipython",
    "version": 3
   },
   "file_extension": ".py",
   "mimetype": "text/x-python",
   "name": "python",
   "nbconvert_exporter": "python",
   "pygments_lexer": "ipython3",
   "version": "3.10.6"
  }
 },
 "nbformat": 4,
 "nbformat_minor": 5
}
