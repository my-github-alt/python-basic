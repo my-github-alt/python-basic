{
 "cells": [
  {
   "cell_type": "markdown",
   "id": "d1e23bda-ea57-428f-b0a4-1b88d2b6ce89",
   "metadata": {},
   "source": [
    "# Uitwerking oefeningen Chapter 9 Loops"
   ]
  },
  {
   "cell_type": "markdown",
   "id": "7fa139e8-d1c7-4800-a299-faabb9959068",
   "metadata": {
    "pycharm": {
     "name": "#%% md\n"
    }
   },
   "source": [
    "### Oefeningen Loops\n",
    "\n",
    "Opdracht 1:  \n",
    "Loop met een for-loop over het alphabet en break de loop zodra de letter `'m'` voorbij komt.  "
   ]
  },
  {
   "cell_type": "code",
   "execution_count": null,
   "id": "3742f148-22f6-42f3-8582-2a6a45d12626",
   "metadata": {},
   "outputs": [],
   "source": [
    "alphabet = [\n",
    "    'a', 'b', 'c', 'd', 'e', 'f', 'g', 'h', 'i', 'j', 'k', 'l', 'm',\n",
    "    'n', 'o', 'p', 'q', 'r', 's', 't', 'u', 'v', 'w', 'x', 'y', 'z'\n",
    "]\n",
    "for letter in alphabet:\n",
    "    if letter.lower() == 'm':\n",
    "        break\n",
    "    print(letter)"
   ]
  },
  {
   "cell_type": "markdown",
   "id": "ba2c95d5-1927-4ad4-a185-edf5790ecd79",
   "metadata": {
    "pycharm": {
     "name": "#%% md\n"
    }
   },
   "source": [
    "Opdracht 2:  \n",
    "Maak een alphabet van `'a'` tot `'z'` en maak een loop dat de waardes van `'z'` naar `'a'` uitprint.    "
   ]
  },
  {
   "cell_type": "code",
   "execution_count": null,
   "id": "89e7453e-31a4-4020-bf34-8c367fc23710",
   "metadata": {},
   "outputs": [],
   "source": [
    "alphabet = 'abcdefghijklmnopqrstuvwxyz'\n",
    "for letter in reversed(alphabet):\n",
    "    print(letter)"
   ]
  },
  {
   "cell_type": "markdown",
   "id": "45975355-b68e-46c7-b559-b27f634a4db2",
   "metadata": {
    "pycharm": {
     "name": "#%% md\n"
    }
   },
   "source": [
    "Opdracht 3:\n",
    "Wat is de waarde van `nummer` na deze for-loop?\n",
    "\n",
    "```\n",
    "nummer = 11\n",
    "for nummer in range(10):\n",
    "    if nummer < 5:\n",
    "        continue\n",
    "        \n",
    "# wat is nummer nu?\n",
    "```"
   ]
  },
  {
   "cell_type": "code",
   "execution_count": null,
   "id": "626261c7-2af9-4314-bffd-440787bed239",
   "metadata": {},
   "outputs": [],
   "source": [
    "nummer = 11\n",
    "for nummer in range(10):\n",
    "    if nummer < 5:\n",
    "        continue\n",
    "        \n",
    "# wat is nummer nu?\n",
    "# antwoord 9, en niet 10 of 11\n",
    "#   `nummer = 11` wordt overschreven door de `nummer` in de for-loop\n",
    "#   `range` maakt een `range` met 10 cijfers startend bij 0\n",
    "print(nummer)"
   ]
  },
  {
   "cell_type": "markdown",
   "id": "d7f840d0-7ac6-403d-a4d7-4aeda5ed8a5a",
   "metadata": {},
   "source": [
    "### off-topic: `while-else` en `for-else`\n",
    "De loops in Python hebben een mogenlijkheid om een `else` statement na de loop te geruiken.  \n",
    "\n",
    "[while]-else en [for]-else loops komen alleen in het `else` block code als de loop niet gebroken wordt met [`break`] maar toch eindigt.  \n",
    "Het kan handig zijn om er zeker van te zijn dat een status bereikt wordt.  \n",
    "\n",
    "[for]: https://docs.python.org/3/reference/compound_stmts.html#the-for-statement\n",
    "[while]: https://docs.python.org/3/reference/compound_stmts.html#the-while-statement\n",
    "[`break`]: https://docs.python.org/3/reference/simple_stmts.html#break"
   ]
  },
  {
   "cell_type": "code",
   "execution_count": null,
   "id": "fc1f081b-4f75-4b33-8efe-3dfeae89be90",
   "metadata": {},
   "outputs": [],
   "source": [
    "string = \"abc\"\n",
    "\n",
    "for letter in string.lower():\n",
    "    if letter == \"z\":\n",
    "        print(\"letter z is gevonden\")\n",
    "        break\n",
    "else:\n",
    "    print(\"letter z is niet gevonden\")\n",
    "    letter = \"z\"\n",
    "    \n",
    "print(letter)"
   ]
  },
  {
   "cell_type": "code",
   "execution_count": null,
   "id": "ba89a10d-e8cf-4572-ac43-97515a52c8c3",
   "metadata": {},
   "outputs": [],
   "source": [
    "from itertools import count\n",
    "\n",
    "counter = count(0)\n",
    "\n",
    "while (count := next(counter)) <= 10:\n",
    "    if count == 11:\n",
    "        print('count heeft 11 bereikt')\n",
    "        break\n",
    "else:\n",
    "    print('count heeft geen 11 bereikt')"
   ]
  }
 ],
 "metadata": {
  "kernelspec": {
   "display_name": "Python 3 (ipykernel)",
   "language": "python",
   "name": "python3"
  },
  "language_info": {
   "codemirror_mode": {
    "name": "ipython",
    "version": 3
   },
   "file_extension": ".py",
   "mimetype": "text/x-python",
   "name": "python",
   "nbconvert_exporter": "python",
   "pygments_lexer": "ipython3",
   "version": "3.10.6"
  }
 },
 "nbformat": 4,
 "nbformat_minor": 5
}
