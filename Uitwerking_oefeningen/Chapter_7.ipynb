{
 "cells": [
  {
   "cell_type": "markdown",
   "id": "abd398e9-bc8e-4e72-95ec-fc55f3f1e0de",
   "metadata": {},
   "source": [
    "# Uitwerking oefeningen Chapter 7 Conditional expressions"
   ]
  },
  {
   "cell_type": "markdown",
   "id": "fd5cbb2c-90c6-495a-ab34-2f890aaa4608",
   "metadata": {},
   "source": [
    "Maak een `if` `else` blok wat checkt of de `dag` string een dag bevat dat in het weekend valt.  \n",
    "Zodra de `dag` in het weekend valt zet de `is_weekend` variable op `True`, zo niet dan `False`.  \n",
    "\n",
    "Vul hieronder de code aan.  "
   ]
  },
  {
   "cell_type": "code",
   "execution_count": null,
   "id": "fadbb94e-d8a4-4ca4-8345-6141051cc371",
   "metadata": {},
   "outputs": [],
   "source": [
    "is_weekend = None  # bool\n",
    "dag = \"Zaterdag\"  # verander dit naar een andere dag\n",
    "\n",
    "if dag.lower().strip() in {'zaterdag', 'zondag'}:\n",
    "    is_weekend = True\n",
    "else:\n",
    "    is_weekend = False\n",
    "\n",
    "print(is_weekend)"
   ]
  },
  {
   "cell_type": "code",
   "execution_count": null,
   "id": "9c218d79-ab2f-4456-8cad-8562e14fe0be",
   "metadata": {},
   "outputs": [],
   "source": []
  }
 ],
 "metadata": {
  "kernelspec": {
   "display_name": "Python 3 (ipykernel)",
   "language": "python",
   "name": "python3"
  },
  "language_info": {
   "codemirror_mode": {
    "name": "ipython",
    "version": 3
   },
   "file_extension": ".py",
   "mimetype": "text/x-python",
   "name": "python",
   "nbconvert_exporter": "python",
   "pygments_lexer": "ipython3",
   "version": "3.10.6"
  }
 },
 "nbformat": 4,
 "nbformat_minor": 5
}
