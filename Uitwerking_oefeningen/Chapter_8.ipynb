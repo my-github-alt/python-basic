{
 "cells": [
  {
   "cell_type": "markdown",
   "id": "ddada839-07cb-4918-ad18-b1cea26195ac",
   "metadata": {},
   "source": [
    "# Uitwerking oefeningen Chapter 8 Built-in functions"
   ]
  },
  {
   "cell_type": "markdown",
   "id": "5cde2ae1-e1b4-4c19-9621-a5c0a748ba76",
   "metadata": {},
   "source": [
    "Opdracht 1:  \n",
    "Bekijk de built-in functions pagina https://docs.python.org/3/library/functions.html.   \n",
    "Onderzoek welke built-in functie een lengte van een object terug geeft     "
   ]
  },
  {
   "cell_type": "code",
   "execution_count": null,
   "id": "eced29a7-6140-4196-9613-3f3230474fac",
   "metadata": {},
   "outputs": [],
   "source": [
    "help(len)"
   ]
  },
  {
   "cell_type": "code",
   "execution_count": null,
   "id": "f9509fd4-a2b3-488b-97fd-e3953f4fe2d2",
   "metadata": {},
   "outputs": [],
   "source": [
    "set_met_10_objecten = set(range(10))\n",
    "print(len(set_met_10_objecten))"
   ]
  },
  {
   "cell_type": "markdown",
   "id": "cb3ed3c4-f2ec-49ed-83e1-ecfad2d92685",
   "metadata": {},
   "source": [
    "Opdracht 2:   \n",
    "Bekijk de help text van range   \n",
    "Maak met range’s start, stop en step argumenten een lijst zoals deze: `[0, 25, 50, 75, 100]`    "
   ]
  },
  {
   "cell_type": "code",
   "execution_count": null,
   "id": "99eb9764-0502-4437-98da-a44d16b181f1",
   "metadata": {},
   "outputs": [],
   "source": [
    "# start=0, stop=101, step=25\n",
    "print(list(range(0, 101, 25)))"
   ]
  }
 ],
 "metadata": {
  "kernelspec": {
   "display_name": "Python 3 (ipykernel)",
   "language": "python",
   "name": "python3"
  },
  "language_info": {
   "codemirror_mode": {
    "name": "ipython",
    "version": 3
   },
   "file_extension": ".py",
   "mimetype": "text/x-python",
   "name": "python",
   "nbconvert_exporter": "python",
   "pygments_lexer": "ipython3",
   "version": "3.10.6"
  }
 },
 "nbformat": 4,
 "nbformat_minor": 5
}
