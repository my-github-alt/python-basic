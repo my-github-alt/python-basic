{
 "cells": [
  {
   "cell_type": "markdown",
   "id": "69384afa-7084-4efe-8aaf-6e7ba278679b",
   "metadata": {},
   "source": [
    "# Uitwerking oefeningen Chapter 3 Basic types"
   ]
  },
  {
   "cell_type": "markdown",
   "id": "00dbd199-f4da-4b4c-9d4c-3f00ddcdc4ca",
   "metadata": {},
   "source": [
    "Maak een string aan dat een getal is en probeer dat met een andere string op te tellen. "
   ]
  },
  {
   "cell_type": "code",
   "execution_count": null,
   "id": "b3593107-65ed-46f0-98b5-8e5ec5ec51e3",
   "metadata": {},
   "outputs": [],
   "source": [
    "# dit geeft een error\n",
    "# Het is niet logisch om een `str` bij een `int` op te tellen.\n",
    "'1' + 2"
   ]
  },
  {
   "cell_type": "markdown",
   "id": "65a12ab0-af47-4fb1-9990-7ddf289cd314",
   "metadata": {},
   "source": [
    "Probeer een string te vermenigvuldiggen."
   ]
  },
  {
   "cell_type": "code",
   "execution_count": null,
   "id": "a9c77851-141b-4228-8204-056200e8c432",
   "metadata": {
    "tags": []
   },
   "outputs": [],
   "source": [
    "# het is mogenlijk om een `str` met een `int` een aantal keer te laten herhalen\n",
    "print('a' * 100)"
   ]
  },
  {
   "cell_type": "markdown",
   "id": "af8c598d-6e79-42c8-b191-04a0cfd3a199",
   "metadata": {},
   "source": [
    "Maak een willekeurige som met een `float` en een `int`"
   ]
  },
  {
   "cell_type": "code",
   "execution_count": null,
   "id": "f0fc7988-a249-4d00-ae17-ada101b21d7d",
   "metadata": {
    "tags": []
   },
   "outputs": [],
   "source": [
    "som = 3 * 8 / (4 - 2) + 7\n",
    "print(som)"
   ]
  }
 ],
 "metadata": {
  "kernelspec": {
   "display_name": "Python 3 (ipykernel)",
   "language": "python",
   "name": "python3"
  },
  "language_info": {
   "codemirror_mode": {
    "name": "ipython",
    "version": 3
   },
   "file_extension": ".py",
   "mimetype": "text/x-python",
   "name": "python",
   "nbconvert_exporter": "python",
   "pygments_lexer": "ipython3",
   "version": "3.10.6"
  }
 },
 "nbformat": 4,
 "nbformat_minor": 5
}
