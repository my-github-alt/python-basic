{
 "cells": [
  {
   "cell_type": "markdown",
   "id": "a9769e39-d82a-4b8d-9512-81f183319203",
   "metadata": {},
   "source": [
    "# Uitwerking oefeningen Chapter 11 Namespaces & Scope"
   ]
  },
  {
   "cell_type": "markdown",
   "id": "5b1b3cc8-7648-4f3f-aee6-714757d22159",
   "metadata": {},
   "source": [
    "onderzoek of een `try`-`except` statement een scope bevat. "
   ]
  },
  {
   "cell_type": "code",
   "execution_count": null,
   "id": "10daaf9d-c62f-4537-9f7f-8d7062d031b8",
   "metadata": {},
   "outputs": [],
   "source": [
    "try:\n",
    "    in_try = 'assigned value in try'\n",
    "except:\n",
    "    pass\n",
    "finally:\n",
    "    print(in_try)\n",
    "print(in_try)"
   ]
  },
  {
   "cell_type": "markdown",
   "id": "6ea93086-091e-4a3e-84a3-c703b736890c",
   "metadata": {},
   "source": [
    "onderzoek of een `for`-loop een eigen scope heeft. "
   ]
  },
  {
   "cell_type": "code",
   "execution_count": null,
   "id": "4ac39956-1d71-45fd-818b-32da58865309",
   "metadata": {},
   "outputs": [],
   "source": [
    "# alles in de `for`-loop wordt deel van de scope mits de `for`-loop minstens 1 keer loopt. \n",
    "for _ in range(1):\n",
    "    in_for = 'assigned value in for'\n",
    "\n",
    "print(in_for)"
   ]
  },
  {
   "cell_type": "markdown",
   "id": "5677b4c2-8319-44e0-bd82-7e6cf08b2662",
   "metadata": {},
   "source": [
    "onderzoek of een `if`-`else` statement een eigen scope heeft. "
   ]
  },
  {
   "cell_type": "code",
   "execution_count": null,
   "id": "2808650b-7d57-47ca-b86d-8710e963a24e",
   "metadata": {},
   "outputs": [],
   "source": [
    "# alles in een `if`, `elif` of `else` wordt deel van de scope als de code-flow deze statements in komen.\n",
    "if True:\n",
    "    in_if =  'assigned value in if'\n",
    "\n",
    "if False:\n",
    "    ...\n",
    "else:\n",
    "    in_else = 'assigned value in else'\n",
    "    \n",
    "print(in_if)\n",
    "print(in_else)"
   ]
  },
  {
   "cell_type": "markdown",
   "id": "f4b95e3d-89b3-4589-9f04-30ed3a3e7f69",
   "metadata": {},
   "source": [
    "Check of `global` te gebruiken is in de global scope "
   ]
  },
  {
   "cell_type": "code",
   "execution_count": null,
   "id": "28354071-217e-48f2-abd6-b1bcd509f605",
   "metadata": {},
   "outputs": [],
   "source": [
    "# `global` kan in de global-scope gebruikt worden. \n",
    "in_global = 'boven global'\n",
    "global in_global\n",
    "in_global = 'onder global'\n",
    "print(in_global)"
   ]
  }
 ],
 "metadata": {
  "kernelspec": {
   "display_name": "Python 3 (ipykernel)",
   "language": "python",
   "name": "python3"
  },
  "language_info": {
   "codemirror_mode": {
    "name": "ipython",
    "version": 3
   },
   "file_extension": ".py",
   "mimetype": "text/x-python",
   "name": "python",
   "nbconvert_exporter": "python",
   "pygments_lexer": "ipython3",
   "version": "3.10.6"
  }
 },
 "nbformat": 4,
 "nbformat_minor": 5
}
