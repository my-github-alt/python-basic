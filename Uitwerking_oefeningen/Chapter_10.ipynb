{
 "cells": [
  {
   "cell_type": "markdown",
   "id": "98c7f8be-c527-46ca-b138-b073aff5b8d2",
   "metadata": {},
   "source": [
    "# Uitwerking oefeningen Chapter 10 Exception handling"
   ]
  },
  {
   "cell_type": "markdown",
   "id": "9f813b30-5597-4c11-95e1-40aa2a1f4e9e",
   "metadata": {},
   "source": [
    "Maak een try-except met een `assert` statement die een error geeft.  \n",
    "Laat de `assert` falen en print de error.  \n",
    "print 'finally' in het `finally` block"
   ]
  },
  {
   "cell_type": "code",
   "execution_count": null,
   "id": "6563c86a-ffef-4b8f-8ffd-f4d8454db4fd",
   "metadata": {},
   "outputs": [],
   "source": [
    "try:\n",
    "    assert False, 'error'\n",
    "except AssertionError as e:\n",
    "    print(e)\n",
    "finally:\n",
    "    print('finally')"
   ]
  }
 ],
 "metadata": {
  "kernelspec": {
   "display_name": "Python 3 (ipykernel)",
   "language": "python",
   "name": "python3"
  },
  "language_info": {
   "codemirror_mode": {
    "name": "ipython",
    "version": 3
   },
   "file_extension": ".py",
   "mimetype": "text/x-python",
   "name": "python",
   "nbconvert_exporter": "python",
   "pygments_lexer": "ipython3",
   "version": "3.10.6"
  }
 },
 "nbformat": 4,
 "nbformat_minor": 5
}
