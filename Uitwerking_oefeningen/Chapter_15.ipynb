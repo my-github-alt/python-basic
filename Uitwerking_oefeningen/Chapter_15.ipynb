{
 "cells": [
  {
   "cell_type": "markdown",
   "id": "f253ff38-0187-4c21-8892-5aa6560b90e5",
   "metadata": {},
   "source": [
    "### Oefeningen Structural Patern Matching\n",
    "\n",
    "Een API geeft aan welke dag van de week het is.  \n",
    "De API geeft een dictionary waarvan een key in de `dict` een weekdag aanduidt.  \n",
    "De API is niet consistent, de weekdag kan de volledige naam of een cijfer zijn.  \n",
    "\n",
    "De opdracht voor deze oefening:\n",
    "> Filter de API output met `match` en `case` zodat er wordt uitgeprint of het weekend is of niet.\n",
    "\n",
    "Gegeven is de `api` functie en de `WEEK` variabele."
   ]
  },
  {
   "cell_type": "code",
   "execution_count": null,
   "id": "c0f26dc4-d3d9-4109-8ecb-25c7ef40b207",
   "metadata": {},
   "outputs": [],
   "source": [
    "import random\n",
    "\n",
    "# Constant WEEK is een `tupel` van de dagen in de week. De week start op zondag.\n",
    "WEEK = ('zondag', 'maandag', 'dinsdag', 'woensdag', 'donderdag', 'vrijdag', 'zaterdag')\n",
    "\n",
    "\n",
    "def api() -> dict[str, str | int]:\n",
    "    \"\"\"api dat een dict teruggeeft\n",
    "    structuur van de dict: { data: { weekdag: (`str` of `int`) } }\n",
    "    \"\"\"\n",
    "    dag: str = random.choice(WEEK)\n",
    "    idx: int = WEEK.index(dag)\n",
    "    return {'data': {'weekdag': random.choice((dag, idx))}}"
   ]
  },
  {
   "cell_type": "code",
   "execution_count": null,
   "id": "624c5868-9973-4b1e-a7a8-27a1e564e30b",
   "metadata": {},
   "outputs": [],
   "source": [
    "# roep de api om de data te krijgen\n",
    "data = api()\n",
    "\n",
    "match data['data']:\n",
    "    case {'weekdag': ('zondag' | 'zaterdag' | 0 | 6) as dag}:\n",
    "        print(\"het is weekend\")\n",
    "    case {'weekdag': dag} if dag in WEEK[1:-1] or dag in range(1, 6):\n",
    "        print(\"het is doordeweeks\")\n",
    "    case _:\n",
    "        print(\"onbekende dag\")"
   ]
  },
  {
   "cell_type": "code",
   "execution_count": null,
   "id": "71d03937-9f52-4b8b-b8af-077028f042d3",
   "metadata": {},
   "outputs": [],
   "source": []
  },
  {
   "cell_type": "markdown",
   "id": "f9e7f592-51c2-4608-99eb-f6f004431ea7",
   "metadata": {},
   "source": [
    "---\n",
    "### off-topic: Structural Patern Matching\n",
    "\n",
    "De Python core-ontwikkelaars dragen vrijwillig bij aan de programeertaal.  \n",
    "De taal Python zelf is al meer dan 30 jaar oud, waar Python3.0.0 in 2008 verscheen.  \n",
    "Het is merkwaardig dat de ontwikkelaars deze Structural Pattern Matching functionaliteit hebben geintroduceerd.  \n",
    "Hieronder waarom het merkwaardig is."
   ]
  },
  {
   "cell_type": "code",
   "execution_count": null,
   "id": "f31f3059-17ad-4894-8ff5-aa62341e9f7a",
   "metadata": {},
   "outputs": [],
   "source": [
    "import re\n",
    "from pathlib import PurePath\n",
    "\n",
    "assert hasattr(re, 'match'), \"err: re module has no function: 'match'\"\n",
    "assert hasattr(PurePath, 'match'), \"err: pathlib.PurePath class has no function: 'match'\"\n",
    "# geen error, dan is 'match' aanwezig."
   ]
  },
  {
   "cell_type": "markdown",
   "id": "b4212abe-f558-4db9-9847-27815d230729",
   "metadata": {},
   "source": [
    "De standaard library heeft al functies met de naam _match_ in veelgebruikte modules.  \n",
    "_match_ en _case_ zijn veel gebruikte woorden dus zijn zeker ook al gebruikt in third-party libraries.  \n",
    "Dus door de keywords: `match` & `case` te introduceren zou de compatibiliteit met oude code gebroken moeten worden.  \n",
    "Toch werkt het volgende stukje code zoals het zou moeten."
   ]
  },
  {
   "cell_type": "code",
   "execution_count": null,
   "id": "7f18278f-846e-4af1-96b1-9f03020d07ca",
   "metadata": {},
   "outputs": [],
   "source": [
    "# functies hebben een naam \n",
    "def case() -> str:\n",
    "    return 'case'\n",
    "\n",
    "# variabelen hebben een naam\n",
    "match = case()\n",
    "\n",
    "# twee keer match?\n",
    "match match:\n",
    "    # case is al een functie.\n",
    "    case 'case':\n",
    "        print(f\"match is {match!r}\")\n",
    "    # twee keer case?\n",
    "    case case:\n",
    "        print(f\"match was geen 'case' maar {case!r}\")"
   ]
  },
  {
   "cell_type": "markdown",
   "id": "dbfd5780-1f36-4c04-a569-7a8b0394c650",
   "metadata": {},
   "source": [
    "De magie zit in de intreperter van Python.  \n",
    "Als we een simpel stukje match-case code uitpakken met de module [ast] dan kan we zien wat de intreperter doet.\n",
    "\n",
    "[ast]: https://docs.python.org/3/library/ast.html"
   ]
  },
  {
   "cell_type": "code",
   "execution_count": null,
   "id": "f71f9b1e-1803-4e1c-bcfd-dbda31d6bc5d",
   "metadata": {},
   "outputs": [],
   "source": [
    "import ast\n",
    "\n",
    "print(ast.dump(ast.parse(\"\"\"\n",
    "match = case = 1            # Assign\n",
    "match match:                # Match\n",
    "    case case:              # match_case\n",
    "        print(match)        # Expr\n",
    "\"\"\"), indent=2))"
   ]
  },
  {
   "cell_type": "markdown",
   "id": "3c783d14-4e08-4aca-a4c1-1a4678d2d9cb",
   "metadata": {},
   "source": [
    "Hier kan worden gezien dat `match` door de intreperter wordt herkend als `Match(...)`.  \n",
    "De variabele `match` wordt gezien als `id='match'`.  \n",
    "Als dit geprobeerd wordt met een ander keyword zoals `def` of `class` dan is dit een `SyntaxError`.  \n",
    "De code wordt dan niet geintreperteerd.  "
   ]
  },
  {
   "cell_type": "code",
   "execution_count": null,
   "id": "d9c8d487-2a9d-41b5-afea-7cdc16196405",
   "metadata": {},
   "outputs": [],
   "source": [
    "try:\n",
    "    # def is een keyword die geen variable kan zijn\n",
    "    exec(\"\"\"def = 'def'\"\"\")\n",
    "except SyntaxError as err:\n",
    "    print(err)"
   ]
  },
  {
   "cell_type": "markdown",
   "id": "d83c1a46-cab1-4010-a130-1820e3a55814",
   "metadata": {},
   "source": [
    "De intreperter checkt dus voor patronen in de code waardoor `match` dus een variabele en een keyword kan zijn.  \n",
    "Een _soft keyword_, en dat kan worden gevonden in de module `keyword`.  "
   ]
  },
  {
   "cell_type": "code",
   "execution_count": null,
   "id": "b8d1369f-49ee-4177-8949-be71d2b94a87",
   "metadata": {},
   "outputs": [],
   "source": [
    "import keyword\n",
    "print(f'{keyword.softkwlist = }')\n",
    "\n",
    "assert keyword.issoftkeyword('match'), \"err: match is not a 'soft keyword'\"\n",
    "# geen errors, dan is 'match' een soft keyword"
   ]
  },
  {
   "cell_type": "markdown",
   "id": "91743b60-8ce6-450e-a916-3cc048055071",
   "metadata": {},
   "source": [
    "Door dit zo voor elkaar te krijgen is oude code toch te gebruiken in nieuwe scripts waarin _match-case_ statement kan worden gebruikt.  \n",
    "Het opent ook de mogenlijkheid voor andere _soft keywords_.  \n",
    "Maar het kan ook zijn dat `match` en `case` soft keyword status alleen een tijdelijk is.  \n",
    "Voorheen waren de `async` en `await` keywords ook soft keywords wat in [Python3.7] veranderde.  \n",
    "\n",
    "[Python3.7]: https://docs.python.org/3.7/whatsnew/3.7.html"
   ]
  },
  {
   "cell_type": "code",
   "execution_count": null,
   "id": "fbf11736-9ea9-420f-b30c-09bbaafee72e",
   "metadata": {},
   "outputs": [],
   "source": []
  }
 ],
 "metadata": {
  "kernelspec": {
   "display_name": "Python 3 (ipykernel)",
   "language": "python",
   "name": "python3"
  },
  "language_info": {
   "codemirror_mode": {
    "name": "ipython",
    "version": 3
   },
   "file_extension": ".py",
   "mimetype": "text/x-python",
   "name": "python",
   "nbconvert_exporter": "python",
   "pygments_lexer": "ipython3",
   "version": "3.10.6"
  }
 },
 "nbformat": 4,
 "nbformat_minor": 5
}
