{
 "cells": [
  {
   "cell_type": "markdown",
   "id": "6f84cf8e",
   "metadata": {},
   "source": [
    "# Inhoud\n",
    "---\n",
    "0. [Inhoud](./Chapter_00_Inhoud.ipynb#Inhoud)\n",
    "1. [Geschiedenis en informatie](./Chapter_01_Geschiedenis_en_Info.ipynb#Geschiedenis-en-informatie)\n",
    "    * [De IDE](./Chapter_01_Geschiedenis_en_Info.ipynb#De-IDE)\n",
    "1. [Hello World](./Chapter_02_Hello_World.ipynb#Hello-World)\n",
    "\t* [Oefeningen](./Chapter_02_Hello_World.ipynb#Oefeningen-Hello-World)\n",
    "1. [Basic types](./Chapter_03_Basic_types.ipynb#Basic-types)\n",
    "    * [Int](./Chapter_03_Basic_types.ipynb#Int)\n",
    "    * [Float](./Chapter_03_Basic_types.ipynb#Float)\n",
    "    * [Str](./Chapter_03_Basic_types.ipynb#Str)\n",
    "\t* [Oefeningen](./Chapter_03_Basic_types.ipynb#Oefeningen-Basic-types)\n",
    "1. [Data containers](./Chapter_04_Data_containers.ipynb#Data-containers)\n",
    "\t* [List](./Chapter_04_Data_containers.ipynb#List)\n",
    "\t* [Tuple](./Chapter_04_Data_containers.ipynb#Tuple)\n",
    "\t* [Set](./Chapter_04_Data_containers.ipynb#Set)\n",
    "\t* [Dict](./Chapter_04_Data_containers.ipynb#Dict)\n",
    "\t* [Oefeningen](./Chapter_04_Data_containers.ipynb#Oefeningen-Data-containers)\n",
    "1. [Boolean values](./Chapter_05_Boolean_values.ipynb#Boolean-values)\n",
    "\t* [Oefeningen](./Chapter_05_Boolean_values.ipynb#Oefeningen-Boolean-values)\n",
    "1. [Operators](./Chapter_06_Operators.ipynb#Operators)\n",
    "\t* [Comparison operators](./Chapter_06_Operators.ipynb#Comparison-operators)\n",
    "\t* [Membership operator](./Chapter_06_Operators.ipynb#Membership-operator)\n",
    "\t* [Identity operator](./Chapter_06_Operators.ipynb#Identity-operator)\n",
    "\t* [Boolean operators](./Chapter_06_Operators.ipynb#Boolean-operators)\n",
    "\t* [Oefeningen](./Chapter_06_Operators.ipynb#Oefeningen-Operators)\n",
    "1. [Conditional expressions](./Chapter_07_Conditional_expressions.ipynb#Conditional-expressions)\n",
    "\t* [Oefeningen](./Chapter_07_Conditional_expressions.ipynb#Oefeningen-Conditional-expressions)\n",
    "1. [Built-in functions](./Chapter_08_Built-in_functions.ipynb#Built-in-functions)\n",
    "\t* [Oefeningen](./Chapter_08_Built-in_functions.ipynb#Oefeningen-Built-in-functions)\n",
    "1. [Loops](./Chapter_09_Loops.ipynb#Loops)\n",
    "\t* [for loop](./Chapter_09_Loops.ipynb#for-loop)\n",
    "\t* [while loop](./Chapter_09_Loops.ipynb#while-loop)\n",
    "\t* [continue](./Chapter_09_Loops.ipynb#continue)\n",
    "\t* [break](./Chapter_09_Loops.ipynb#break)\n",
    "\t* [Oefeningen](./Chapter_09_Loops.ipynb#Oefeningen-Loops)\n",
    "1. [Exception handling](./Chapter_10_Exception_handling.ipynb#Exception-handling)\n",
    "\t* [try-except](./Chapter_10_Exception_handling.ipynb#try-except)\n",
    "\t* [finally](./Chapter_10_Exception_handling.ipynb#finally)\n",
    "\t* [Oefeningen](./Chapter_10_Exception_handling.ipynb#Oefeningen-Exception-handling)\n",
    "1. [Namespaces & Scope](./Chapter_11_Namespaces_en_Scope.ipynb#Namespaces-&-Scope)\n",
    "\t* [Oefeningen](./Chapter_11_Namespaces_en_Scope.ipynb#Oefeningen-Namespaces-&-Scope)\n",
    "1. [Classes and functions](./Chapter_12_Classes_en_functions.ipynb#Classes-and-functions)\n",
    "\t* [def](./Chapter_12_Classes_en_functions.ipynb#def)\n",
    "\t* [return](./Chapter_12_Classes_en_functions.ipynb#return)\n",
    "\t* [class](./Chapter_12_Classes_en_functions.ipynb#class)\n",
    "\t* [Oefeningen](./Chapter_12_Classes_en_functions.ipynb#Oefeningen-Classes-en-functions)\n",
    "1. [Installing third-party packages](./Chapter_13_Installing_third-party_packages.ipynb#Installing-third-party-packages)\n",
    "\t* [PyPI](./Chapter_13_Installing_third-party_packages.ipynb#PyPI)\n",
    "\t* [pip](./Chapter_13_Installing_third-party_packages.ipynb#pip)\n",
    "\t* [venv](./Chapter_13_Installing_third-party_packages.ipynb#venv)\n",
    "    * [Third party package managers](./Chapter_13_Installing_third-party_packages.ipynb#Third-party-package-managers)\n",
    "\t* [Oefeningen](./Chapter_13_Installing_third-party_packages.ipynb#Oefeningen-Installing-third-party-packages)\n",
    "1. [Importing modules](./Chapter_14_Importing_modules.ipynb#Importing-modules)\n",
    "\t* [Oefeningen](./Chapter_14_Importing_modules.ipynb#Oefeningen-Importing-modules)\n",
    "1. [Structural pattern matching](./Chapter_15_Structural_pattern_matching.ipynb)\n",
    "    * [Oefeningen](./Chapter_15_Structural_pattern_matching.ipynb#Oefeningen-Structural-Patern-Matching)\n",
    "1. [API testing met Python](./Chapter_16_API_testing_met_Python.ipynb)\n",
    "    * [Oefeningen](./Chapter_16_API_testing_met_Python.ipynb#Oefeningen-API-testen-met-Python)"
   ]
  },
  {
   "cell_type": "code",
   "execution_count": null,
   "id": "aea3472c-1f47-4715-be83-6c082d13cce2",
   "metadata": {},
   "outputs": [],
   "source": []
  }
 ],
 "metadata": {
  "kernelspec": {
   "display_name": "Python 3 (ipykernel)",
   "language": "python",
   "name": "python3"
  },
  "language_info": {
   "codemirror_mode": {
    "name": "ipython",
    "version": 3
   },
   "file_extension": ".py",
   "mimetype": "text/x-python",
   "name": "python",
   "nbconvert_exporter": "python",
   "pygments_lexer": "ipython3",
   "version": "3.10.6"
  }
 },
 "nbformat": 4,
 "nbformat_minor": 5
}
