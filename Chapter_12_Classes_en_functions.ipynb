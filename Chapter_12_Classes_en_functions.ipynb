{
 "cells": [
  {
   "cell_type": "markdown",
   "metadata": {
    "pycharm": {
     "name": "#%% md\n"
    }
   },
   "source": [
    "# Classes en functions\n",
    "`def` de keyword waarmee een functie wordt aangemaakt.  \n",
    "`class` de keyword waarmee een class wordt gecreeerd.  "
   ]
  },
  {
   "cell_type": "markdown",
   "metadata": {},
   "source": [
    "## def\n",
    "`def` is een statement waarmee een functie wordt aangemaakt.  \n",
    "Een functie is een blok code waarin een set instructies en logica wordt gedefineerd.  \n",
    "De functie kan dan meerdere keren in een stuk code gebruikt kan worden.  \n",
    "print is ook een functie.  \n",
    " "
   ]
  },
  {
   "cell_type": "code",
   "execution_count": null,
   "metadata": {
    "collapsed": false,
    "jupyter": {
     "outputs_hidden": false
    },
    "pycharm": {
     "name": "#%%\n"
    }
   },
   "outputs": [],
   "source": [
    "def dit_is_een_functie(): \n",
    "    print('print in een functie') \n",
    "\n",
    "# `call` de functie\n",
    "dit_is_een_functie()"
   ]
  },
  {
   "cell_type": "markdown",
   "metadata": {
    "pycharm": {
     "name": "#%% md\n"
    }
   },
   "source": [
    " \n",
    "Functies kunnen ook (meerdere) argumenten ontvangen.  \n",
    "De argumenten kunnen ook een default waarde hebben.  \n",
    "\n",
    "Hieronder een functie die een gegeven string uitprint.\n",
    "Het eerste argument `string` is niet optioneel.  \n",
    "Het tweede argument `titel` is wel optioneel, het heeft al een waarde: `False`.  "
   ]
  },
  {
   "cell_type": "code",
   "execution_count": null,
   "metadata": {
    "collapsed": false,
    "jupyter": {
     "outputs_hidden": false
    },
    "pycharm": {
     "name": "#%%\n"
    }
   },
   "outputs": [],
   "source": [
    "def print_string(string, title=False):\n",
    "    if title:\n",
    "        string = str(string).title()\n",
    "    print(string)"
   ]
  },
  {
   "cell_type": "code",
   "execution_count": null,
   "metadata": {},
   "outputs": [],
   "source": [
    "print_string(\"hoofdletter\", True)"
   ]
  },
  {
   "cell_type": "markdown",
   "metadata": {},
   "source": [
    "## return\n",
    "\n",
    "`return` is een statement die gebruikt wordt in een functie.  \n",
    "`return` geeft aan welk object de functie terug geeft.  \n",
    "Als er geen `return` in een functie aanwezig is dan geeft de functie `None` terug.  \n",
    "Het is _good practice_ als een functie een enkel type object terug geeft.  "
   ]
  },
  {
   "cell_type": "code",
   "execution_count": null,
   "metadata": {
    "collapsed": false,
    "jupyter": {
     "outputs_hidden": false
    },
    "pycharm": {
     "name": "#%%\n"
    }
   },
   "outputs": [],
   "source": [
    "def is_het_weekend(dag): \n",
    "    \"\"\" functie die checkt of de gegeven dag in het weekend ligt \"\"\" \n",
    "    doordeweeks = { \n",
    "        \"maandag\", \"dinsdag\", \"woensdag\", \"donderdag\", \"vrijdag\" \n",
    "    } \n",
    "    weekend = {\"zaterdag\", \"zondag\"} \n",
    "    sdag = str(dag).strip().lower() \n",
    "    \n",
    "    if sdag in doordeweeks: \n",
    "        # return een bool waarde \n",
    "        return False \n",
    "    elif sdag in weekend: \n",
    "        # return een bool waarde \n",
    "        return True \n",
    "    else: \n",
    "        # geef een error \n",
    "        raise ValueError(f\"gegeven dag ongeldig: {dag!r}\") "
   ]
  },
  {
   "cell_type": "code",
   "execution_count": null,
   "metadata": {
    "collapsed": false,
    "jupyter": {
     "outputs_hidden": false
    },
    "pycharm": {
     "name": "#%%\n"
    }
   },
   "outputs": [],
   "source": [
    "is_het_weekend('Woensdag')"
   ]
  },
  {
   "cell_type": "code",
   "execution_count": null,
   "metadata": {
    "collapsed": false,
    "jupyter": {
     "outputs_hidden": false
    },
    "pycharm": {
     "name": "#%%\n"
    }
   },
   "outputs": [],
   "source": [
    "is_het_weekend('zaterdag')"
   ]
  },
  {
   "cell_type": "code",
   "execution_count": null,
   "metadata": {
    "collapsed": false,
    "jupyter": {
     "outputs_hidden": false
    },
    "pycharm": {
     "name": "#%%\n"
    }
   },
   "outputs": [],
   "source": [
    "is_het_weekend('gehaktdag')"
   ]
  },
  {
   "cell_type": "markdown",
   "metadata": {},
   "source": [
    "## class\n",
    "\n",
    "`class` is een statement waarmee een `class` wordt aangemaakt.  \n",
    "Classes kunnen attributes, properties en methodes bevatten.  \n",
    "Ook kunnen classes de eigenschappen van een andere class erfen.  \n",
    "Python is tenslotte een [objectgeoriënteerde] taal.  \n",
    "\n",
    "Geinitialiseerde classes hebben een eigen stukje geheugen.   \n",
    "Er kan dus meerdere van dezelfde class met andere waardes in een stuk code aangemaakt worden.  \n",
    "\n",
    "Classes zijn hun eigen type.  \n",
    "Veel van de `built-in` functions zijn achter de schermen een `class`.    \n",
    "Bijvoorbeeld: `int`, `map`, `range` zijn allemaal een `class`.  \n",
    "\n",
    "Hieronder stukje uit de python console waar gezien kan worden dat `bool` een class is dat functionaliteit erft van de class `int`\n",
    "```\n",
    ">>> help(bool)\n",
    "\n",
    "Help on class bool in module builtins:  \n",
    " \n",
    "class bool(int)  \n",
    " | bool(x) -> bool  \n",
    " |  \n",
    " | Returns True when the argument x is true, False otherwise.  \n",
    "...\n",
    "```\n",
    "\n",
    "Hieronder een voorbeeld van een class met een methode dat het memory adres uitprint. \n",
    "\n",
    "[objectgeoriënteerde]: https://nl.wikipedia.org/wiki/Objectgeori%C3%ABnteerd"
   ]
  },
  {
   "cell_type": "code",
   "execution_count": null,
   "metadata": {
    "collapsed": false,
    "jupyter": {
     "outputs_hidden": false
    },
    "pycharm": {
     "name": "#%% \n"
    }
   },
   "outputs": [],
   "source": [
    "class EenClass: \n",
    "    def print_adres(self): \n",
    "        print(f\"deze class heeft de memory adres: {id(self)}\") \n",
    "\n",
    "# initializeer 2x de class EenClass \n",
    "class1 = EenClass() \n",
    "class2 = EenClass() \n",
    "\n",
    "# print het addres met de methode in de class \n",
    "class1.print_adres() \n",
    "class2.print_adres() "
   ]
  },
  {
   "cell_type": "markdown",
   "metadata": {
    "pycharm": {
     "name": "#%% md\n"
    }
   },
   "source": [
    "De methode in de class heeft een argument: self  \n",
    "self verwijst naar het memory-adres van de class.  \n",
    "De variable waaraan de class is geinitializeerd verwijst ook naar dat memory-adres.   \n",
    "\n",
    "In de class kan self ook gebruikt worden om onderdelen van de class op te vragen en/of aan te roepen.  \n",
    "Als de class is geinitialiseerd dan kan de attribute ook worden opgevraagd of aangepast.\n",
    "  \n",
    "Voorbeeld hieronder  "
   ]
  },
  {
   "cell_type": "code",
   "execution_count": null,
   "metadata": {
    "collapsed": false,
    "jupyter": {
     "outputs_hidden": false
    },
    "pycharm": {
     "name": "#%% \n"
    }
   },
   "outputs": [],
   "source": [
    "class VoorbeeldSelf: \n",
    "    een_attribute = \"dit is een attribute\"\n",
    "    \n",
    "    def get_attribute(self):\n",
    "        return self.een_attribute\n",
    "\n",
    "    def print_attr(self, uppercase=False):\n",
    "        attr = self.get_attribute()\n",
    "        if uppercase:\n",
    "            # maak van attr allemaal hoofdletters\n",
    "            attr = str(attr).upper()\n",
    "        print(attr)\n",
    "\n",
    "\n",
    "# initializeer 2x de class VoorbeeldSelf \n",
    "voorbeeld1 = VoorbeeldSelf() \n",
    "voorbeeld2 = VoorbeeldSelf() \n",
    "\n",
    "# print de class attribute \n",
    "voorbeeld1.print_attr() "
   ]
  },
  {
   "cell_type": "code",
   "execution_count": null,
   "metadata": {
    "collapsed": false,
    "jupyter": {
     "outputs_hidden": false
    },
    "pycharm": {
     "name": "#%%\n"
    }
   },
   "outputs": [],
   "source": [
    "# variable voorbeeld2 kan gezien worden als de self in de class \n",
    "voorbeeld2.een_attribute = \"van buiten aangepast\" \n",
    "# print de class attribute \n",
    "voorbeeld2.print_attr(uppercase=True) "
   ]
  },
  {
   "cell_type": "markdown",
   "metadata": {
    "pycharm": {
     "name": "#%% md\n"
    }
   },
   "source": [
    "Het is mogenlijk om een class, zoals functies, parameters te geven.  \n",
    "Dit gebeurt met de speciale methode [\\_\\_init__  ](https://docs.python.org/3/reference/datamodel.html#object.__init__)\n",
    "\n",
    "Voorbeeld:  "
   ]
  },
  {
   "cell_type": "code",
   "execution_count": null,
   "metadata": {
    "collapsed": false,
    "jupyter": {
     "outputs_hidden": false
    },
    "pycharm": {
     "name": "#%%\n"
    }
   },
   "outputs": [],
   "source": [
    "class Login: \n",
    "    \"\"\" voorbeeld 'login' class \"\"\" \n",
    "    def __init__(self, username, password=\"Sup3rS3cret!\"): \n",
    "        self.username = username \n",
    "        self.password = password \n",
    "\n",
    "    def click_submit(self): \n",
    "        print(f\"press submit button\") \n",
    "\n",
    "    def do_login(self, press_submit=False): \n",
    "        print(f\"fill username input: {self.username}\") \n",
    "        print(f\"fill password input: {self.password}\") \n",
    "        if press_submit: \n",
    "            self.click_submit() \n",
    "\n",
    " \n",
    "login_page = Login(\"Henk123\", \"password1\") \n",
    "login_page.do_login(press_submit=True) "
   ]
  },
  {
   "cell_type": "markdown",
   "metadata": {},
   "source": [
    "### Oefeningen Classes en functions"
   ]
  },
  {
   "cell_type": "markdown",
   "metadata": {
    "jupyter": {
     "outputs_hidden": false
    },
    "pycharm": {
     "name": "#%%\n"
    }
   },
   "source": [
    "* Maak een `class` genaamd Hond. \n",
    "* Geef de `class` een attribute dat aangeeft hoeveel poten een hond heeft. \n",
    "* Zorg met de `__init__` methode dat een hond een naam kan krijgen. \n",
    "* Maak een methode in de `class` waarmee de hond kan blaffen. "
   ]
  }
 ],
 "metadata": {
  "kernelspec": {
   "display_name": "Python 3 (ipykernel)",
   "language": "python",
   "name": "python3"
  },
  "language_info": {
   "codemirror_mode": {
    "name": "ipython",
    "version": 3
   },
   "file_extension": ".py",
   "mimetype": "text/x-python",
   "name": "python",
   "nbconvert_exporter": "python",
   "pygments_lexer": "ipython3",
   "version": "3.10.6"
  }
 },
 "nbformat": 4,
 "nbformat_minor": 4
}
