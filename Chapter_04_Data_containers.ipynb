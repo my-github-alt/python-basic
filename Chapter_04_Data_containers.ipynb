{
 "cells": [
  {
   "cell_type": "markdown",
   "id": "3feb51cd",
   "metadata": {},
   "source": [
    "# Data containers\n",
    "In Python zijn data containers objecten die een serie verwijzingen naar objecten representeerd.  \n",
    "\n",
    "De verschillende containers hebben elk een andere eigenschap.  \n",
    "Er zijn 2 kenmerken van data die de eigenschappen onderling de data containers bepalen.  \n",
    "_Immutable_ objecten: Data die niet aangepast kan worden, alleen overschreven.  \n",
    "_Mutable_ objecten: Data die aangepast kan worden.  \n",
    "\n",
    "De eerste positie in series zoals `list` `str` `tuple` is een 0"
   ]
  },
  {
   "cell_type": "markdown",
   "id": "4259b3cd",
   "metadata": {},
   "source": [
    "## [List](https://docs.python.org/3/library/stdtypes.html#typesseq-list)\n",
    "`list` is een **_mutable_** data container die _mutable_ en _immutable_ data kan vasthouden.  "
   ]
  },
  {
   "cell_type": "code",
   "execution_count": null,
   "id": "6613fe66",
   "metadata": {},
   "outputs": [],
   "source": [
    "# een `list` heeft de volgende functies die gebruikt kan worden\n",
    "print([_ for _ in dir(list) if not _.startswith('_')])"
   ]
  },
  {
   "cell_type": "markdown",
   "id": "89119930",
   "metadata": {},
   "source": [
    "`append` voegt een enkel object toe aan de lijst.  \n",
    "`extend` voegt de objecten uit een ander gegeven lijst toe aan de lijst.  \n",
    "`index` zoekt het gegeven object in de lijst en geeft een nummer terug.  \n",
    "`pop` haalt een object uit een lijst.  "
   ]
  },
  {
   "cell_type": "code",
   "execution_count": null,
   "id": "7421d79c",
   "metadata": {},
   "outputs": [],
   "source": [
    "lijst_1 = [1, 2, 3]\n",
    "lijst_1.append(4)   # voeg 4 toe aan lijst_1\n",
    "\n",
    "print(lijst_1)"
   ]
  },
  {
   "cell_type": "code",
   "execution_count": null,
   "id": "5d072d54",
   "metadata": {},
   "outputs": [],
   "source": [
    "lijst_2 = ['a', 'b', 'c', 'a']\n",
    "index_a = lijst_2.index('a')  # krijg de eerste index van 'a'\n",
    "\n",
    "print(index_a)"
   ]
  },
  {
   "cell_type": "code",
   "execution_count": null,
   "id": "f7caed50",
   "metadata": {},
   "outputs": [],
   "source": [
    "# haal het object op index 0 uit de lijst_2\n",
    "pop_0 = lijst_2.pop(0)\n",
    "print(f'{pop_0!r} is ge-popped uit lijst_2')\n",
    "\n",
    "print(lijst_2)"
   ]
  },
  {
   "cell_type": "code",
   "execution_count": null,
   "id": "7ceca01f",
   "metadata": {},
   "outputs": [],
   "source": [
    "lijst_3 = [9, 8.0, '7']\n",
    "lijst_1.extend(lijst_3)   # voeg alle objecten van lijst_2 toe aan lijst_1\n",
    "\n",
    "print(lijst_1)"
   ]
  },
  {
   "cell_type": "code",
   "execution_count": null,
   "id": "f3066084",
   "metadata": {},
   "outputs": [],
   "source": [
    "lijst_1[0] = 1000  # overschrijf het eerste object in de lijst_1 [0]\n",
    "\n",
    "print(lijst_1)"
   ]
  },
  {
   "cell_type": "markdown",
   "id": "98cf9a12-467c-4e91-9f8f-5f3e7157780b",
   "metadata": {},
   "source": [
    "`append` en `extend` geven geen nieuwe lijst terug, deze functies passen alleen de lijst aan.  \n",
    "Soms is het wenselijk om lijsten te combineren en een nieuwe lijst te creëren.  \n",
    "Dit kan met de `+` operator."
   ]
  },
  {
   "cell_type": "code",
   "execution_count": null,
   "id": "2b3fedd6-5a3f-4feb-ae71-b7f946ae0bb4",
   "metadata": {},
   "outputs": [],
   "source": [
    "list_a = ['a']\n",
    "list_b = list('b')\n",
    "list_abc = list_a + list_b + ['c']\n",
    "\n",
    "print(list_abc)"
   ]
  },
  {
   "cell_type": "markdown",
   "id": "ad52d060",
   "metadata": {},
   "source": [
    "## [Tuple](https://docs.python.org/3/library/stdtypes.html#tuple)\n",
    "`tuple` is een **_immutable_** data container die _mutable_ en _immutable_ data kan vashouden.  \n",
    "Een tuple kan [gehashed](https://nl.wikipedia.org/wiki/Hashfunctie) worden.  \n",
    "Als de tuple een unhashable type bevat, zoals een `list` wat _mutable_ is, dan kan het niet gehashed worden."
   ]
  },
  {
   "cell_type": "code",
   "execution_count": null,
   "id": "c5413e61",
   "metadata": {},
   "outputs": [],
   "source": [
    "# een tuple heeft de volgende functies die gebruikt kan worden\n",
    "print([_ for _ in dir(tuple) if not _.startswith('_')])"
   ]
  },
  {
   "cell_type": "markdown",
   "id": "c9208b91",
   "metadata": {},
   "source": [
    "`count` tel hoeveel het gegeven object voorkomt in de tuple  \n",
    "`index` zoekt het gegeven object in de tuple en geeft een nummer terug  "
   ]
  },
  {
   "cell_type": "code",
   "execution_count": null,
   "id": "37283bff",
   "metadata": {},
   "outputs": [],
   "source": [
    "tuple_1 = (1, 2, 3)\n",
    "tuple_2 = ('a', 'b', 'c')\n",
    "tuple_3 = tuple_2 + tuple_1 + tuple_2   # voeg verschillende tuples aan elkaar toe om een nieuwe tuple te maken\n",
    "\n",
    "print(tuple_3)"
   ]
  },
  {
   "cell_type": "code",
   "execution_count": null,
   "id": "dcf52b62",
   "metadata": {},
   "outputs": [],
   "source": [
    "# vraag op waar de eerste 2 staat in de tuple\n",
    "index_2 = tuple_1.index(2)\n",
    "\n",
    "print(index_2)"
   ]
  },
  {
   "cell_type": "code",
   "execution_count": null,
   "id": "0ea693dd",
   "metadata": {},
   "outputs": [],
   "source": [
    "# hoe vaak komt 'a' in de tuple voor\n",
    "amount_a = tuple_3.count('a') \n",
    "\n",
    "print(amount_a)"
   ]
  },
  {
   "cell_type": "markdown",
   "id": "1f8c0ee6-3f78-4919-b145-e554dedca4c3",
   "metadata": {},
   "source": [
    "Een hash is een cryptografische som van een _immutable_ object.  \n",
    "Dit wordt vaak gebruikt om snel twee objecten met elkaar te vergelijken.  \n",
    "De cryptografische som van twee dezelfde objecten heeft dan ook dezelde uitkomst.  "
   ]
  },
  {
   "cell_type": "code",
   "execution_count": null,
   "id": "091bc511-2019-4404-946d-d11c373405db",
   "metadata": {},
   "outputs": [],
   "source": [
    "# twee verschillende tuples\n",
    "hash_1 = (1, 2, 3)\n",
    "hash_2 = (1, 2, 4)\n",
    "\n",
    "# hash van de tuples\n",
    "print(hash(hash_1))\n",
    "print(hash(hash_2))"
   ]
  },
  {
   "cell_type": "markdown",
   "id": "5d1cba55",
   "metadata": {},
   "source": [
    "## [Set](https://docs.python.org/3/library/functions.html#func-set)\n",
    "`set` is een **_mutable_** data container die alleen _immutable_ data kan vasthouden.  \n",
    "Een `set` is een data container die alleen unieke waardes bevat.  \n",
    "Een `set` kan alleen objecten bevatten die [gehashed](https://nl.wikipedia.org/wiki/Hashfunctie) kan worden.  "
   ]
  },
  {
   "cell_type": "code",
   "execution_count": null,
   "id": "42ba5fb2",
   "metadata": {},
   "outputs": [],
   "source": [
    "# een set heeft de volgende functies die gebruikt kan worden\n",
    "print([_ for _ in dir(set) if not _.startswith('_')])"
   ]
  },
  {
   "cell_type": "markdown",
   "id": "4394d57b",
   "metadata": {},
   "source": [
    "`add` voegt een enkel object toe aan de set.  \n",
    "`difference` geeft het verschil terug uit twee sets.  \n",
    "`pop` haalt een willekeurig object uit de set.  \n",
    "`update` voeg een andere set toe aan de set.  "
   ]
  },
  {
   "cell_type": "code",
   "execution_count": null,
   "id": "bffbfe0e",
   "metadata": {},
   "outputs": [],
   "source": [
    "lijst = [3, 2, 1, 'a', 'c', 'b']\n",
    "set_1 = set(lijst)  # convert lijst naar set\n",
    "\n",
    "print(set_1)"
   ]
  },
  {
   "cell_type": "code",
   "execution_count": null,
   "id": "ba1ee427",
   "metadata": {},
   "outputs": [],
   "source": [
    "set_2 = {1, 2, 3}   # maak een set \n",
    "diff_set_1 = set_1.difference(set_2)  # verschil van set_1 en set_2\n",
    "\n",
    "print(diff_set_1)"
   ]
  },
  {
   "cell_type": "code",
   "execution_count": null,
   "id": "6a46fbce",
   "metadata": {},
   "outputs": [],
   "source": [
    "set_2.add(2)\n",
    "\n",
    "print(set_2)"
   ]
  },
  {
   "cell_type": "code",
   "execution_count": null,
   "id": "d6a14aec",
   "metadata": {},
   "outputs": [],
   "source": [
    "set_3 = {5, 1, 4, 2, '3', 6}   # maak een set \n",
    "set_2.update(set_3)\n",
    "\n",
    "print(set_2)"
   ]
  },
  {
   "cell_type": "markdown",
   "id": "7f2f75f7-2ebb-431d-87ad-d7d17dbff19d",
   "metadata": {},
   "source": [
    "`update` geeft geen nieuwe set terug.  \n",
    "Soms is het wenselijk om twee set's bij elkaar toe te voegen en een nieuwe aan te maken.  \n",
    "Dit kan met een `|` ([union] operator)\n",
    "\n",
    "[union]: https://docs.python.org/3/library/stdtypes.html#frozenset.union"
   ]
  },
  {
   "cell_type": "code",
   "execution_count": null,
   "id": "c350b1b8-a807-4f77-adb7-f10b5566a7eb",
   "metadata": {},
   "outputs": [],
   "source": [
    "set_a = {'a'}\n",
    "set_b = set('ab')\n",
    "set_abc = set_a | set_b | set('c')\n",
    "\n",
    "print(set_abc)"
   ]
  },
  {
   "cell_type": "markdown",
   "id": "fb82bb53",
   "metadata": {},
   "source": [
    "## [Dict](https://docs.python.org/3/library/stdtypes.html#dict)\n",
    "`dict` is een **_mutable_** data container die _immutable_ data gebruikt om naar _mutable_ of _immutable_ data te verwijzen.  \n",
    "Een `dict` is een object met een _key-value pair_ data structuur.  \n",
    "Het is te vergelijken is met [JSON](https://nl.wikipedia.org/wiki/JSON).  \n",
    "\n",
    "In een dict kan de value elk Python object zijn.  \n",
    "In een dict kan de key alleen objecten bevatten die [gehashed](https://nl.wikipedia.org/wiki/Hashfunctie) kan worden.\n",
    "\n",
    "Een key-value pair kan vergeleken worden met een tafel in een database (excel sheet).  \n",
    "De kolommen zijn de _keys_ en de waarde er onder zijn de _values_ "
   ]
  },
  {
   "cell_type": "code",
   "execution_count": null,
   "id": "30816d41",
   "metadata": {},
   "outputs": [],
   "source": [
    "# een dict heeft de volgende functies die gebruikt kan worden\n",
    "print([_ for _ in dir(dict) if not _.startswith('_')])"
   ]
  },
  {
   "cell_type": "markdown",
   "id": "890d52b7",
   "metadata": {},
   "source": [
    "`keys` geeft een lijst met alle keys terug  \n",
    "`values` geeft een lijst met alle values terug  \n",
    "`get` geeft een value terug van de opgevraagde key  \n",
    "`items` geeft een lijst met de key-value paar in een tuple terug: `[('key', 'value'), ... ]`  \n",
    "`update` voeg een andere dict toe aan de dict, overschrijft de bestaande waardes.  "
   ]
  },
  {
   "cell_type": "code",
   "execution_count": null,
   "id": "261de293",
   "metadata": {},
   "outputs": [],
   "source": [
    "dict_1 = {'key1': 'value1', 2: 'two'}  # maak een dict aan\n",
    "dict_1[3] = 'three'  # voeg key  3  met value 'three'  toe aan de dict\n",
    "\n",
    "print(dict_1)"
   ]
  },
  {
   "cell_type": "code",
   "execution_count": null,
   "id": "9752cd56",
   "metadata": {},
   "outputs": [],
   "source": [
    "value = dict_1.get(4)  # vraag 4 op die niet in de dict bestaat\n",
    "\n",
    "print(value)"
   ]
  },
  {
   "cell_type": "code",
   "execution_count": null,
   "id": "d0534001",
   "metadata": {},
   "outputs": [],
   "source": [
    "dict_2 = {'key1': 'value from dict_2'}\n",
    "dict_1.update(dict_2)  # overschrijf de value van een bestaande `key1` met update\n",
    "\n",
    "print(dict_1)"
   ]
  },
  {
   "cell_type": "code",
   "execution_count": null,
   "id": "46a5acc6",
   "metadata": {},
   "outputs": [],
   "source": [
    "dict_1[2] = 'TWO'  # overschrijf met subscription \n",
    "\n",
    "print(dict_1)"
   ]
  },
  {
   "cell_type": "markdown",
   "id": "d214a919-53db-4280-a1b3-c51521f4711d",
   "metadata": {},
   "source": [
    "Soms is het wenselijk om twee dicts's bij elkaar toe te voegen en een nieuwe aan te maken.  \n",
    "Dit kan met een `|` ([union] operator)\n",
    "\n",
    "[union]: https://docs.python.org/3/library/stdtypes.html#dict.values"
   ]
  },
  {
   "cell_type": "code",
   "execution_count": null,
   "id": "99693942-065f-48cd-a743-0a257cd30c0e",
   "metadata": {},
   "outputs": [],
   "source": [
    "dict_a = {'a': 'A'}\n",
    "dict_b = dict(b='B')\n",
    "dict_abc = dict_a | dict_b | {'c': 'C'}  # mogenlijk sinds Python3.9\n",
    "\n",
    "print(dict_abc)"
   ]
  },
  {
   "cell_type": "markdown",
   "id": "499ff3e6",
   "metadata": {},
   "source": [
    "### Oefeningen Data containers\n",
    "De oefeningen vragen om de type van het object te testen met [`isinstance`].  \n",
    "`isintance` geeft een `True` of `False` terug.  \n",
    "Zie hieronder hoe deze functie gebruikt wordt.\n",
    "\n",
    "> `isintance(object, type)`\n",
    "\n",
    "[`isinstance`]: https://docs.python.org/3/library/functions.html#isinstance"
   ]
  },
  {
   "cell_type": "code",
   "execution_count": null,
   "id": "534fa1ef-5350-4078-9bff-99135fcc4be4",
   "metadata": {},
   "outputs": [],
   "source": [
    "# voorbeeld isinstance\n",
    "obj = 1\n",
    "print(isinstance(obj, int))"
   ]
  },
  {
   "cell_type": "markdown",
   "id": "3e27bc6a-0f3f-4856-965b-84c302a2967d",
   "metadata": {},
   "source": [
    "Maak een `list` aan en voeg er objecten aan toe.  \n",
    "Voeg andere objecten toe met `append`.  \n",
    "Check wat voor objecten de `list` heeft met `print`.  \n",
    "Check met `isinstance` of de `list` ook een `list` is.  "
   ]
  },
  {
   "cell_type": "code",
   "execution_count": null,
   "id": "6da0cb4b-2e7c-488b-8eba-c17db18ae585",
   "metadata": {},
   "outputs": [],
   "source": []
  },
  {
   "cell_type": "markdown",
   "id": "ba38c8c3-ccec-4bb3-8b38-1a36ca0ad59b",
   "metadata": {},
   "source": [
    "Maak een `tuple` aan met een paar objecten.  \n",
    "Voeg andere objecten toe aan de `tuple`.  \n",
    "Check wat voor objecten de `tuple` heeft met `print`.  \n",
    "Check met `isinstance` of de `tuple` ook een `tuple` is.  "
   ]
  },
  {
   "cell_type": "code",
   "execution_count": null,
   "id": "75332ba8-b58f-441f-9181-c25e74b1f8b3",
   "metadata": {},
   "outputs": [],
   "source": []
  },
  {
   "cell_type": "markdown",
   "id": "3a665533-760c-4127-8d88-e314f1f7dcb3",
   "metadata": {},
   "source": [
    "Maak een `set` aan met een paar objecten.  \n",
    "Voeg andere objecten toe aan de `set` met `add`.  \n",
    "Check wat voor objecten de `set` heeft met `print`.  \n",
    "Check met `isinstance` of de `set` ook een `set` is.  "
   ]
  },
  {
   "cell_type": "code",
   "execution_count": null,
   "id": "20c8cb39-ac90-4b45-bb24-f0b29b022f02",
   "metadata": {},
   "outputs": [],
   "source": []
  },
  {
   "cell_type": "markdown",
   "id": "7cade4eb-6dfd-4750-803d-5b76f3a48827",
   "metadata": {},
   "source": [
    "Maak een `dict` aan met een paar objecten.  \n",
    "Voeg andere objecten toe aan de `dict`.  \n",
    "Voeg andere objecten toe aan de `dict` met `update`.  \n",
    "Check wat voor objecten de `dict` heeft met `print`.  \n",
    "Check met `isinstance` of de `dict` ook een `dict` is.  "
   ]
  },
  {
   "cell_type": "code",
   "execution_count": null,
   "id": "27668040-419d-47ab-8b32-b3481dc8791c",
   "metadata": {},
   "outputs": [],
   "source": []
  },
  {
   "cell_type": "markdown",
   "id": "d533a2bc-15ed-4966-aa70-446edf93ff33",
   "metadata": {},
   "source": [
    "Schrijf Python code dat de volgende stappen bevat:\n",
    "1. maak een lijst aan met de naam lijst_1\n",
    "2. maak een lijst aan met de naam lijst_2 die lijst_1 bevat\n",
    "3. gebruik append om lijst_2 aan lijst_1 toe te voegen\n",
    "4. bekijk wat lijst_1 bevat"
   ]
  },
  {
   "cell_type": "code",
   "execution_count": null,
   "id": "a2011ee0-4483-4d90-98e3-130d8bc3d84a",
   "metadata": {},
   "outputs": [],
   "source": []
  }
 ],
 "metadata": {
  "kernelspec": {
   "display_name": "Python 3 (ipykernel)",
   "language": "python",
   "name": "python3"
  },
  "language_info": {
   "codemirror_mode": {
    "name": "ipython",
    "version": 3
   },
   "file_extension": ".py",
   "mimetype": "text/x-python",
   "name": "python",
   "nbconvert_exporter": "python",
   "pygments_lexer": "ipython3",
   "version": "3.10.6"
  }
 },
 "nbformat": 4,
 "nbformat_minor": 5
}
