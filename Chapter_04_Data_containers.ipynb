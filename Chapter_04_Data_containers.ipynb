{
 "cells": [
  {
   "cell_type": "markdown",
   "id": "3feb51cd",
   "metadata": {},
   "source": [
    "# Data containers\n",
    "---\n",
    "In Python zijn data containers objecten die een serie objecten in zich heeft.  \n",
    "\n",
    "Alle verschillende containers hebben andere eigenschappen.  \n",
    "Er zijn 2 kenmerken van data die de eigenschappen onderling de data containers bepalen.  \n",
    "_Immutable_ objecten: Data die niet aangepast kan worden, alleen overschreven.  \n",
    "_Mutable_ objecten: Data die aangepast kan worden.  \n",
    "\n",
    "De eerste positie in series zoals `list` `str` `tuple` is een 0"
   ]
  },
  {
   "cell_type": "markdown",
   "id": "4259b3cd",
   "metadata": {},
   "source": [
    "## [List](https://docs.python.org/3/library/stdtypes.html#typesseq-list)\n",
    "`list` is een **_mutable_** data container die _mutable_ en _immutable_ data kan vasthouden.  "
   ]
  },
  {
   "cell_type": "code",
   "execution_count": 1,
   "id": "6613fe66",
   "metadata": {},
   "outputs": [
    {
     "name": "stdout",
     "output_type": "stream",
     "text": [
      "['append', 'clear', 'copy', 'count', 'extend', 'index', 'insert', 'pop', 'remove', 'reverse', 'sort']\n"
     ]
    }
   ],
   "source": [
    "# een `list` heeft de volgende functies die gebruikt kan worden\n",
    "print([_ for _ in dir(list) if not _.startswith('_')])"
   ]
  },
  {
   "cell_type": "markdown",
   "id": "89119930",
   "metadata": {},
   "source": [
    "`append` voegt een enkel object toe aan de lijst.  \n",
    "`extend` voegt de objecten uit een ander gegeven lijst toe aan de lijst.  \n",
    "`index` zoekt het gegeven object in de lijst en geeft een nummer terug.  \n",
    "`pop` haalt een object uit een lijst.  "
   ]
  },
  {
   "cell_type": "code",
   "execution_count": 2,
   "id": "7421d79c",
   "metadata": {},
   "outputs": [
    {
     "data": {
      "text/plain": [
       "[1, 2, 3, 4]"
      ]
     },
     "execution_count": 2,
     "metadata": {},
     "output_type": "execute_result"
    }
   ],
   "source": [
    "lijst_1 = [1, 2, 3]\n",
    "lijst_1.append(4)   # voeg 4 toe aan lijst_1\n",
    "lijst_1"
   ]
  },
  {
   "cell_type": "code",
   "execution_count": 1,
   "id": "5d072d54",
   "metadata": {},
   "outputs": [
    {
     "data": {
      "text/plain": [
       "0"
      ]
     },
     "execution_count": 1,
     "metadata": {},
     "output_type": "execute_result"
    }
   ],
   "source": [
    "lijst_2 = ['a', 'b', 'c', 'a']\n",
    "index_a = lijst_2.index('a')  # vraag op waar de eerste 'a' in de lijst voorkomt\n",
    "index_a"
   ]
  },
  {
   "cell_type": "code",
   "execution_count": 4,
   "id": "f7caed50",
   "metadata": {},
   "outputs": [
    {
     "name": "stdout",
     "output_type": "stream",
     "text": [
      "'a' is ge-popped uit lijst_2\n"
     ]
    },
    {
     "data": {
      "text/plain": [
       "['b', 'c']"
      ]
     },
     "execution_count": 4,
     "metadata": {},
     "output_type": "execute_result"
    }
   ],
   "source": [
    "# haal het object op index 0 uit de lijst_2\n",
    "pop_0 = lijst_2.pop(0)\n",
    "print(f'{pop_0!r} is ge-popped uit lijst_2')\n",
    "lijst_2"
   ]
  },
  {
   "cell_type": "code",
   "execution_count": 5,
   "id": "7ceca01f",
   "metadata": {},
   "outputs": [
    {
     "data": {
      "text/plain": [
       "[1, 2, 3, 4, 9, 8.0, '7']"
      ]
     },
     "execution_count": 5,
     "metadata": {},
     "output_type": "execute_result"
    }
   ],
   "source": [
    "lijst_3 = [9, 8.0, '7']\n",
    "lijst_1.extend(lijst_3)   # voeg alle objecten van lijst_2 toe aan lijst_1\n",
    "lijst_1"
   ]
  },
  {
   "cell_type": "code",
   "execution_count": 6,
   "id": "f3066084",
   "metadata": {},
   "outputs": [
    {
     "data": {
      "text/plain": [
       "[1000, 2, 3, 4, 9, 8.0, '7']"
      ]
     },
     "execution_count": 6,
     "metadata": {},
     "output_type": "execute_result"
    }
   ],
   "source": [
    "lijst_1[0] = 1_000  # overschrijf het eerste object in de lijst_1 [0]\n",
    "lijst_1"
   ]
  },
  {
   "cell_type": "markdown",
   "id": "ad52d060",
   "metadata": {},
   "source": [
    "## [Tuple](https://docs.python.org/3/library/stdtypes.html#tuple)\n",
    "`tuple` is een **_immutable_** data container die _mutable_ en _immutable_ data kan vashouden.  \n",
    "Een tuple kan [gehashed](https://nl.wikipedia.org/wiki/Hashfunctie) worden tenzij een tuple een _immutable_ object bevat."
   ]
  },
  {
   "cell_type": "code",
   "execution_count": 7,
   "id": "c5413e61",
   "metadata": {},
   "outputs": [
    {
     "name": "stdout",
     "output_type": "stream",
     "text": [
      "['count', 'index']\n"
     ]
    }
   ],
   "source": [
    "# een tuple heeft de volgende functies die gebruikt kan worden\n",
    "print([_ for _ in dir(tuple) if not _.startswith('_')])"
   ]
  },
  {
   "cell_type": "markdown",
   "id": "c9208b91",
   "metadata": {},
   "source": [
    "`count` tel hoeveel het gegeven object voorkomt in de tuple  \n",
    "`index` zoekt het gegeven object in de tuple en geeft een nummer terug  "
   ]
  },
  {
   "cell_type": "code",
   "execution_count": 8,
   "id": "37283bff",
   "metadata": {},
   "outputs": [
    {
     "data": {
      "text/plain": [
       "('a', 'b', 'c', 1, 2, 3, 'a', 'b', 'c')"
      ]
     },
     "execution_count": 8,
     "metadata": {},
     "output_type": "execute_result"
    }
   ],
   "source": [
    "tuple_1 = (1, 2, 3)\n",
    "tuple_2 = ('a', 'b', 'c')\n",
    "tuple_3 = tuple_2 + tuple_1 + tuple_2   # voeg verschillende tuples aan elkaar toe om een nieuwe tuple te maken\n",
    "tuple_3"
   ]
  },
  {
   "cell_type": "code",
   "execution_count": 9,
   "id": "dcf52b62",
   "metadata": {},
   "outputs": [
    {
     "data": {
      "text/plain": [
       "1"
      ]
     },
     "execution_count": 9,
     "metadata": {},
     "output_type": "execute_result"
    }
   ],
   "source": [
    "# vraag op waar de eerste 2 staat in de tuple\n",
    "index_2 = tuple_1.index(2)\n",
    "index_2"
   ]
  },
  {
   "cell_type": "code",
   "execution_count": 10,
   "id": "0ea693dd",
   "metadata": {},
   "outputs": [
    {
     "data": {
      "text/plain": [
       "2"
      ]
     },
     "execution_count": 10,
     "metadata": {},
     "output_type": "execute_result"
    }
   ],
   "source": [
    "# hoe vaak komt 'a' in de tuple voor\n",
    "amount_a = tuple_3.count('a') \n",
    "amount_a"
   ]
  },
  {
   "cell_type": "code",
   "execution_count": 4,
   "id": "091bc511-2019-4404-946d-d11c373405db",
   "metadata": {},
   "outputs": [
    {
     "name": "stdout",
     "output_type": "stream",
     "text": [
      "529344067295497451\n",
      "-4363729961677198915\n"
     ]
    }
   ],
   "source": [
    "# hash een tuple\n",
    "print(hash((1, 2, 3)))\n",
    "print(hash((1, 2, 4)))"
   ]
  },
  {
   "cell_type": "markdown",
   "id": "5d1cba55",
   "metadata": {},
   "source": [
    "## [Set](https://docs.python.org/3/library/functions.html#func-set)\n",
    "`set` is een **_mutable_** data container die alleen _immutable_ data kan vasthouden.  \n",
    "Een `set` is een data container die alleen unieke waardes bevat.  \n",
    "Een `set` kan alleen objecten bevatten die [gehashed](https://nl.wikipedia.org/wiki/Hashfunctie) kan worden.  "
   ]
  },
  {
   "cell_type": "code",
   "execution_count": 11,
   "id": "42ba5fb2",
   "metadata": {},
   "outputs": [
    {
     "name": "stdout",
     "output_type": "stream",
     "text": [
      "['add', 'clear', 'copy', 'difference', 'difference_update', 'discard', 'intersection', 'intersection_update', 'isdisjoint', 'issubset', 'issuperset', 'pop', 'remove', 'symmetric_difference', 'symmetric_difference_update', 'union', 'update']\n"
     ]
    }
   ],
   "source": [
    "# een set heeft de volgende functies die gebruikt kan worden\n",
    "print([_ for _ in dir(set) if not _.startswith('_')])"
   ]
  },
  {
   "cell_type": "markdown",
   "id": "4394d57b",
   "metadata": {},
   "source": [
    "`add` voegt een enkel object toe aan de set.  \n",
    "`difference` geeft het verschil terug uit twee sets.  \n",
    "`pop` haalt een willekeurig object uit de set.  \n",
    "`update` voeg een andere set toe aan de set.  "
   ]
  },
  {
   "cell_type": "code",
   "execution_count": 12,
   "id": "bffbfe0e",
   "metadata": {},
   "outputs": [
    {
     "data": {
      "text/plain": [
       "{1, 2, 3, 'a', 'b', 'c'}"
      ]
     },
     "execution_count": 12,
     "metadata": {},
     "output_type": "execute_result"
    }
   ],
   "source": [
    "lijst = [3, 2, 1, 'a', 'c', 'b']\n",
    "set_1 = set(lijst)  # convert lijst naar set\n",
    "set_1"
   ]
  },
  {
   "cell_type": "code",
   "execution_count": 13,
   "id": "ba1ee427",
   "metadata": {},
   "outputs": [
    {
     "data": {
      "text/plain": [
       "{'a', 'b', 'c'}"
      ]
     },
     "execution_count": 13,
     "metadata": {},
     "output_type": "execute_result"
    }
   ],
   "source": [
    "set_2 = {1, 2, 3}   # maak een set \n",
    "diff_set_1 = set_1.difference(set_2)  # verschil van set_1 en set_2\n",
    "diff_set_1"
   ]
  },
  {
   "cell_type": "code",
   "execution_count": 14,
   "id": "6a46fbce",
   "metadata": {},
   "outputs": [
    {
     "data": {
      "text/plain": [
       "{1, 2, 3}"
      ]
     },
     "execution_count": 14,
     "metadata": {},
     "output_type": "execute_result"
    }
   ],
   "source": [
    "set_2.add(2)\n",
    "set_2"
   ]
  },
  {
   "cell_type": "code",
   "execution_count": 15,
   "id": "d6a14aec",
   "metadata": {},
   "outputs": [
    {
     "data": {
      "text/plain": [
       "{1, 2, 3, '3', 4, 5, 6}"
      ]
     },
     "execution_count": 15,
     "metadata": {},
     "output_type": "execute_result"
    }
   ],
   "source": [
    "set_3 = {5, 1, 4, 2, '3', 6}   # maak een set \n",
    "set_2.update(set_3)\n",
    "set_2"
   ]
  },
  {
   "cell_type": "markdown",
   "id": "fb82bb53",
   "metadata": {},
   "source": [
    "## [Dict](https://docs.python.org/3/library/stdtypes.html#dict)\n",
    "`dict` is een **_mutable_** data container die _immutable_ data gebruikt om naar _mutable_ of _immutable_ data te verwijzen.  \n",
    "Een `dict` is een object met een _key-value pair_ data structuur.  \n",
    "Het is te vergelijken is met [JSON](https://nl.wikipedia.org/wiki/JSON).  \n",
    "\n",
    "In een dict kan de value elk Python object zijn.  \n",
    "In een dict kan de key alleen objecten bevatten die [gehashed](https://nl.wikipedia.org/wiki/Hashfunctie) kan worden.\n",
    "\n",
    "Een key-value pair kan vergeleken worden met een tafel in een database (excel sheet).  \n",
    "De kolommen zijn de _keys_ en de waarde er onder zijn de _values_ "
   ]
  },
  {
   "cell_type": "code",
   "execution_count": 16,
   "id": "30816d41",
   "metadata": {},
   "outputs": [
    {
     "name": "stdout",
     "output_type": "stream",
     "text": [
      "['clear', 'copy', 'fromkeys', 'get', 'items', 'keys', 'pop', 'popitem', 'setdefault', 'update', 'values']\n"
     ]
    }
   ],
   "source": [
    "# een dict heeft de volgende functies die gebruikt kan worden\n",
    "print([_ for _ in dir(dict) if not _.startswith('_')])"
   ]
  },
  {
   "cell_type": "markdown",
   "id": "890d52b7",
   "metadata": {},
   "source": [
    "`keys` geeft een lijst met alle keys terug  \n",
    "`values` geeft een lijst met alle values terug  \n",
    "`get` geeft een value terug van de opgevraagde key  \n",
    "`items` geeft een lijst met de key-value paar in een tuple terug: `[('key', 'value'), ... ]`  \n",
    "`update` voeg een andere dict toe aan de dict, overschrijft de bestaande waardes.  "
   ]
  },
  {
   "cell_type": "code",
   "execution_count": 17,
   "id": "261de293",
   "metadata": {},
   "outputs": [
    {
     "data": {
      "text/plain": [
       "{'key1': 'value1', 2: 'two', 3: 'three'}"
      ]
     },
     "execution_count": 17,
     "metadata": {},
     "output_type": "execute_result"
    }
   ],
   "source": [
    "dict_1 = {'key1': 'value1', 2: 'two'}  # maak een dict aan\n",
    "dict_1[3] = 'three'  # voeg key  3  met value 'three'  toe aan de dict\n",
    "dict_1"
   ]
  },
  {
   "cell_type": "code",
   "execution_count": 18,
   "id": "9752cd56",
   "metadata": {},
   "outputs": [
    {
     "data": {
      "text/plain": [
       "'None'"
      ]
     },
     "execution_count": 18,
     "metadata": {},
     "output_type": "execute_result"
    }
   ],
   "source": [
    "value = dict_1.get(4)  # vraag 4 op die niet in de dict bestaat\n",
    "repr(value)  # `repr`esent de waarde"
   ]
  },
  {
   "cell_type": "code",
   "execution_count": 19,
   "id": "d0534001",
   "metadata": {},
   "outputs": [
    {
     "data": {
      "text/plain": [
       "{'key1': 'value from dict_2', 2: 'two', 3: 'three'}"
      ]
     },
     "execution_count": 19,
     "metadata": {},
     "output_type": "execute_result"
    }
   ],
   "source": [
    "dict_2 = {'key1': 'value from dict_2'}\n",
    "dict_1.update(dict_2)  # overschrijf de value van een bestaande `key1` met update\n",
    "dict_1"
   ]
  },
  {
   "cell_type": "code",
   "execution_count": 20,
   "id": "46a5acc6",
   "metadata": {},
   "outputs": [
    {
     "data": {
      "text/plain": [
       "{'key1': 'value from dict_2', 2: 'TWO', 3: 'three'}"
      ]
     },
     "execution_count": 20,
     "metadata": {},
     "output_type": "execute_result"
    }
   ],
   "source": [
    "dict_1[2] = 'TWO'  # overschrijf met subscription \n",
    "dict_1"
   ]
  },
  {
   "cell_type": "markdown",
   "id": "499ff3e6",
   "metadata": {},
   "source": [
    "### Oefeningen Data containers\n"
   ]
  },
  {
   "cell_type": "markdown",
   "id": "3e27bc6a-0f3f-4856-965b-84c302a2967d",
   "metadata": {},
   "source": [
    "Maak een `list` aan en voeg er objecten aan toe.  \n",
    "Voeg andere objecten toe met `append`.  \n",
    "Check wat voor objecten de `list` heeft met `print`.  \n",
    "Check met `isinstance` of de `list` ook een `list` is.  "
   ]
  },
  {
   "cell_type": "code",
   "execution_count": null,
   "id": "6da0cb4b-2e7c-488b-8eba-c17db18ae585",
   "metadata": {},
   "outputs": [],
   "source": []
  },
  {
   "cell_type": "markdown",
   "id": "ba38c8c3-ccec-4bb3-8b38-1a36ca0ad59b",
   "metadata": {},
   "source": [
    "Maak een `tuple` aan met een paar objecten.  \n",
    "Voeg andere objecten toe aan de `tuple`.  \n",
    "Check wat voor objecten de `tuple` heeft met `print`.  \n",
    "Check met `isinstance` of de `tuple` ook een `tuple` is.  "
   ]
  },
  {
   "cell_type": "code",
   "execution_count": null,
   "id": "75332ba8-b58f-441f-9181-c25e74b1f8b3",
   "metadata": {},
   "outputs": [],
   "source": []
  },
  {
   "cell_type": "markdown",
   "id": "3a665533-760c-4127-8d88-e314f1f7dcb3",
   "metadata": {},
   "source": [
    "Maak een `set` aan met een paar objecten.  \n",
    "Voeg andere objecten toe aan de `set` met `add`.  \n",
    "Check wat voor objecten de `set` heeft met `print`.  \n",
    "Check met `isinstance` of de `set` ook een `set` is.  "
   ]
  },
  {
   "cell_type": "code",
   "execution_count": null,
   "id": "20c8cb39-ac90-4b45-bb24-f0b29b022f02",
   "metadata": {},
   "outputs": [],
   "source": []
  },
  {
   "cell_type": "markdown",
   "id": "7cade4eb-6dfd-4750-803d-5b76f3a48827",
   "metadata": {},
   "source": [
    "Maak een `dict` aan met een paar objecten.  \n",
    "Voeg andere objecten toe aan de `dict`.  \n",
    "Voeg andere objecten toe aan de `dict` met `update`.  \n",
    "Check wat voor objecten de `dict` heeft met `print`.  \n",
    "Check met `isinstance` of de `dict` ook een `dict` is.  "
   ]
  },
  {
   "cell_type": "code",
   "execution_count": null,
   "id": "27668040-419d-47ab-8b32-b3481dc8791c",
   "metadata": {},
   "outputs": [],
   "source": []
  },
  {
   "cell_type": "markdown",
   "id": "d533a2bc-15ed-4966-aa70-446edf93ff33",
   "metadata": {},
   "source": [
    "Schrijf Python code dat de volgende stappen bevat:\n",
    "1. maak een lijst aan met de naam lijst_1\n",
    "2. maak een lijst aan met de naam lijst_2 die lijst_1 bevat\n",
    "3. gebruik append om lijst_2 aan lijst_1 toe te voegen\n",
    "4. bekijk wat lijst_1 bevat"
   ]
  },
  {
   "cell_type": "code",
   "execution_count": null,
   "id": "a2011ee0-4483-4d90-98e3-130d8bc3d84a",
   "metadata": {},
   "outputs": [],
   "source": []
  }
 ],
 "metadata": {
  "kernelspec": {
   "display_name": "Python 3 (ipykernel)",
   "language": "python",
   "name": "python3"
  },
  "language_info": {
   "codemirror_mode": {
    "name": "ipython",
    "version": 3
   },
   "file_extension": ".py",
   "mimetype": "text/x-python",
   "name": "python",
   "nbconvert_exporter": "python",
   "pygments_lexer": "ipython3",
   "version": "3.9.6"
  }
 },
 "nbformat": 4,
 "nbformat_minor": 5
}
