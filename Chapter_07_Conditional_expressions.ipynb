{
 "cells": [
  {
   "cell_type": "markdown",
   "metadata": {
    "pycharm": {
     "name": "#%% md\n"
    }
   },
   "source": [
    "# Conditional expressions\n",
    "_flow control_ statements.  \n",
    "`if`  \n",
    "`elif`  \n",
    "`else`  \n",
    "\n",
    "Een `if` statement begint altijd met `if`.    \n",
    "Kan meerdere `elif` bevatten.  \n",
    "En eindigt met een `else` als dit nodig is.  \n"
   ]
  },
  {
   "cell_type": "markdown",
   "metadata": {},
   "source": [
    "Een `if` statement maakt een splitsing in de code.  \n",
    "De code komt in het `if` _code block_ als de expressie waar is."
   ]
  },
  {
   "cell_type": "code",
   "execution_count": null,
   "metadata": {
    "collapsed": false,
    "jupyter": {
     "outputs_hidden": false
    },
    "pycharm": {
     "name": "#%%\n"
    }
   },
   "outputs": [],
   "source": [
    "num = 5\n",
    "\n",
    "# alleen als num tussen 0 en 10 is ...\n",
    "if 0 <= num < 10:\n",
    "    add = 10 - num  # bereken hoeveel toe te voegen tot 10\n",
    "    print(f'{num} + {add} = 10')\n",
    "    num += add  # tel het nummer erbij op om 10 te krijgen\n",
    "\n",
    "print(num)"
   ]
  },
  {
   "cell_type": "markdown",
   "metadata": {
    "pycharm": {
     "name": "#%% md\n"
    }
   },
   "source": [
    "De code komt in een `else` _code block_ als de expressie(s) ervoor een `False` zijn."
   ]
  },
  {
   "cell_type": "code",
   "execution_count": null,
   "metadata": {
    "collapsed": false,
    "jupyter": {
     "outputs_hidden": false
    },
    "pycharm": {
     "name": "#%%\n"
    }
   },
   "outputs": [],
   "source": [
    "num = 15\n",
    "\n",
    "# alleen als num tussen 0 en 10 is ...\n",
    "if 0 <= num < 10:\n",
    "    add = 10 - num  # bereken hoeveel toe te voegen tot 10\n",
    "    print(f'{num} + {add} = 10')\n",
    "    num += add  # tel het nummer erbij op om 10 te krijgen\n",
    "else:\n",
    "    print(f'num is  groter dan 10: {num}')\n",
    "\n",
    "print(num)"
   ]
  },
  {
   "cell_type": "markdown",
   "metadata": {
    "pycharm": {
     "name": "#%% md\n"
    }
   },
   "source": [
    "Met een `if elif` statement kan er meerdere expressies gemaakt worden.  \n",
    "De statements worden van `if`, `elif` naar `else` gevolgd.  \n",
    "Dus als een `if` of `elif` expressie waar is worden andere `elif` statements niet meer gechecked.  \n",
    "Weredom, als alles een `False` is komt de code in het `else` _code block_.  "
   ]
  },
  {
   "cell_type": "code",
   "execution_count": null,
   "metadata": {
    "collapsed": false,
    "jupyter": {
     "outputs_hidden": false
    },
    "pycharm": {
     "name": "#%%\n"
    }
   },
   "outputs": [],
   "source": [
    "num = 25\n",
    "\n",
    "# alleen als num tussen 0 en 10 is ...\n",
    "if 0 <= num < 10:\n",
    "    add = 10 - num  # bereken hoeveel toe te voegen tot 10\n",
    "    print(f'{num} + {add} = 10')\n",
    "    num += add  # tel het nummer erbij op om 10 te krijgen\n",
    "\n",
    "# of alleen als num groter is dan 10 ...\n",
    "elif num >= 10:\n",
    "    sub = num - 10  # bereken hoeveel er af te halen\n",
    "    print(f'{num} - {sub} = 10')\n",
    "    num -= sub  # haal het nummer er af op 10 te krijgen\n",
    "\n",
    "# num is negatief.\n",
    "else:\n",
    "    print(f'num is negatief: {num}')\n",
    "    \n",
    "print(num)"
   ]
  },
  {
   "cell_type": "markdown",
   "metadata": {
    "pycharm": {
     "name": "#%% md\n"
    }
   },
   "source": [
    "### Oefeningen Conditional expressions\n",
    "\n"
   ]
  },
  {
   "cell_type": "markdown",
   "metadata": {},
   "source": [
    "Maak een `if` `else` blok wat checkt of het `dag` variable een dag bevat dat in het weekend valt.  \n",
    "Zodra de `dag` in het weekend valt zet de `is_weekend` variable op `True`, zo niet dan `False`.  \n",
    "\n",
    "Vul hieronder de code aan.  "
   ]
  },
  {
   "cell_type": "code",
   "execution_count": null,
   "metadata": {},
   "outputs": [],
   "source": [
    "is_weekend = None  # bool\n",
    "dag = \"maandag\"  # verander dit naar een andere dag\n",
    "\n",
    "# Verwijder dit blok commentaar \n",
    "#   en maak hier logica dat bepaald of de `dag` in het weekend valt.\n",
    "# \n",
    "# if\n",
    "# \n",
    "# else \n",
    "\n",
    "print(is_weekend)\n"
   ]
  },
  {
   "cell_type": "code",
   "execution_count": null,
   "metadata": {},
   "outputs": [],
   "source": []
  }
 ],
 "metadata": {
  "kernelspec": {
   "display_name": "Python 3 (ipykernel)",
   "language": "python",
   "name": "python3"
  },
  "language_info": {
   "codemirror_mode": {
    "name": "ipython",
    "version": 3
   },
   "file_extension": ".py",
   "mimetype": "text/x-python",
   "name": "python",
   "nbconvert_exporter": "python",
   "pygments_lexer": "ipython3",
   "version": "3.10.6"
  }
 },
 "nbformat": 4,
 "nbformat_minor": 4
}
