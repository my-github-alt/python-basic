{
 "cells": [
  {
   "cell_type": "markdown",
   "metadata": {
    "pycharm": {
     "name": "#%% md\n"
    }
   },
   "source": [
    "# Importing modules\n",
    "`import` ...  \n",
    "`from` ... `import` ...  \n",
    "`import` ... `as` ...  \n",
    "`from` ... `import` ... `as` ...  \n",
    "\n",
    "Python komt met een enorme hoop [modules].  \n",
    "Voordat de code in deze modules gebruikt kan worden moet het in het script worden geimporteerd.  \n",
    "Het importeren van modules kan op een paar verschillende manieren.\n",
    "\n",
    "[modules]: https://docs.python.org/3/py-modindex.html"
   ]
  },
  {
   "cell_type": "markdown",
   "metadata": {},
   "source": [
    "Het is mogenlijk om een volledige module te importeren.  \n",
    "Op deze manier kan alle objecten in die module gebruikt worden in het script.  "
   ]
  },
  {
   "cell_type": "code",
   "execution_count": null,
   "metadata": {
    "collapsed": true,
    "jupyter": {
     "outputs_hidden": true
    },
    "pycharm": {
     "name": "#%%\n"
    }
   },
   "outputs": [],
   "source": [
    "# importeer de module time \n",
    "import time \n",
    "\n",
    "# vraag de huidige tijd op \n",
    "time_before = time.asctime() \n",
    "\n",
    "# wacht voor 3 seconden en vraag opnieuw de tijd op \n",
    "time.sleep(3) \n",
    "time_after = time.asctime() \n",
    "\n",
    "# print de tijden \n",
    "print(time_before) \n",
    "print(time_after) "
   ]
  },
  {
   "cell_type": "markdown",
   "metadata": {
    "pycharm": {
     "name": "#%% md\n"
    }
   },
   "source": [
    "Er kan ook specifiek aangegeven worden wat je wil importeren uit een module.  \n",
    "Op deze manier wordt wat je heb geimporteerd direct aan de huidige namespace toegevoegd. "
   ]
  },
  {
   "cell_type": "code",
   "execution_count": null,
   "metadata": {
    "collapsed": true,
    "jupyter": {
     "outputs_hidden": true
    },
    "pycharm": {
     "name": "#%%\n"
    }
   },
   "outputs": [],
   "source": [
    "# van module: math, importeer pi en tau \n",
    "from math import pi, tau \n",
    "\n",
    "# check dat 2 * pi gelijk is aan tau \n",
    "assert 2 * pi == tau, \"error msg: 2 * pi is niet gelijk aan tau\" "
   ]
  },
  {
   "cell_type": "markdown",
   "metadata": {
    "pycharm": {
     "name": "#%% md\n"
    }
   },
   "source": [
    "Ook kan je code importeren en gelijk een andere naam gegven voor in de namespace geven.  \n",
    "hiervoor gebruik je het keyword `as`.  "
   ]
  },
  {
   "cell_type": "code",
   "execution_count": null,
   "metadata": {
    "collapsed": true,
    "jupyter": {
     "outputs_hidden": true
    },
    "pycharm": {
     "name": "#%%\n"
    }
   },
   "outputs": [],
   "source": [
    "from pprint import pprint \n",
    "\n",
    "# ascii_lowercase is hernoemd naar alphabet \n",
    "from string import ascii_lowercase as alphabet \n",
    "\n",
    "# pretty-print een lijst met letters \n",
    "pprint(list(alphabet)) "
   ]
  },
  {
   "cell_type": "markdown",
   "metadata": {},
   "source": [
    "### Oefeningen Importing modules\n",
    "Bekijk de modules van Python op deze website:  \n",
    "https://docs.python.org/3/py-modindex.html   \n",
    "\n",
    "Een greep uit de lijst van modules:  \n",
    "[csv](https://docs.python.org/3/library/csv.html) - lezen en schrijven van Comma Separated Values (CSV) files.  \n",
    "[datetime](https://docs.python.org/3/library/datetime.html) - tijd en datum manipulatie.  \n",
    "[logging](https://docs.python.org/3/library/logging.html) - schrijf debug informatie en errors naar een file.  \n",
    "[pathlib](https://docs.python.org/3/library/pathlib.html) - _cross platform_ file navigatie, gebruiksvriendelijker dan os.path  \n",
    "[tempfile](https://docs.python.org/3/library/tempfile.html) - maak een tijdelijke file aan die na gebruik zichzelf deletet.  \n",
    "\n",
    "Test modules van python:  \n",
    "[doctest](https://docs.python.org/3/library/doctest.html) - een unittest module waar documentatie van de functie de test bevat.  \n",
    "[unittest](https://docs.python.org/3/library/unittest.html) - de unittest module (gebaseerd op Java's JUnit).  \n",
    "\n",
    "\n",
    "Bekijk wat `import this` doet"
   ]
  }
 ],
 "metadata": {
  "kernelspec": {
   "display_name": "Python 3 (ipykernel)",
   "language": "python",
   "name": "python3"
  },
  "language_info": {
   "codemirror_mode": {
    "name": "ipython",
    "version": 3
   },
   "file_extension": ".py",
   "mimetype": "text/x-python",
   "name": "python",
   "nbconvert_exporter": "python",
   "pygments_lexer": "ipython3",
   "version": "3.10.6"
  }
 },
 "nbformat": 4,
 "nbformat_minor": 4
}
